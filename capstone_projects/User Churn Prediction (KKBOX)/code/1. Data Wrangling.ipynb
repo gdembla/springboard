{
 "cells": [
  {
   "cell_type": "code",
   "execution_count": 2,
   "metadata": {},
   "outputs": [
    {
     "name": "stdout",
     "output_type": "stream",
     "text": [
      "\n",
      "Automagic is ON, % prefix IS NOT needed for line magics.\n"
     ]
    }
   ],
   "source": [
    "%automagic"
   ]
  },
  {
   "cell_type": "code",
   "execution_count": 1,
   "metadata": {},
   "outputs": [],
   "source": [
    "# import relevant packages\n",
    "\n",
    "import numpy as np\n",
    "import math\n",
    "import pandas as pd\n",
    "import matplotlib.pyplot as plt\n",
    "import seaborn as sns\n",
    "\n",
    "# set up data directory\n",
    "\n",
    "dirData = \"data/\"\n",
    "\n",
    "# initialize input/output file names and paths to be used\n",
    "\n",
    "fileInputTrn = 'download/train.csv'\n",
    "fileInputTrx = 'download/transactions.csv'\n",
    "fileInputReg = 'download/members_v3.csv'\n",
    "fileInputUsg = 'download/user_logs.csv'\n",
    "\n",
    "fileSampleTrn = 'sample/trn_smpl.csv'\n",
    "fileSampleTrx = 'sample/trx_smpl.csv'\n",
    "fileSampleReg = 'sample/reg_smpl.csv'\n",
    "fileSampleUsg = 'sample/usg_smpl.csv'\n",
    "\n",
    "fileCleanTrx = 'trx_clean.csv'\n",
    "fileCleanReg = 'reg_clean.csv'\n",
    "fileCleanUsg = 'usg_daily_clean.csv'\n",
    "fileDates = 'dates.csv'\n",
    "\n",
    "fileLastTrx = 'last_trx.csv'\n",
    "fileUsgAggLifetime = 'usg_agg_lifetime.csv'\n",
    "fileUsgAggPeriods = 'usg_agg_periods.csv'\n",
    "\n",
    "fileDnrm = 'denorm_data.csv'"
   ]
  },
  {
   "cell_type": "code",
   "execution_count": 2,
   "metadata": {},
   "outputs": [],
   "source": [
    "# a demo user used to see sample data along the transformations\n",
    "\n",
    "demUsr = '3Jyl3B1cP+CYYgpEZRDwq5huDkB9qfNOqq3Lt1JYfXE='"
   ]
  },
  {
   "cell_type": "markdown",
   "metadata": {},
   "source": [
    "## Data Sampling"
   ]
  },
  {
   "cell_type": "markdown",
   "metadata": {},
   "source": [
    "Since the usage data is way too huge for PC memory to store in pandas dataframe, I am randomly sampling it down to a manageable set."
   ]
  },
  {
   "cell_type": "code",
   "execution_count": 2,
   "metadata": {},
   "outputs": [],
   "source": [
    "# sample size - number of users from ~1mn users available in training dataset\n",
    "# to restrict the data analysis and training model on\n",
    "\n",
    "nSample = 150000"
   ]
  },
  {
   "cell_type": "code",
   "execution_count": 3,
   "metadata": {},
   "outputs": [],
   "source": [
    "# generate sample users out of training dataset - labeled data having churn behavior\n",
    "\n",
    "dfInputTrn = pd.read_csv(\"{}/{}\".format(dirData, fileInputTrn))\n",
    "dfInputTrn.columns = ['msno','churn']\n",
    "\n",
    "train = dfInputTrn.sample(nSample, random_state=101)\n",
    "\n",
    "# dump into a file for later use\n",
    "\n",
    "train.to_csv(\"{}/{}\".format(dirData, fileSampleTrn), index=False)\n",
    "\n",
    "# delete the dataframe to free up memory\n",
    "\n",
    "del(dfInputTrn)"
   ]
  },
  {
   "cell_type": "code",
   "execution_count": 5,
   "metadata": {},
   "outputs": [],
   "source": [
    "# extract sample subscription/sales transactions for users in scope (i.e. in sample labeled dataset)\n",
    "\n",
    "trx = pd.read_csv(\"{}/{}\".format(dirData, fileInputTrx), parse_dates=['transaction_date','membership_expire_date'])\n",
    "trx = pd.merge(trx, train, on='msno', how='inner')\n",
    "trx.columns = ['msno', 'payMethod', 'planTerm', 'planListPrice', 'paidAmt', 'autoRenew',\n",
    "               'trxDate', 'expDate', 'cancel', 'churn']\n",
    "\n",
    "# dump into a file for later use\n",
    "\n",
    "trx.to_csv(\"{}/{}\".format(dirData, fileSampleTrx), index=False)\n",
    "\n",
    "# takes 10 min to run through, yielding 2.4mn records out of 22mn transactions"
   ]
  },
  {
   "cell_type": "code",
   "execution_count": 9,
   "metadata": {},
   "outputs": [],
   "source": [
    "# extract sample registration/membership data for users in scope (i.e. in sample labeled data)\n",
    "\n",
    "reg = pd.read_csv(\"{}/{}\".format(dirData, fileInputReg), parse_dates=['registration_init_time'])\n",
    "reg.columns = ['msno', 'city', 'userAge', 'gender', 'regSrc','regDate']\n",
    "\n",
    "reg = pd.merge(reg, train, on='msno', how='inner')\n",
    "\n",
    "# dump into a file for later use\n",
    "\n",
    "reg.to_csv(\"{}/{}\".format(dirData, fileSampleReg), index=False)\n",
    "\n",
    "# takes 1 min to run through, yielding 132k records out of 7mn registrations\n",
    "# notice that we do not have registration data available for all the 150k users - 18k users are missing"
   ]
  },
  {
   "cell_type": "code",
   "execution_count": 12,
   "metadata": {
    "scrolled": true
   },
   "outputs": [
    {
     "name": "stdout",
     "output_type": "stream",
     "text": [
      "5 iteration done; moving on...\n",
      "10 iteration done; moving on...\n",
      "15 iteration done; moving on...\n",
      "20 iteration done; moving on...\n",
      "25 iteration done; moving on...\n",
      "30 iteration done; moving on...\n",
      "35 iteration done; moving on...\n",
      "40 iteration done; moving on...\n",
      "45 iteration done; moving on...\n",
      "50 iteration done; moving on...\n",
      "55 iteration done; moving on...\n",
      "60 iteration done; moving on...\n",
      "65 iteration done; moving on...\n",
      "70 iteration done; moving on...\n",
      "75 iteration done; moving on...\n",
      "Data sampling finished.\n",
      "Starting with data dumping...\n",
      "Data dumping completed.\n"
     ]
    }
   ],
   "source": [
    "# extract sample daily usage data for users in scope (i.e. in sample labeled data)\n",
    "\n",
    "# chunksize of 5mn not causing any memory shortage problems while processing\n",
    "FileReader = pd.read_csv(\"{}/{}\".format(dirData, fileInputUsg), chunksize=5000000, parse_dates=['date'])\n",
    "\n",
    "# create a loop to iterate over 400mn usage dataset\n",
    "\n",
    "n = 1\n",
    "\n",
    "for chdf in FileReader:\n",
    "    \n",
    "    chdf = pd.merge(chdf, train, on='msno', how='inner')\n",
    "    chdf['total_secs'] = chdf['total_secs'].round().astype(int)\n",
    "    \n",
    "    if n==1:\n",
    "        df = chdf.copy()\n",
    "    else:\n",
    "        df = pd.concat([df, chdf], axis=0, sort=False)\n",
    "    \n",
    "    if n%5==0: print(\"{} iteration done; moving on...\".format(n))\n",
    "    \n",
    "    n += 1\n",
    "\n",
    "print(\"Data sampling finished.\")\n",
    "print(\"Starting with data dumping...\")\n",
    "\n",
    "# dump into a file for later use\n",
    "\n",
    "df.sort_values(['msno','date']).to_csv(\"{}/{}\".format(dirData, fileSampleUsg), index=False)\n",
    "\n",
    "print(\"Data dumping completed.\")\n",
    "\n",
    "# takes around 1.5 hrs to run through, yielding 37mn records out of 400mn usage data"
   ]
  },
  {
   "cell_type": "markdown",
   "metadata": {},
   "source": [
    "## Data Quality"
   ]
  },
  {
   "cell_type": "markdown",
   "metadata": {},
   "source": [
    "### Sample Data Extraction"
   ]
  },
  {
   "cell_type": "code",
   "execution_count": 3,
   "metadata": {},
   "outputs": [
    {
     "data": {
      "text/html": [
       "<div>\n",
       "<style scoped>\n",
       "    .dataframe tbody tr th:only-of-type {\n",
       "        vertical-align: middle;\n",
       "    }\n",
       "\n",
       "    .dataframe tbody tr th {\n",
       "        vertical-align: top;\n",
       "    }\n",
       "\n",
       "    .dataframe thead th {\n",
       "        text-align: right;\n",
       "    }\n",
       "</style>\n",
       "<table border=\"1\" class=\"dataframe\">\n",
       "  <thead>\n",
       "    <tr style=\"text-align: right;\">\n",
       "      <th></th>\n",
       "      <th>msno</th>\n",
       "      <th>churn</th>\n",
       "    </tr>\n",
       "  </thead>\n",
       "  <tbody>\n",
       "    <tr>\n",
       "      <th>0</th>\n",
       "      <td>6zAmmLkBpc1IOiXONsdDrMXyD4gvnvpWisFc810jbjE=</td>\n",
       "      <td>0</td>\n",
       "    </tr>\n",
       "    <tr>\n",
       "      <th>1</th>\n",
       "      <td>+ATq+FuiI5u1H1lipgStq8k7vx+bfcLYmGmucjVjyiI=</td>\n",
       "      <td>0</td>\n",
       "    </tr>\n",
       "  </tbody>\n",
       "</table>\n",
       "</div>"
      ],
      "text/plain": [
       "                                           msno  churn\n",
       "0  6zAmmLkBpc1IOiXONsdDrMXyD4gvnvpWisFc810jbjE=      0\n",
       "1  +ATq+FuiI5u1H1lipgStq8k7vx+bfcLYmGmucjVjyiI=      0"
      ]
     },
     "execution_count": 3,
     "metadata": {},
     "output_type": "execute_result"
    }
   ],
   "source": [
    "# extract sample users in scope of data analysis/model training\n",
    "\n",
    "train = pd.read_csv(\"{}/{}\".format(dirData, fileSampleTrn))\n",
    "train.head(2)"
   ]
  },
  {
   "cell_type": "code",
   "execution_count": 4,
   "metadata": {},
   "outputs": [
    {
     "data": {
      "text/plain": [
       "0    0.935687\n",
       "1    0.064313\n",
       "Name: churn, dtype: float64"
      ]
     },
     "execution_count": 4,
     "metadata": {},
     "output_type": "execute_result"
    }
   ],
   "source": [
    "# distribution of churn vs. renew users in sample labeled dataset\n",
    "\n",
    "train['churn'].value_counts(normalize=True)"
   ]
  },
  {
   "cell_type": "code",
   "execution_count": 5,
   "metadata": {},
   "outputs": [],
   "source": [
    "# extract raw subscription transactions for sample users\n",
    "\n",
    "trx = pd.read_csv(\"{}/{}\".format(dirData, fileSampleTrx), parse_dates=['trxDate','expDate'])"
   ]
  },
  {
   "cell_type": "code",
   "execution_count": 6,
   "metadata": {
    "scrolled": false
   },
   "outputs": [
    {
     "data": {
      "text/html": [
       "<div>\n",
       "<style scoped>\n",
       "    .dataframe tbody tr th:only-of-type {\n",
       "        vertical-align: middle;\n",
       "    }\n",
       "\n",
       "    .dataframe tbody tr th {\n",
       "        vertical-align: top;\n",
       "    }\n",
       "\n",
       "    .dataframe thead th {\n",
       "        text-align: right;\n",
       "    }\n",
       "</style>\n",
       "<table border=\"1\" class=\"dataframe\">\n",
       "  <thead>\n",
       "    <tr style=\"text-align: right;\">\n",
       "      <th></th>\n",
       "      <th>msno</th>\n",
       "      <th>payMethod</th>\n",
       "      <th>planTerm</th>\n",
       "      <th>planListPrice</th>\n",
       "      <th>paidAmt</th>\n",
       "      <th>autoRenew</th>\n",
       "      <th>trxDate</th>\n",
       "      <th>expDate</th>\n",
       "      <th>cancel</th>\n",
       "      <th>churn</th>\n",
       "    </tr>\n",
       "  </thead>\n",
       "  <tbody>\n",
       "    <tr>\n",
       "      <th>1485772</th>\n",
       "      <td>3Jyl3B1cP+CYYgpEZRDwq5huDkB9qfNOqq3Lt1JYfXE=</td>\n",
       "      <td>41</td>\n",
       "      <td>30</td>\n",
       "      <td>99</td>\n",
       "      <td>99</td>\n",
       "      <td>1</td>\n",
       "      <td>2016-03-14</td>\n",
       "      <td>2016-04-13</td>\n",
       "      <td>0</td>\n",
       "      <td>0</td>\n",
       "    </tr>\n",
       "    <tr>\n",
       "      <th>1485778</th>\n",
       "      <td>3Jyl3B1cP+CYYgpEZRDwq5huDkB9qfNOqq3Lt1JYfXE=</td>\n",
       "      <td>41</td>\n",
       "      <td>30</td>\n",
       "      <td>99</td>\n",
       "      <td>99</td>\n",
       "      <td>1</td>\n",
       "      <td>2016-04-13</td>\n",
       "      <td>2016-05-13</td>\n",
       "      <td>0</td>\n",
       "      <td>0</td>\n",
       "    </tr>\n",
       "    <tr>\n",
       "      <th>1485773</th>\n",
       "      <td>3Jyl3B1cP+CYYgpEZRDwq5huDkB9qfNOqq3Lt1JYfXE=</td>\n",
       "      <td>41</td>\n",
       "      <td>30</td>\n",
       "      <td>99</td>\n",
       "      <td>99</td>\n",
       "      <td>1</td>\n",
       "      <td>2016-05-13</td>\n",
       "      <td>2016-06-13</td>\n",
       "      <td>0</td>\n",
       "      <td>0</td>\n",
       "    </tr>\n",
       "  </tbody>\n",
       "</table>\n",
       "</div>"
      ],
      "text/plain": [
       "                                                 msno  payMethod  planTerm  \\\n",
       "1485772  3Jyl3B1cP+CYYgpEZRDwq5huDkB9qfNOqq3Lt1JYfXE=         41        30   \n",
       "1485778  3Jyl3B1cP+CYYgpEZRDwq5huDkB9qfNOqq3Lt1JYfXE=         41        30   \n",
       "1485773  3Jyl3B1cP+CYYgpEZRDwq5huDkB9qfNOqq3Lt1JYfXE=         41        30   \n",
       "\n",
       "         planListPrice  paidAmt  autoRenew    trxDate    expDate  cancel  \\\n",
       "1485772             99       99          1 2016-03-14 2016-04-13       0   \n",
       "1485778             99       99          1 2016-04-13 2016-05-13       0   \n",
       "1485773             99       99          1 2016-05-13 2016-06-13       0   \n",
       "\n",
       "         churn  \n",
       "1485772      0  \n",
       "1485778      0  \n",
       "1485773      0  "
      ]
     },
     "execution_count": 6,
     "metadata": {},
     "output_type": "execute_result"
    }
   ],
   "source": [
    "trx[trx['msno']==demUsr].sort_values(['trxDate','expDate']).head(3)"
   ]
  },
  {
   "cell_type": "code",
   "execution_count": 7,
   "metadata": {
    "scrolled": true
   },
   "outputs": [],
   "source": [
    "# extract raw registration/membership data for sample users\n",
    "\n",
    "reg = pd.read_csv(\"{}/{}\".format(dirData, fileSampleReg), parse_dates=['regDate'])"
   ]
  },
  {
   "cell_type": "code",
   "execution_count": 8,
   "metadata": {
    "scrolled": true
   },
   "outputs": [
    {
     "data": {
      "text/html": [
       "<div>\n",
       "<style scoped>\n",
       "    .dataframe tbody tr th:only-of-type {\n",
       "        vertical-align: middle;\n",
       "    }\n",
       "\n",
       "    .dataframe tbody tr th {\n",
       "        vertical-align: top;\n",
       "    }\n",
       "\n",
       "    .dataframe thead th {\n",
       "        text-align: right;\n",
       "    }\n",
       "</style>\n",
       "<table border=\"1\" class=\"dataframe\">\n",
       "  <thead>\n",
       "    <tr style=\"text-align: right;\">\n",
       "      <th></th>\n",
       "      <th>msno</th>\n",
       "      <th>city</th>\n",
       "      <th>userAge</th>\n",
       "      <th>gender</th>\n",
       "      <th>regSrc</th>\n",
       "      <th>regDate</th>\n",
       "      <th>churn</th>\n",
       "    </tr>\n",
       "  </thead>\n",
       "  <tbody>\n",
       "    <tr>\n",
       "      <th>46834</th>\n",
       "      <td>3Jyl3B1cP+CYYgpEZRDwq5huDkB9qfNOqq3Lt1JYfXE=</td>\n",
       "      <td>6</td>\n",
       "      <td>47</td>\n",
       "      <td>female</td>\n",
       "      <td>7</td>\n",
       "      <td>2013-05-15</td>\n",
       "      <td>0</td>\n",
       "    </tr>\n",
       "  </tbody>\n",
       "</table>\n",
       "</div>"
      ],
      "text/plain": [
       "                                               msno  city  userAge  gender  \\\n",
       "46834  3Jyl3B1cP+CYYgpEZRDwq5huDkB9qfNOqq3Lt1JYfXE=     6       47  female   \n",
       "\n",
       "       regSrc    regDate  churn  \n",
       "46834       7 2013-05-15      0  "
      ]
     },
     "execution_count": 8,
     "metadata": {},
     "output_type": "execute_result"
    }
   ],
   "source": [
    "reg[reg['msno']==demUsr]"
   ]
  },
  {
   "cell_type": "code",
   "execution_count": 3,
   "metadata": {},
   "outputs": [
    {
     "data": {
      "text/html": [
       "<div>\n",
       "<style scoped>\n",
       "    .dataframe tbody tr th:only-of-type {\n",
       "        vertical-align: middle;\n",
       "    }\n",
       "\n",
       "    .dataframe tbody tr th {\n",
       "        vertical-align: top;\n",
       "    }\n",
       "\n",
       "    .dataframe thead th {\n",
       "        text-align: right;\n",
       "    }\n",
       "</style>\n",
       "<table border=\"1\" class=\"dataframe\">\n",
       "  <thead>\n",
       "    <tr style=\"text-align: right;\">\n",
       "      <th></th>\n",
       "      <th>msno</th>\n",
       "      <th>date</th>\n",
       "      <th>num_25</th>\n",
       "      <th>num_50</th>\n",
       "      <th>num_75</th>\n",
       "      <th>num_985</th>\n",
       "      <th>num_100</th>\n",
       "      <th>num_unq</th>\n",
       "      <th>total_secs</th>\n",
       "      <th>churn</th>\n",
       "    </tr>\n",
       "  </thead>\n",
       "  <tbody>\n",
       "    <tr>\n",
       "      <th>0</th>\n",
       "      <td>+++snpr7pmobhLKUgSHTv/mpkqgBT0tQJ0zQj6qKrqc=</td>\n",
       "      <td>2015-01-01</td>\n",
       "      <td>3</td>\n",
       "      <td>3</td>\n",
       "      <td>2</td>\n",
       "      <td>2</td>\n",
       "      <td>6</td>\n",
       "      <td>16</td>\n",
       "      <td>2269</td>\n",
       "      <td>0</td>\n",
       "    </tr>\n",
       "    <tr>\n",
       "      <th>1</th>\n",
       "      <td>+++snpr7pmobhLKUgSHTv/mpkqgBT0tQJ0zQj6qKrqc=</td>\n",
       "      <td>2015-01-02</td>\n",
       "      <td>11</td>\n",
       "      <td>1</td>\n",
       "      <td>2</td>\n",
       "      <td>3</td>\n",
       "      <td>15</td>\n",
       "      <td>26</td>\n",
       "      <td>5174</td>\n",
       "      <td>0</td>\n",
       "    </tr>\n",
       "  </tbody>\n",
       "</table>\n",
       "</div>"
      ],
      "text/plain": [
       "                                           msno       date  num_25  num_50  \\\n",
       "0  +++snpr7pmobhLKUgSHTv/mpkqgBT0tQJ0zQj6qKrqc= 2015-01-01       3       3   \n",
       "1  +++snpr7pmobhLKUgSHTv/mpkqgBT0tQJ0zQj6qKrqc= 2015-01-02      11       1   \n",
       "\n",
       "   num_75  num_985  num_100  num_unq  total_secs  churn  \n",
       "0       2        2        6       16        2269      0  \n",
       "1       2        3       15       26        5174      0  "
      ]
     },
     "execution_count": 3,
     "metadata": {},
     "output_type": "execute_result"
    }
   ],
   "source": [
    "# extract raw daily usage data for sample users\n",
    "\n",
    "df = pd.read_csv(\"{}/{}\".format(dirData, fileSampleUsg), parse_dates=['date'])\n",
    "df.head(2)"
   ]
  },
  {
   "cell_type": "code",
   "execution_count": 4,
   "metadata": {},
   "outputs": [
    {
     "data": {
      "text/html": [
       "<div>\n",
       "<style scoped>\n",
       "    .dataframe tbody tr th:only-of-type {\n",
       "        vertical-align: middle;\n",
       "    }\n",
       "\n",
       "    .dataframe tbody tr th {\n",
       "        vertical-align: top;\n",
       "    }\n",
       "\n",
       "    .dataframe thead th {\n",
       "        text-align: right;\n",
       "    }\n",
       "</style>\n",
       "<table border=\"1\" class=\"dataframe\">\n",
       "  <thead>\n",
       "    <tr style=\"text-align: right;\">\n",
       "      <th></th>\n",
       "      <th>msno</th>\n",
       "      <th>date</th>\n",
       "      <th>num_25</th>\n",
       "      <th>num_50</th>\n",
       "      <th>num_75</th>\n",
       "      <th>num_985</th>\n",
       "      <th>num_100</th>\n",
       "      <th>num_unq</th>\n",
       "      <th>total_secs</th>\n",
       "      <th>churn</th>\n",
       "    </tr>\n",
       "  </thead>\n",
       "  <tbody>\n",
       "    <tr>\n",
       "      <th>3117978</th>\n",
       "      <td>3Jyl3B1cP+CYYgpEZRDwq5huDkB9qfNOqq3Lt1JYfXE=</td>\n",
       "      <td>2016-04-21</td>\n",
       "      <td>5</td>\n",
       "      <td>0</td>\n",
       "      <td>1</td>\n",
       "      <td>0</td>\n",
       "      <td>6</td>\n",
       "      <td>10</td>\n",
       "      <td>2098</td>\n",
       "      <td>0</td>\n",
       "    </tr>\n",
       "    <tr>\n",
       "      <th>3117979</th>\n",
       "      <td>3Jyl3B1cP+CYYgpEZRDwq5huDkB9qfNOqq3Lt1JYfXE=</td>\n",
       "      <td>2016-04-23</td>\n",
       "      <td>0</td>\n",
       "      <td>0</td>\n",
       "      <td>0</td>\n",
       "      <td>0</td>\n",
       "      <td>9</td>\n",
       "      <td>9</td>\n",
       "      <td>2459</td>\n",
       "      <td>0</td>\n",
       "    </tr>\n",
       "    <tr>\n",
       "      <th>3117980</th>\n",
       "      <td>3Jyl3B1cP+CYYgpEZRDwq5huDkB9qfNOqq3Lt1JYfXE=</td>\n",
       "      <td>2016-04-25</td>\n",
       "      <td>0</td>\n",
       "      <td>0</td>\n",
       "      <td>0</td>\n",
       "      <td>0</td>\n",
       "      <td>8</td>\n",
       "      <td>8</td>\n",
       "      <td>2256</td>\n",
       "      <td>0</td>\n",
       "    </tr>\n",
       "  </tbody>\n",
       "</table>\n",
       "</div>"
      ],
      "text/plain": [
       "                                                 msno       date  num_25  \\\n",
       "3117978  3Jyl3B1cP+CYYgpEZRDwq5huDkB9qfNOqq3Lt1JYfXE= 2016-04-21       5   \n",
       "3117979  3Jyl3B1cP+CYYgpEZRDwq5huDkB9qfNOqq3Lt1JYfXE= 2016-04-23       0   \n",
       "3117980  3Jyl3B1cP+CYYgpEZRDwq5huDkB9qfNOqq3Lt1JYfXE= 2016-04-25       0   \n",
       "\n",
       "         num_50  num_75  num_985  num_100  num_unq  total_secs  churn  \n",
       "3117978       0       1        0        6       10        2098      0  \n",
       "3117979       0       0        0        9        9        2459      0  \n",
       "3117980       0       0        0        8        8        2256      0  "
      ]
     },
     "execution_count": 4,
     "metadata": {},
     "output_type": "execute_result"
    }
   ],
   "source": [
    "df[df['msno']==demUsr].head(3)"
   ]
  },
  {
   "cell_type": "code",
   "execution_count": 5,
   "metadata": {},
   "outputs": [
    {
     "name": "stdout",
     "output_type": "stream",
     "text": [
      "2015-01-01 00:00:00 2017-02-28 00:00:00\n"
     ]
    }
   ],
   "source": [
    "# save minimum and maximum dates from sample usage dataset\n",
    "\n",
    "startDate = df['date'].min()\n",
    "currDate = df['date'].max()\n",
    "\n",
    "print(startDate, currDate)"
   ]
  },
  {
   "cell_type": "code",
   "execution_count": 6,
   "metadata": {},
   "outputs": [
    {
     "data": {
      "text/html": [
       "<div>\n",
       "<style scoped>\n",
       "    .dataframe tbody tr th:only-of-type {\n",
       "        vertical-align: middle;\n",
       "    }\n",
       "\n",
       "    .dataframe tbody tr th {\n",
       "        vertical-align: top;\n",
       "    }\n",
       "\n",
       "    .dataframe thead th {\n",
       "        text-align: right;\n",
       "    }\n",
       "</style>\n",
       "<table border=\"1\" class=\"dataframe\">\n",
       "  <thead>\n",
       "    <tr style=\"text-align: right;\">\n",
       "      <th></th>\n",
       "      <th>date</th>\n",
       "      <th>year</th>\n",
       "      <th>month</th>\n",
       "      <th>week</th>\n",
       "      <th>dayofweek</th>\n",
       "      <th>dayname</th>\n",
       "      <th>weekend</th>\n",
       "      <th>yrMth</th>\n",
       "      <th>yrWk</th>\n",
       "    </tr>\n",
       "  </thead>\n",
       "  <tbody>\n",
       "    <tr>\n",
       "      <th>0</th>\n",
       "      <td>2015-01-01</td>\n",
       "      <td>2015</td>\n",
       "      <td>1</td>\n",
       "      <td>1</td>\n",
       "      <td>4</td>\n",
       "      <td>Thursday</td>\n",
       "      <td>0</td>\n",
       "      <td>201501</td>\n",
       "      <td>201501</td>\n",
       "    </tr>\n",
       "    <tr>\n",
       "      <th>1</th>\n",
       "      <td>2015-01-02</td>\n",
       "      <td>2015</td>\n",
       "      <td>1</td>\n",
       "      <td>1</td>\n",
       "      <td>5</td>\n",
       "      <td>Friday</td>\n",
       "      <td>0</td>\n",
       "      <td>201501</td>\n",
       "      <td>201501</td>\n",
       "    </tr>\n",
       "  </tbody>\n",
       "</table>\n",
       "</div>"
      ],
      "text/plain": [
       "        date  year  month  week  dayofweek   dayname  weekend   yrMth    yrWk\n",
       "0 2015-01-01  2015      1     1          4  Thursday        0  201501  201501\n",
       "1 2015-01-02  2015      1     1          5    Friday        0  201501  201501"
      ]
     },
     "execution_count": 6,
     "metadata": {},
     "output_type": "execute_result"
    }
   ],
   "source": [
    "# create a datetime dimension dataset for the given date range\n",
    "\n",
    "dates = pd.DataFrame(pd.date_range(startDate,currDate).sort_values())\n",
    "dates.columns=['date']\n",
    "\n",
    "# custom function to derive month value that aligns with year change\n",
    "# notice the special handling of dates just before end of and after start of new year\n",
    "def iso_month(date):\n",
    "    if date.month==1 or date.month==12:\n",
    "        if date.month==1:\n",
    "            if date.day<7 and date.week>=52:\n",
    "                return(12)\n",
    "            else:\n",
    "                return(1)\n",
    "        else:\n",
    "            if date.month==12:\n",
    "                if date.day>25 and date.week==1:\n",
    "                    return(1)\n",
    "                else:\n",
    "                    return(12)\n",
    "    else:\n",
    "        return(date.month)\n",
    "\n",
    "# get ISO calendar year\n",
    "# starts only on the first Monday of the calendar year\n",
    "dates['year'] = dates['date'].apply(lambda x: x.isocalendar()[0])\n",
    "\n",
    "# derive month value (aligned with ISO calendar year and week at the start and the end of the year)\n",
    "dates['month'] = dates['date'].apply(iso_month)\n",
    "\n",
    "# ISO calendar week numbered from 1 to 52/53\n",
    "# ISO week value changes only on a Monday irrespective of whether the calendar month/year changes or not\n",
    "dates['week'] = dates['date'].dt.week\n",
    "\n",
    "# derive day of the week, numbered from 1 to 7\n",
    "# add 1 to ensure that Monday, which is the start of the week, is numbered as 1 (not 0)\n",
    "dates['dayofweek'] = dates['date'].dt.weekday+1  \n",
    "\n",
    "# name of the day\n",
    "dates['dayname'] = dates['date'].dt.day_name()\n",
    "\n",
    "# if the days fall over the weekend then mark them as 1\n",
    "dates['weekend'] = dates['dayname'].apply(lambda x: 1 if (x=='Saturday' or x=='Sunday') else 0)\n",
    "\n",
    "# year-month combination\n",
    "dates['yrMth'] = (dates['year'].apply(str) + dates['month'].apply(str).str.pad(2, side='left', fillchar='0')).apply(int)\n",
    "\n",
    "# year-week combination\n",
    "dates['yrWk'] = (dates['year'].apply(str) + dates['week'].apply(str).str.pad(2, side='left', fillchar='0')).apply(int)\n",
    "\n",
    "# output the dates data into a file for later use\n",
    "dates.to_csv(\"{}/{}\".format(dirData, fileDates), index=False)\n",
    "\n",
    "dates.head(2)"
   ]
  },
  {
   "cell_type": "markdown",
   "metadata": {},
   "source": [
    "### DQ Assessment & Data Cleaning"
   ]
  },
  {
   "cell_type": "code",
   "execution_count": 17,
   "metadata": {
    "scrolled": true
   },
   "outputs": [
    {
     "data": {
      "text/plain": [
       "(150000, 2401222, 132507, 37112323)"
      ]
     },
     "execution_count": 17,
     "metadata": {},
     "output_type": "execute_result"
    }
   ],
   "source": [
    "# number of records in each raw feed for sample users\n",
    "\n",
    "train['msno'].count(), trx['msno'].count(), reg['msno'].count(), df['msno'].count()"
   ]
  },
  {
   "cell_type": "code",
   "execution_count": 18,
   "metadata": {},
   "outputs": [
    {
     "data": {
      "text/plain": [
       "(150000, 150000, 132507, 131428)"
      ]
     },
     "execution_count": 18,
     "metadata": {},
     "output_type": "execute_result"
    }
   ],
   "source": [
    "# number of distinct users in each raw feed for sample users\n",
    "\n",
    "train['msno'].nunique(), trx['msno'].nunique(), reg['msno'].nunique(), df['msno'].nunique()"
   ]
  },
  {
   "cell_type": "markdown",
   "metadata": {},
   "source": [
    "Since registration and usage feeds do not have data for all the sample users, we might need to create a model using only the users for which registration and/or usage data are available."
   ]
  },
  {
   "cell_type": "code",
   "execution_count": 19,
   "metadata": {},
   "outputs": [],
   "source": [
    "# save number of unique users in separate variables\n",
    "\n",
    "regUsrs = pd.DataFrame(reg['msno'].unique(), columns=['msno'])\n",
    "usgUsrs = pd.DataFrame(df['msno'].unique(), columns=['msno'])"
   ]
  },
  {
   "cell_type": "code",
   "execution_count": 20,
   "metadata": {},
   "outputs": [
    {
     "data": {
      "text/plain": [
       "131427"
      ]
     },
     "execution_count": 20,
     "metadata": {},
     "output_type": "execute_result"
    }
   ],
   "source": [
    "# number of users that are common across both the sample datasets - registration and usage\n",
    "\n",
    "usgUsrs[usgUsrs['msno'].isin(regUsrs['msno'])]['msno'].nunique()"
   ]
  },
  {
   "cell_type": "code",
   "execution_count": 21,
   "metadata": {},
   "outputs": [
    {
     "data": {
      "text/plain": [
       "1"
      ]
     },
     "execution_count": 21,
     "metadata": {},
     "output_type": "execute_result"
    }
   ],
   "source": [
    "# number of users that are present in usage and not in registration\n",
    "\n",
    "usgUsrs[~usgUsrs['msno'].isin(regUsrs['msno'])]['msno'].nunique()"
   ]
  },
  {
   "cell_type": "code",
   "execution_count": 22,
   "metadata": {},
   "outputs": [
    {
     "data": {
      "text/plain": [
       "1080"
      ]
     },
     "execution_count": 22,
     "metadata": {},
     "output_type": "execute_result"
    }
   ],
   "source": [
    "# number of users that are present in usage and not in registration\n",
    "\n",
    "regUsrs[~regUsrs['msno'].isin(usgUsrs['msno'])]['msno'].nunique()"
   ]
  },
  {
   "cell_type": "markdown",
   "metadata": {},
   "source": [
    "#### Training Data (aka Labeled Data)"
   ]
  },
  {
   "cell_type": "code",
   "execution_count": 23,
   "metadata": {},
   "outputs": [
    {
     "name": "stdout",
     "output_type": "stream",
     "text": [
      "<class 'pandas.core.frame.DataFrame'>\n",
      "RangeIndex: 150000 entries, 0 to 149999\n",
      "Data columns (total 2 columns):\n",
      "msno     150000 non-null object\n",
      "churn    150000 non-null int64\n",
      "dtypes: int64(1), object(1)\n",
      "memory usage: 2.3+ MB\n"
     ]
    }
   ],
   "source": [
    "train.info()"
   ]
  },
  {
   "cell_type": "markdown",
   "metadata": {},
   "source": [
    "#### Transaction Data"
   ]
  },
  {
   "cell_type": "code",
   "execution_count": 24,
   "metadata": {},
   "outputs": [
    {
     "name": "stdout",
     "output_type": "stream",
     "text": [
      "<class 'pandas.core.frame.DataFrame'>\n",
      "Int64Index: 2401222 entries, 1015697 to 1798806\n",
      "Data columns (total 10 columns):\n",
      "msno             object\n",
      "payMethod        int64\n",
      "planTerm         int64\n",
      "planListPrice    int64\n",
      "paidAmt          int64\n",
      "autoRenew        int64\n",
      "trxDate          datetime64[ns]\n",
      "expDate          datetime64[ns]\n",
      "cancel           int64\n",
      "churn            int64\n",
      "dtypes: datetime64[ns](2), int64(7), object(1)\n",
      "memory usage: 201.5+ MB\n"
     ]
    }
   ],
   "source": [
    "# sort records based on user id, transaction date and expiry date\n",
    "# will come handy during data profiling/wrangling later\n",
    "\n",
    "trx = trx.sort_values(['msno','trxDate','expDate'])\n",
    "\n",
    "trx.info()"
   ]
  },
  {
   "cell_type": "code",
   "execution_count": 25,
   "metadata": {
    "scrolled": true
   },
   "outputs": [
    {
     "data": {
      "text/plain": [
       "41    1416292\n",
       "40     239114\n",
       "39     170046\n",
       "37     123876\n",
       "38     111196\n",
       "34      99747\n",
       "36      87390\n",
       "33      48189\n",
       "31      33256\n",
       "30      16954\n",
       "29      11313\n",
       "27       6645\n",
       "35       5623\n",
       "23       5610\n",
       "19       4476\n",
       "28       4460\n",
       "32       4292\n",
       "21       2325\n",
       "14       2024\n",
       "18       2012\n",
       "24       1310\n",
       "16       1180\n",
       "20       1026\n",
       "22        561\n",
       "25        517\n",
       "26        421\n",
       "11        322\n",
       "17        310\n",
       "10        285\n",
       "13        215\n",
       "12        136\n",
       "8          32\n",
       "15         26\n",
       "6          17\n",
       "5          12\n",
       "3           9\n",
       "2           3\n",
       "Name: payMethod, dtype: int64"
      ]
     },
     "execution_count": 25,
     "metadata": {},
     "output_type": "execute_result"
    }
   ],
   "source": [
    "# look for null or abnormal values in payment method attribute\n",
    "\n",
    "trx['payMethod'].value_counts(dropna=False)"
   ]
  },
  {
   "cell_type": "code",
   "execution_count": 26,
   "metadata": {
    "scrolled": true
   },
   "outputs": [
    {
     "data": {
      "text/plain": [
       "30     2220558\n",
       "0        90824\n",
       "31       70839\n",
       "7         6788\n",
       "195       3684\n",
       "410       2098\n",
       "180       1264\n",
       "120        927\n",
       "100        905\n",
       "90         858\n",
       "10         703\n",
       "60         416\n",
       "1          416\n",
       "395        200\n",
       "200        183\n",
       "360        132\n",
       "240         80\n",
       "400         79\n",
       "14          78\n",
       "35          46\n",
       "70          31\n",
       "450         28\n",
       "21          18\n",
       "66          13\n",
       "80          13\n",
       "99          12\n",
       "270         11\n",
       "365          9\n",
       "230          3\n",
       "110          3\n",
       "15           1\n",
       "3            1\n",
       "2            1\n",
       "Name: planTerm, dtype: int64"
      ]
     },
     "execution_count": 26,
     "metadata": {},
     "output_type": "execute_result"
    }
   ],
   "source": [
    "# look for abnormal values (negative, null) in plan term period\n",
    " \n",
    "trx['planTerm'].value_counts(dropna=False)\n",
    "\n",
    "# majority of transactions are for 30 day plan term \n",
    "# weirdly, some transactions appear for 0 plan term as well"
   ]
  },
  {
   "cell_type": "code",
   "execution_count": 27,
   "metadata": {},
   "outputs": [
    {
     "data": {
      "text/plain": [
       "0    90054\n",
       "1      770\n",
       "Name: cancel, dtype: int64"
      ]
     },
     "execution_count": 27,
     "metadata": {},
     "output_type": "execute_result"
    }
   ],
   "source": [
    "# are 0 plan term transactions all for cancellation?\n",
    "\n",
    "trx.query(\"planTerm==0\")['cancel'].value_counts()\n",
    "\n",
    "# sadly, no\n",
    "# not sure why renewal transactions would appear for 0 plan term\n",
    "# since, this is categorical variable, and there is no information about what each value, let's ignore this potential DQ issue!"
   ]
  },
  {
   "cell_type": "code",
   "execution_count": 28,
   "metadata": {},
   "outputs": [
    {
     "data": {
      "text/plain": [
       "90590"
      ]
     },
     "execution_count": 28,
     "metadata": {},
     "output_type": "execute_result"
    }
   ],
   "source": [
    "# Check whether list price is less than paid amount; if yes, then it is a DQ issue\n",
    "\n",
    "trx[trx['planListPrice']<trx['paidAmt']]['msno'].count()\n",
    "\n",
    "# there is indeed DQ issue with list price, even though for minimal number of records"
   ]
  },
  {
   "cell_type": "code",
   "execution_count": 29,
   "metadata": {
    "scrolled": true
   },
   "outputs": [
    {
     "data": {
      "text/plain": [
       "planListPrice  paidAmt  cancel  planTerm\n",
       "0              35       0       0              14\n",
       "               100      0       0              79\n",
       "               105      0       0               2\n",
       "               119      0       0            2941\n",
       "                        1       0               2\n",
       "               129      0       0            2927\n",
       "                        1       0              26\n",
       "               131      0       0              24\n",
       "               134      0       0             134\n",
       "               149      0       0           82946\n",
       "                        1       0             685\n",
       "               150      0       0             605\n",
       "               300      0       0               7\n",
       "               450      0       0               2\n",
       "               480      0       0               5\n",
       "               536      0       0               9\n",
       "               799      0       0               3\n",
       "               894      0       0             110\n",
       "               930      0       0               2\n",
       "               1000     0       0               1\n",
       "               1599     0       0               2\n",
       "               1788     0       0              49\n",
       "119            149      1       30              9\n",
       "126            127      0       30              6\n",
       "Name: msno, dtype: int64"
      ]
     },
     "execution_count": 29,
     "metadata": {},
     "output_type": "execute_result"
    }
   ],
   "source": [
    "# trying to understand the reason behind 0 plan list price by digging deeper into the data\n",
    "\n",
    "trx[trx['planListPrice']<trx['paidAmt']].groupby(['planListPrice','paidAmt','cancel','planTerm'])['msno'].count()\n",
    "\n",
    "# nothing stands out to decipher whether this issue is by design, or, in fact, a DQ issue"
   ]
  },
  {
   "cell_type": "code",
   "execution_count": 30,
   "metadata": {},
   "outputs": [
    {
     "data": {
      "text/plain": [
       "1    2220333\n",
       "0     180889\n",
       "Name: autoRenew, dtype: int64"
      ]
     },
     "execution_count": 30,
     "metadata": {},
     "output_type": "execute_result"
    }
   ],
   "source": [
    "# check that auto renew is a binary variable\n",
    "\n",
    "trx['autoRenew'].value_counts(dropna=False)"
   ]
  },
  {
   "cell_type": "code",
   "execution_count": 31,
   "metadata": {},
   "outputs": [
    {
     "data": {
      "text/plain": [
       "0    2359626\n",
       "1      41596\n",
       "Name: cancel, dtype: int64"
      ]
     },
     "execution_count": 31,
     "metadata": {},
     "output_type": "execute_result"
    }
   ],
   "source": [
    "# check that cancel is a binary variable\n",
    "\n",
    "trx['cancel'].value_counts(dropna=False)"
   ]
  },
  {
   "cell_type": "code",
   "execution_count": 32,
   "metadata": {},
   "outputs": [
    {
     "data": {
      "text/plain": [
       "count                 2401222\n",
       "unique                    790\n",
       "top       2016-12-31 00:00:00\n",
       "freq                    28231\n",
       "first     2015-01-01 00:00:00\n",
       "last      2017-02-28 00:00:00\n",
       "Name: trxDate, dtype: object"
      ]
     },
     "execution_count": 32,
     "metadata": {},
     "output_type": "execute_result"
    }
   ],
   "source": [
    "# check whether the transaction dates are within Usage data's dates range\n",
    "\n",
    "trx['trxDate'].describe()"
   ]
  },
  {
   "cell_type": "code",
   "execution_count": 33,
   "metadata": {},
   "outputs": [
    {
     "data": {
      "text/plain": [
       "True"
      ]
     },
     "execution_count": 33,
     "metadata": {},
     "output_type": "execute_result"
    }
   ],
   "source": [
    "# check whether the earliest transaction date is same as the earliest usage date\n",
    "\n",
    "trx['trxDate'].min() == startDate"
   ]
  },
  {
   "cell_type": "code",
   "execution_count": 34,
   "metadata": {},
   "outputs": [
    {
     "data": {
      "text/plain": [
       "True"
      ]
     },
     "execution_count": 34,
     "metadata": {},
     "output_type": "execute_result"
    }
   ],
   "source": [
    "# check whether the last transaction date is same as last usage date\n",
    "\n",
    "trx['trxDate'].max() == currDate"
   ]
  },
  {
   "cell_type": "code",
   "execution_count": 35,
   "metadata": {
    "scrolled": true
   },
   "outputs": [
    {
     "data": {
      "text/plain": [
       "count                 2401222\n",
       "unique                   1316\n",
       "top       2017-02-28 00:00:00\n",
       "freq                    19833\n",
       "first     1970-01-01 00:00:00\n",
       "last      2017-03-31 00:00:00\n",
       "Name: expDate, dtype: object"
      ]
     },
     "execution_count": 35,
     "metadata": {},
     "output_type": "execute_result"
    }
   ],
   "source": [
    "# check stats of expiration dates\n",
    "\n",
    "trx['expDate'].describe()\n",
    "\n",
    "# max subscription expiry date in Mar 2017 is as expected,\n",
    "# since training data is supposed to have only those users whose subscription expires in Feb/Mar 2017"
   ]
  },
  {
   "cell_type": "code",
   "execution_count": 36,
   "metadata": {},
   "outputs": [
    {
     "name": "stdout",
     "output_type": "stream",
     "text": [
      "Wall time: 2min 13s\n"
     ]
    }
   ],
   "source": [
    "%%time\n",
    "\n",
    "# Fix DQ issue with the list price\n",
    "\n",
    "# list price is re-assigned as paid amount if it is less than paid amount in case of\n",
    "# non-cancellation transactions\n",
    "\n",
    "trx['planListPrice'] = trx[['cancel','planListPrice',\n",
    "    'paidAmt']].apply(lambda x: x['paidAmt'] if (x['planListPrice']<x['paidAmt'] and x['cancel']==0) else x['planListPrice'],\n",
    "                                              axis=1)"
   ]
  },
  {
   "cell_type": "code",
   "execution_count": 37,
   "metadata": {},
   "outputs": [
    {
     "name": "stdout",
     "output_type": "stream",
     "text": [
      "Wall time: 2min 25s\n"
     ]
    }
   ],
   "source": [
    "%%time\n",
    "\n",
    "# tidy up data\n",
    "\n",
    "# derive discount amount based on list price - paid amount, of course, for non-cancellation/renewal requests only\n",
    "\n",
    "trx['discAmt'] = trx[['cancel','planListPrice',\n",
    "                      'paidAmt']].apply(lambda x: x['planListPrice']-x['paidAmt'] if x['cancel']==0 else 0, axis=1)"
   ]
  },
  {
   "cell_type": "code",
   "execution_count": 38,
   "metadata": {},
   "outputs": [
    {
     "data": {
      "text/plain": [
       "0      2359520\n",
       "30       33520\n",
       "149       7110\n",
       "20         428\n",
       "180        370\n",
       "50         262\n",
       "120         12\n",
       "Name: discAmt, dtype: int64"
      ]
     },
     "execution_count": 38,
     "metadata": {},
     "output_type": "execute_result"
    }
   ],
   "source": [
    "trx['discAmt'].value_counts()\n",
    "\n",
    "# discount seems to be present for a very small proportion of total transactions"
   ]
  },
  {
   "cell_type": "code",
   "execution_count": 39,
   "metadata": {},
   "outputs": [
    {
     "data": {
      "text/plain": [
       "12980"
      ]
     },
     "execution_count": 39,
     "metadata": {},
     "output_type": "execute_result"
    }
   ],
   "source": [
    "trx[trx['discAmt']!=0]['msno'].nunique()\n",
    "\n",
    "# however, reasonable number of users have received discount at some point in time"
   ]
  },
  {
   "cell_type": "code",
   "execution_count": 40,
   "metadata": {},
   "outputs": [
    {
     "data": {
      "text/html": [
       "<div>\n",
       "<style scoped>\n",
       "    .dataframe tbody tr th:only-of-type {\n",
       "        vertical-align: middle;\n",
       "    }\n",
       "\n",
       "    .dataframe tbody tr th {\n",
       "        vertical-align: top;\n",
       "    }\n",
       "\n",
       "    .dataframe thead th {\n",
       "        text-align: right;\n",
       "    }\n",
       "</style>\n",
       "<table border=\"1\" class=\"dataframe\">\n",
       "  <thead>\n",
       "    <tr style=\"text-align: right;\">\n",
       "      <th></th>\n",
       "      <th>msno</th>\n",
       "      <th>churn</th>\n",
       "      <th>trxDate</th>\n",
       "      <th>expDate</th>\n",
       "      <th>cancel</th>\n",
       "      <th>autoRenew</th>\n",
       "      <th>payMethod</th>\n",
       "      <th>planTerm</th>\n",
       "      <th>planListPrice</th>\n",
       "      <th>paidAmt</th>\n",
       "      <th>discAmt</th>\n",
       "    </tr>\n",
       "  </thead>\n",
       "  <tbody>\n",
       "    <tr>\n",
       "      <th>1015697</th>\n",
       "      <td>+++snpr7pmobhLKUgSHTv/mpkqgBT0tQJ0zQj6qKrqc=</td>\n",
       "      <td>0</td>\n",
       "      <td>2015-01-26</td>\n",
       "      <td>2015-02-26</td>\n",
       "      <td>0</td>\n",
       "      <td>1</td>\n",
       "      <td>41</td>\n",
       "      <td>30</td>\n",
       "      <td>149</td>\n",
       "      <td>149</td>\n",
       "      <td>0</td>\n",
       "    </tr>\n",
       "    <tr>\n",
       "      <th>1015695</th>\n",
       "      <td>+++snpr7pmobhLKUgSHTv/mpkqgBT0tQJ0zQj6qKrqc=</td>\n",
       "      <td>0</td>\n",
       "      <td>2015-02-26</td>\n",
       "      <td>2015-03-26</td>\n",
       "      <td>0</td>\n",
       "      <td>1</td>\n",
       "      <td>41</td>\n",
       "      <td>30</td>\n",
       "      <td>149</td>\n",
       "      <td>149</td>\n",
       "      <td>0</td>\n",
       "    </tr>\n",
       "  </tbody>\n",
       "</table>\n",
       "</div>"
      ],
      "text/plain": [
       "                                                 msno  churn    trxDate  \\\n",
       "1015697  +++snpr7pmobhLKUgSHTv/mpkqgBT0tQJ0zQj6qKrqc=      0 2015-01-26   \n",
       "1015695  +++snpr7pmobhLKUgSHTv/mpkqgBT0tQJ0zQj6qKrqc=      0 2015-02-26   \n",
       "\n",
       "           expDate  cancel  autoRenew  payMethod  planTerm  planListPrice  \\\n",
       "1015697 2015-02-26       0          1         41        30            149   \n",
       "1015695 2015-03-26       0          1         41        30            149   \n",
       "\n",
       "         paidAmt  discAmt  \n",
       "1015697      149        0  \n",
       "1015695      149        0  "
      ]
     },
     "execution_count": 40,
     "metadata": {},
     "output_type": "execute_result"
    }
   ],
   "source": [
    "# re-order attributes in the dataframe\n",
    "\n",
    "trx = trx[['msno', 'churn', 'trxDate', 'expDate', 'cancel', 'autoRenew', 'payMethod', 'planTerm', 'planListPrice',\n",
    "           'paidAmt', 'discAmt']]\n",
    "\n",
    "trx.head(2)"
   ]
  },
  {
   "cell_type": "code",
   "execution_count": 41,
   "metadata": {},
   "outputs": [
    {
     "data": {
      "text/plain": [
       "(2401222, 150000)"
      ]
     },
     "execution_count": 41,
     "metadata": {},
     "output_type": "execute_result"
    }
   ],
   "source": [
    "# check that the number of records and distinct users are still the same as before\n",
    "\n",
    "trx['msno'].count(), trx['msno'].nunique()"
   ]
  },
  {
   "cell_type": "code",
   "execution_count": 42,
   "metadata": {},
   "outputs": [],
   "source": [
    "# generate feed of clean data, to be used later for Data Wrangling later\n",
    "\n",
    "trx.to_csv(\"{}/{}\".format(dirData, fileCleanTrx), index=False)"
   ]
  },
  {
   "cell_type": "markdown",
   "metadata": {},
   "source": [
    "#### Registration/Membership Data"
   ]
  },
  {
   "cell_type": "code",
   "execution_count": 43,
   "metadata": {
    "scrolled": true
   },
   "outputs": [
    {
     "name": "stdout",
     "output_type": "stream",
     "text": [
      "<class 'pandas.core.frame.DataFrame'>\n",
      "RangeIndex: 132507 entries, 0 to 132506\n",
      "Data columns (total 7 columns):\n",
      "msno       132507 non-null object\n",
      "city       132507 non-null int64\n",
      "userAge    132507 non-null int64\n",
      "gender     58992 non-null object\n",
      "regSrc     132507 non-null int64\n",
      "regDate    132507 non-null datetime64[ns]\n",
      "churn      132507 non-null int64\n",
      "dtypes: datetime64[ns](1), int64(4), object(2)\n",
      "memory usage: 7.1+ MB\n"
     ]
    }
   ],
   "source": [
    "reg.info()\n",
    "\n",
    "# gender has a lot of null values; definitely a DQ issue"
   ]
  },
  {
   "cell_type": "code",
   "execution_count": 44,
   "metadata": {},
   "outputs": [
    {
     "data": {
      "text/html": [
       "<div>\n",
       "<style scoped>\n",
       "    .dataframe tbody tr th:only-of-type {\n",
       "        vertical-align: middle;\n",
       "    }\n",
       "\n",
       "    .dataframe tbody tr th {\n",
       "        vertical-align: top;\n",
       "    }\n",
       "\n",
       "    .dataframe thead th {\n",
       "        text-align: right;\n",
       "    }\n",
       "</style>\n",
       "<table border=\"1\" class=\"dataframe\">\n",
       "  <thead>\n",
       "    <tr style=\"text-align: right;\">\n",
       "      <th></th>\n",
       "      <th>msno</th>\n",
       "      <th>city</th>\n",
       "      <th>userAge</th>\n",
       "      <th>gender</th>\n",
       "      <th>regSrc</th>\n",
       "      <th>regDate</th>\n",
       "      <th>churn</th>\n",
       "    </tr>\n",
       "  </thead>\n",
       "  <tbody>\n",
       "  </tbody>\n",
       "</table>\n",
       "</div>"
      ],
      "text/plain": [
       "Empty DataFrame\n",
       "Columns: [msno, city, userAge, gender, regSrc, regDate, churn]\n",
       "Index: []"
      ]
     },
     "execution_count": 44,
     "metadata": {},
     "output_type": "execute_result"
    }
   ],
   "source": [
    "# grain of the data is user id - msno\n",
    "\n",
    "reg[reg.duplicated(['msno'], keep=False)]"
   ]
  },
  {
   "cell_type": "code",
   "execution_count": 45,
   "metadata": {
    "scrolled": true
   },
   "outputs": [
    {
     "data": {
      "text/plain": [
       "1     68961\n",
       "13    14848\n",
       "5     10461\n",
       "4      7287\n",
       "15     6579\n",
       "22     6321\n",
       "6      4081\n",
       "14     3006\n",
       "12     1770\n",
       "9      1482\n",
       "11     1360\n",
       "18     1164\n",
       "8      1153\n",
       "10      972\n",
       "17      795\n",
       "3       785\n",
       "21      770\n",
       "7       413\n",
       "16      166\n",
       "20      109\n",
       "19       24\n",
       "Name: city, dtype: int64"
      ]
     },
     "execution_count": 45,
     "metadata": {},
     "output_type": "execute_result"
    }
   ],
   "source": [
    "# look for null or abnormal values in city attribute\n",
    "\n",
    "reg['city'].value_counts(dropna=False)\n",
    "\n",
    "# looks like no issue here"
   ]
  },
  {
   "cell_type": "code",
   "execution_count": 46,
   "metadata": {
    "scrolled": true
   },
   "outputs": [
    {
     "data": {
      "text/plain": [
       "count    132507.000000\n",
       "mean         13.394930\n",
       "std          18.456288\n",
       "min         -51.000000\n",
       "25%           0.000000\n",
       "50%           0.000000\n",
       "75%          27.000000\n",
       "max        1043.000000\n",
       "Name: userAge, dtype: float64"
      ]
     },
     "execution_count": 46,
     "metadata": {},
     "output_type": "execute_result"
    }
   ],
   "source": [
    "# check DQ issue with member's age\n",
    "\n",
    "reg['userAge'].describe()\n",
    "\n",
    "# age has multiple DQ issues\n",
    "# age should not be less than 18 (and certainly not negative)\n",
    "# nor should it be greater than 60 (and certainly not beyond 100 years)"
   ]
  },
  {
   "cell_type": "code",
   "execution_count": 47,
   "metadata": {},
   "outputs": [
    {
     "data": {
      "text/plain": [
       "75524"
      ]
     },
     "execution_count": 47,
     "metadata": {},
     "output_type": "execute_result"
    }
   ],
   "source": [
    "# assess the number of records beyond reasonable age i.e. with DQ issue\n",
    "\n",
    "((reg['userAge']<18) | (reg['userAge']>60)).sum()\n",
    "\n",
    "# since half of the sample users have incorrect age value, imputation is not a solution"
   ]
  },
  {
   "cell_type": "code",
   "execution_count": 48,
   "metadata": {},
   "outputs": [
    {
     "data": {
      "text/plain": [
       "<seaborn.axisgrid.FacetGrid at 0x184081c7a90>"
      ]
     },
     "execution_count": 48,
     "metadata": {},
     "output_type": "execute_result"
    },
    {
     "data": {
      "image/png": "[encoded data removed]",
      "text/plain": [
       "<Figure size 360x360 with 1 Axes>"
      ]
     },
     "metadata": {
      "needs_background": "light"
     },
     "output_type": "display_data"
    }
   ],
   "source": [
    "# Using good quality data to check cutomer's age distribution by churn behavior\n",
    "\n",
    "sns.catplot(data=reg[((reg['userAge']>=18) & (reg['userAge']<=60))], x='churn', y='userAge', kind='boxen')\n",
    "\n",
    "# looks like median age of churned customers is lower than that of renewed customers"
   ]
  },
  {
   "cell_type": "code",
   "execution_count": 49,
   "metadata": {
    "scrolled": false
   },
   "outputs": [
    {
     "data": {
      "text/html": [
       "<div>\n",
       "<style scoped>\n",
       "    .dataframe tbody tr th:only-of-type {\n",
       "        vertical-align: middle;\n",
       "    }\n",
       "\n",
       "    .dataframe tbody tr th {\n",
       "        vertical-align: top;\n",
       "    }\n",
       "\n",
       "    .dataframe thead th {\n",
       "        text-align: right;\n",
       "    }\n",
       "</style>\n",
       "<table border=\"1\" class=\"dataframe\">\n",
       "  <thead>\n",
       "    <tr style=\"text-align: right;\">\n",
       "      <th></th>\n",
       "      <th>renew</th>\n",
       "      <th>churn</th>\n",
       "      <th>churnPct</th>\n",
       "    </tr>\n",
       "    <tr>\n",
       "      <th>userAge</th>\n",
       "      <th></th>\n",
       "      <th></th>\n",
       "      <th></th>\n",
       "    </tr>\n",
       "  </thead>\n",
       "  <tbody>\n",
       "    <tr>\n",
       "      <th>18</th>\n",
       "      <td>996</td>\n",
       "      <td>203</td>\n",
       "      <td>16</td>\n",
       "    </tr>\n",
       "    <tr>\n",
       "      <th>19</th>\n",
       "      <td>1229</td>\n",
       "      <td>239</td>\n",
       "      <td>16</td>\n",
       "    </tr>\n",
       "    <tr>\n",
       "      <th>20</th>\n",
       "      <td>1717</td>\n",
       "      <td>327</td>\n",
       "      <td>15</td>\n",
       "    </tr>\n",
       "    <tr>\n",
       "      <th>21</th>\n",
       "      <td>2052</td>\n",
       "      <td>332</td>\n",
       "      <td>13</td>\n",
       "    </tr>\n",
       "    <tr>\n",
       "      <th>22</th>\n",
       "      <td>2407</td>\n",
       "      <td>338</td>\n",
       "      <td>12</td>\n",
       "    </tr>\n",
       "    <tr>\n",
       "      <th>23</th>\n",
       "      <td>2658</td>\n",
       "      <td>305</td>\n",
       "      <td>10</td>\n",
       "    </tr>\n",
       "    <tr>\n",
       "      <th>24</th>\n",
       "      <td>2833</td>\n",
       "      <td>258</td>\n",
       "      <td>8</td>\n",
       "    </tr>\n",
       "    <tr>\n",
       "      <th>25</th>\n",
       "      <td>2960</td>\n",
       "      <td>263</td>\n",
       "      <td>8</td>\n",
       "    </tr>\n",
       "    <tr>\n",
       "      <th>52</th>\n",
       "      <td>230</td>\n",
       "      <td>21</td>\n",
       "      <td>8</td>\n",
       "    </tr>\n",
       "    <tr>\n",
       "      <th>34</th>\n",
       "      <td>1708</td>\n",
       "      <td>129</td>\n",
       "      <td>7</td>\n",
       "    </tr>\n",
       "  </tbody>\n",
       "</table>\n",
       "</div>"
      ],
      "text/plain": [
       "         renew  churn  churnPct\n",
       "userAge                        \n",
       "18         996    203        16\n",
       "19        1229    239        16\n",
       "20        1717    327        15\n",
       "21        2052    332        13\n",
       "22        2407    338        12\n",
       "23        2658    305        10\n",
       "24        2833    258         8\n",
       "25        2960    263         8\n",
       "52         230     21         8\n",
       "34        1708    129         7"
      ]
     },
     "execution_count": 49,
     "metadata": {},
     "output_type": "execute_result"
    }
   ],
   "source": [
    "# Using good quality data to check cutomer's churn behavior by age\n",
    "# Do younger customers have higher churn rate that elder ones?\n",
    "\n",
    "piv = reg[(reg['userAge']>=18) & (reg['userAge']<=60)].groupby(['churn','userAge'])['msno'].count().unstack('churn').fillna(0).astype(int)\n",
    "piv.columns = ['renew','churn']\n",
    "piv['churnPct'] = (piv['churn'].div(piv.sum(1)) * 100).astype(int)\n",
    "piv[piv[['renew','churn']].sum(1)>200].sort_values('churnPct', ascending=False).head(10)"
   ]
  },
  {
   "cell_type": "code",
   "execution_count": 50,
   "metadata": {},
   "outputs": [
    {
     "data": {
      "image/png": "[encoded data removed]",
      "text/plain": [
       "<Figure size 1008x468 with 2 Axes>"
      ]
     },
     "metadata": {
      "needs_background": "light"
     },
     "output_type": "display_data"
    }
   ],
   "source": [
    "plt.figure(figsize=(14,6.5))\n",
    "\n",
    "plt.subplot(2,1,1)\n",
    "piv['churnPct'].plot()\n",
    "plt.xlabel('User Age')\n",
    "plt.ylabel('Churn Percentage')\n",
    "\n",
    "plt.subplot(2,1,2)\n",
    "piv['renew'].plot(kind='bar', stacked=True, color='green', legend='Renew')\n",
    "piv['churn'].plot(kind='bar', stacked=True, color='orange', legend='Churn')\n",
    "plt.xlabel('User Age')\n",
    "plt.ylabel('Number of Users')\n",
    "\n",
    "plt.tight_layout()\n",
    "\n",
    "# users with age less than 22 show higher churn rate than ones beyond that age\n",
    "# perhaps, age could be used in feature set for model training\n",
    "# if that happens, records would need to be filtered for correct age range first (18 - 60 years)\n",
    "# as a result, two models would need to be built - one with age attribute in the feature set and the other one without age\n",
    "# however, if age is user-entered field, can we rely on its accuracy for future data?\n",
    "# is it possible that users might be entering incorrect value even within conceivable range of 18-60 years?"
   ]
  },
  {
   "cell_type": "code",
   "execution_count": 51,
   "metadata": {},
   "outputs": [
    {
     "data": {
      "text/plain": [
       "NaN       73515\n",
       "male      31074\n",
       "female    27918\n",
       "Name: gender, dtype: int64"
      ]
     },
     "execution_count": 51,
     "metadata": {},
     "output_type": "execute_result"
    }
   ],
   "source": [
    "# check DQ issue with member's gender\n",
    "\n",
    "reg['gender'].value_counts(dropna=False)\n",
    "\n",
    "# roughly half of the sample users have gender value missing\n",
    "# since majority of data has missing value, imputation is not a solution"
   ]
  },
  {
   "cell_type": "code",
   "execution_count": 52,
   "metadata": {},
   "outputs": [
    {
     "data": {
      "text/html": [
       "<div>\n",
       "<style scoped>\n",
       "    .dataframe tbody tr th:only-of-type {\n",
       "        vertical-align: middle;\n",
       "    }\n",
       "\n",
       "    .dataframe tbody tr th {\n",
       "        vertical-align: top;\n",
       "    }\n",
       "\n",
       "    .dataframe thead th {\n",
       "        text-align: right;\n",
       "    }\n",
       "</style>\n",
       "<table border=\"1\" class=\"dataframe\">\n",
       "  <thead>\n",
       "    <tr style=\"text-align: right;\">\n",
       "      <th></th>\n",
       "      <th>renew</th>\n",
       "      <th>churn</th>\n",
       "      <th>churnPct</th>\n",
       "    </tr>\n",
       "    <tr>\n",
       "      <th>gender</th>\n",
       "      <th></th>\n",
       "      <th></th>\n",
       "      <th></th>\n",
       "    </tr>\n",
       "  </thead>\n",
       "  <tbody>\n",
       "    <tr>\n",
       "      <th>female</th>\n",
       "      <td>25528</td>\n",
       "      <td>2390</td>\n",
       "      <td>8</td>\n",
       "    </tr>\n",
       "    <tr>\n",
       "      <th>male</th>\n",
       "      <td>28343</td>\n",
       "      <td>2731</td>\n",
       "      <td>8</td>\n",
       "    </tr>\n",
       "  </tbody>\n",
       "</table>\n",
       "</div>"
      ],
      "text/plain": [
       "        renew  churn  churnPct\n",
       "gender                        \n",
       "female  25528   2390         8\n",
       "male    28343   2731         8"
      ]
     },
     "execution_count": 52,
     "metadata": {},
     "output_type": "execute_result"
    }
   ],
   "source": [
    "# using good quality data to check customers churn behavior by their gender\n",
    "\n",
    "piv = reg.groupby(['churn','gender'])['msno'].count().unstack('churn').fillna(0).astype(int)\n",
    "piv.columns = ['renew','churn']\n",
    "piv['churnPct'] = (piv['churn'].div(piv.sum(1)) * 100).astype(int)\n",
    "piv[piv[['renew','churn']].sum(1)>200].sort_values('churnPct', ascending=False)\n",
    "\n",
    "# no difference in churn behavior by gender\n",
    "# hence, fixing gender DQ issue is of no use, even if it were possible to do so for this high proportion of bad quality data"
   ]
  },
  {
   "cell_type": "code",
   "execution_count": 53,
   "metadata": {
    "scrolled": true
   },
   "outputs": [
    {
     "data": {
      "text/plain": [
       "7     73164\n",
       "9     35603\n",
       "3     15921\n",
       "4      7374\n",
       "13      445\n",
       "Name: regSrc, dtype: int64"
      ]
     },
     "execution_count": 53,
     "metadata": {},
     "output_type": "execute_result"
    }
   ],
   "source": [
    "# check DQ issue with member's  registration source\n",
    "\n",
    "reg['regSrc'].value_counts(dropna=False)\n",
    "\n",
    "# looks like no issue here"
   ]
  },
  {
   "cell_type": "code",
   "execution_count": 54,
   "metadata": {},
   "outputs": [
    {
     "data": {
      "text/plain": [
       "count                  132507\n",
       "unique                   4668\n",
       "top       2015-10-09 00:00:00\n",
       "freq                      256\n",
       "first     2004-03-26 00:00:00\n",
       "last      2017-03-26 00:00:00\n",
       "Name: regDate, dtype: object"
      ]
     },
     "execution_count": 54,
     "metadata": {},
     "output_type": "execute_result"
    }
   ],
   "source": [
    "# check DQ issue with member's registration age\n",
    "\n",
    "reg['regDate'].describe()\n",
    "\n",
    "# it is fine to have users registered that far back in past\n",
    "# what matters is that the transaction expiry date of each user is in Feb/Mar 2017\n",
    "# and that it is in alignment with the max registration date as end of Feb 2017"
   ]
  },
  {
   "cell_type": "code",
   "execution_count": 55,
   "metadata": {},
   "outputs": [
    {
     "data": {
      "text/plain": [
       "2016    31228\n",
       "2015    24534\n",
       "2013    17530\n",
       "2014    14055\n",
       "2012    11701\n",
       "2011     9572\n",
       "2010     6073\n",
       "2007     3943\n",
       "2008     2716\n",
       "2006     2647\n",
       "2017     2561\n",
       "2009     2338\n",
       "2005     2304\n",
       "2004     1305\n",
       "Name: regDate, dtype: int64"
      ]
     },
     "execution_count": 55,
     "metadata": {},
     "output_type": "execute_result"
    }
   ],
   "source": [
    "# outline years of registration for users\n",
    "\n",
    "reg['regDate'].dt.year.value_counts(dropna=False)"
   ]
  },
  {
   "cell_type": "code",
   "execution_count": 56,
   "metadata": {},
   "outputs": [
    {
     "data": {
      "text/plain": [
       "count    132507.000000\n",
       "mean         13.503030\n",
       "std          15.381247\n",
       "min           1.000000\n",
       "25%           1.000000\n",
       "50%           1.000000\n",
       "75%          27.000000\n",
       "max          60.000000\n",
       "Name: userAge, dtype: float64"
      ]
     },
     "execution_count": 56,
     "metadata": {},
     "output_type": "execute_result"
    }
   ],
   "source": [
    "# retain age attribute to be used later for alternate model building\n",
    "# however, default all the values outside the reasonable range to one number that would be used to\n",
    "# filter out bad records for alternate model training\n",
    "\n",
    "reg['userAge'] = reg['userAge'].apply(lambda x: 1 if (x>60 or x<18) else x)\n",
    "reg['userAge'].describe()"
   ]
  },
  {
   "cell_type": "code",
   "execution_count": 57,
   "metadata": {},
   "outputs": [],
   "source": [
    "# drop gender attribute due to high DQ issue\n",
    "\n",
    "reg.drop('gender', axis=1, inplace=True)"
   ]
  },
  {
   "cell_type": "code",
   "execution_count": 58,
   "metadata": {},
   "outputs": [],
   "source": [
    "# calculate registration age for the user i.e. number of days since the user registered for the service\n",
    "\n",
    "reg['regAge'] = (currDate - reg['regDate']).dt.days + 1"
   ]
  },
  {
   "cell_type": "code",
   "execution_count": 59,
   "metadata": {},
   "outputs": [
    {
     "name": "stdout",
     "output_type": "stream",
     "text": [
      "<class 'pandas.core.frame.DataFrame'>\n",
      "RangeIndex: 132507 entries, 0 to 132506\n",
      "Data columns (total 7 columns):\n",
      "msno       132507 non-null object\n",
      "churn      132507 non-null int64\n",
      "regDate    132507 non-null datetime64[ns]\n",
      "regAge     132507 non-null int64\n",
      "userAge    132507 non-null int64\n",
      "city       132507 non-null int64\n",
      "regSrc     132507 non-null int64\n",
      "dtypes: datetime64[ns](1), int64(5), object(1)\n",
      "memory usage: 7.1+ MB\n"
     ]
    }
   ],
   "source": [
    "# re-order attributes in the dataframe\n",
    "\n",
    "reg = reg[['msno', 'churn', 'regDate', 'regAge', 'userAge', 'city', 'regSrc']]\n",
    "\n",
    "reg.info()"
   ]
  },
  {
   "cell_type": "code",
   "execution_count": 60,
   "metadata": {},
   "outputs": [],
   "source": [
    "# generate feed of clean data to be used later for EDA\n",
    "\n",
    "reg.to_csv(\"{}/{}\".format(dirData, fileCleanReg), index=False)"
   ]
  },
  {
   "cell_type": "code",
   "execution_count": 77,
   "metadata": {},
   "outputs": [],
   "source": [
    "# delete registration and transaction dataframes to free up memory\n",
    "\n",
    "del(reg)\n",
    "del(trx)"
   ]
  },
  {
   "cell_type": "markdown",
   "metadata": {},
   "source": [
    "#### Usage Data"
   ]
  },
  {
   "cell_type": "code",
   "execution_count": 61,
   "metadata": {},
   "outputs": [
    {
     "name": "stdout",
     "output_type": "stream",
     "text": [
      "<class 'pandas.core.frame.DataFrame'>\n",
      "RangeIndex: 37112323 entries, 0 to 37112322\n",
      "Data columns (total 10 columns):\n",
      "msno          object\n",
      "date          datetime64[ns]\n",
      "num_25        int64\n",
      "num_50        int64\n",
      "num_75        int64\n",
      "num_985       int64\n",
      "num_100       int64\n",
      "num_unq       int64\n",
      "total_secs    int64\n",
      "churn         int64\n",
      "dtypes: datetime64[ns](1), int64(8), object(1)\n",
      "memory usage: 2.8+ GB\n"
     ]
    }
   ],
   "source": [
    "# information about raw usage dataframe\n",
    "\n",
    "df.info()"
   ]
  },
  {
   "cell_type": "code",
   "execution_count": 7,
   "metadata": {},
   "outputs": [
    {
     "data": {
      "text/html": [
       "<div>\n",
       "<style scoped>\n",
       "    .dataframe tbody tr th:only-of-type {\n",
       "        vertical-align: middle;\n",
       "    }\n",
       "\n",
       "    .dataframe tbody tr th {\n",
       "        vertical-align: top;\n",
       "    }\n",
       "\n",
       "    .dataframe thead th {\n",
       "        text-align: right;\n",
       "    }\n",
       "</style>\n",
       "<table border=\"1\" class=\"dataframe\">\n",
       "  <thead>\n",
       "    <tr style=\"text-align: right;\">\n",
       "      <th></th>\n",
       "      <th>msno</th>\n",
       "      <th>date</th>\n",
       "      <th>songs25</th>\n",
       "      <th>songs50</th>\n",
       "      <th>songs75</th>\n",
       "      <th>songs985</th>\n",
       "      <th>songs100</th>\n",
       "      <th>songsUnq</th>\n",
       "      <th>total_secs</th>\n",
       "      <th>churn</th>\n",
       "      <th>songs</th>\n",
       "      <th>songsUnqPct</th>\n",
       "      <th>songsRpl</th>\n",
       "      <th>songsRplPct</th>\n",
       "      <th>songsCmplPct</th>\n",
       "      <th>songsSkp</th>\n",
       "      <th>songsSkpPct</th>\n",
       "      <th>year</th>\n",
       "      <th>week</th>\n",
       "      <th>yrWk</th>\n",
       "    </tr>\n",
       "  </thead>\n",
       "  <tbody>\n",
       "    <tr>\n",
       "      <th>0</th>\n",
       "      <td>+++snpr7pmobhLKUgSHTv/mpkqgBT0tQJ0zQj6qKrqc=</td>\n",
       "      <td>2015-01-01</td>\n",
       "      <td>3</td>\n",
       "      <td>3</td>\n",
       "      <td>2</td>\n",
       "      <td>2</td>\n",
       "      <td>6</td>\n",
       "      <td>16</td>\n",
       "      <td>2269</td>\n",
       "      <td>0</td>\n",
       "      <td>16</td>\n",
       "      <td>100.0</td>\n",
       "      <td>0</td>\n",
       "      <td>0.0</td>\n",
       "      <td>37.5</td>\n",
       "      <td>10</td>\n",
       "      <td>62.5</td>\n",
       "      <td>2015</td>\n",
       "      <td>1</td>\n",
       "      <td>201501</td>\n",
       "    </tr>\n",
       "    <tr>\n",
       "      <th>1</th>\n",
       "      <td>++4cUL0b9CfW8cj0A/wfSxQc4k4fcVtWcLqk2UOdpKs=</td>\n",
       "      <td>2015-01-01</td>\n",
       "      <td>0</td>\n",
       "      <td>0</td>\n",
       "      <td>0</td>\n",
       "      <td>0</td>\n",
       "      <td>5</td>\n",
       "      <td>5</td>\n",
       "      <td>1236</td>\n",
       "      <td>0</td>\n",
       "      <td>5</td>\n",
       "      <td>100.0</td>\n",
       "      <td>0</td>\n",
       "      <td>0.0</td>\n",
       "      <td>100.0</td>\n",
       "      <td>0</td>\n",
       "      <td>0.0</td>\n",
       "      <td>2015</td>\n",
       "      <td>1</td>\n",
       "      <td>201501</td>\n",
       "    </tr>\n",
       "    <tr>\n",
       "      <th>2</th>\n",
       "      <td>++5wYjoMgQHoRuD3GbbvmphZbBBwymzv5Q4l8sywtuU=</td>\n",
       "      <td>2015-01-01</td>\n",
       "      <td>21</td>\n",
       "      <td>0</td>\n",
       "      <td>0</td>\n",
       "      <td>1</td>\n",
       "      <td>13</td>\n",
       "      <td>33</td>\n",
       "      <td>3211</td>\n",
       "      <td>0</td>\n",
       "      <td>35</td>\n",
       "      <td>94.3</td>\n",
       "      <td>2</td>\n",
       "      <td>5.7</td>\n",
       "      <td>37.1</td>\n",
       "      <td>22</td>\n",
       "      <td>62.9</td>\n",
       "      <td>2015</td>\n",
       "      <td>1</td>\n",
       "      <td>201501</td>\n",
       "    </tr>\n",
       "    <tr>\n",
       "      <th>3</th>\n",
       "      <td>++95tJZADNg8U8HKbYdxbbXIRsO6pw1zBK4tHI7BtZo=</td>\n",
       "      <td>2015-01-01</td>\n",
       "      <td>2</td>\n",
       "      <td>1</td>\n",
       "      <td>1</td>\n",
       "      <td>0</td>\n",
       "      <td>19</td>\n",
       "      <td>14</td>\n",
       "      <td>5645</td>\n",
       "      <td>0</td>\n",
       "      <td>23</td>\n",
       "      <td>60.9</td>\n",
       "      <td>9</td>\n",
       "      <td>39.1</td>\n",
       "      <td>82.6</td>\n",
       "      <td>4</td>\n",
       "      <td>17.4</td>\n",
       "      <td>2015</td>\n",
       "      <td>1</td>\n",
       "      <td>201501</td>\n",
       "    </tr>\n",
       "    <tr>\n",
       "      <th>4</th>\n",
       "      <td>++Pn0C12cgWQPG4eSGOqQHYiw/gHgHKNsLBpBmTZYuQ=</td>\n",
       "      <td>2015-01-01</td>\n",
       "      <td>4</td>\n",
       "      <td>2</td>\n",
       "      <td>0</td>\n",
       "      <td>4</td>\n",
       "      <td>19</td>\n",
       "      <td>15</td>\n",
       "      <td>5755</td>\n",
       "      <td>0</td>\n",
       "      <td>29</td>\n",
       "      <td>51.7</td>\n",
       "      <td>14</td>\n",
       "      <td>48.3</td>\n",
       "      <td>65.5</td>\n",
       "      <td>10</td>\n",
       "      <td>34.5</td>\n",
       "      <td>2015</td>\n",
       "      <td>1</td>\n",
       "      <td>201501</td>\n",
       "    </tr>\n",
       "  </tbody>\n",
       "</table>\n",
       "</div>"
      ],
      "text/plain": [
       "                                           msno       date  songs25  songs50  \\\n",
       "0  +++snpr7pmobhLKUgSHTv/mpkqgBT0tQJ0zQj6qKrqc= 2015-01-01        3        3   \n",
       "1  ++4cUL0b9CfW8cj0A/wfSxQc4k4fcVtWcLqk2UOdpKs= 2015-01-01        0        0   \n",
       "2  ++5wYjoMgQHoRuD3GbbvmphZbBBwymzv5Q4l8sywtuU= 2015-01-01       21        0   \n",
       "3  ++95tJZADNg8U8HKbYdxbbXIRsO6pw1zBK4tHI7BtZo= 2015-01-01        2        1   \n",
       "4  ++Pn0C12cgWQPG4eSGOqQHYiw/gHgHKNsLBpBmTZYuQ= 2015-01-01        4        2   \n",
       "\n",
       "   songs75  songs985  songs100  songsUnq  total_secs  churn  songs  \\\n",
       "0        2         2         6        16        2269      0     16   \n",
       "1        0         0         5         5        1236      0      5   \n",
       "2        0         1        13        33        3211      0     35   \n",
       "3        1         0        19        14        5645      0     23   \n",
       "4        0         4        19        15        5755      0     29   \n",
       "\n",
       "   songsUnqPct  songsRpl  songsRplPct  songsCmplPct  songsSkp  songsSkpPct  \\\n",
       "0        100.0         0          0.0          37.5        10         62.5   \n",
       "1        100.0         0          0.0         100.0         0          0.0   \n",
       "2         94.3         2          5.7          37.1        22         62.9   \n",
       "3         60.9         9         39.1          82.6         4         17.4   \n",
       "4         51.7        14         48.3          65.5        10         34.5   \n",
       "\n",
       "   year  week    yrWk  \n",
       "0  2015     1  201501  \n",
       "1  2015     1  201501  \n",
       "2  2015     1  201501  \n",
       "3  2015     1  201501  \n",
       "4  2015     1  201501  "
      ]
     },
     "execution_count": 7,
     "metadata": {},
     "output_type": "execute_result"
    }
   ],
   "source": [
    "# tidy up usage data\n",
    "\n",
    "# rename columns\n",
    "df.rename({'is_churn':'churn', 'num_25':'songs25', 'num_50':'songs50', 'num_75':'songs75',\n",
    "           'num_985':'songs985', 'num_100':'songs100', 'num_unq':'songsUnq'}, axis=1, inplace=True)\n",
    "\n",
    "# convert playtime from float to integer type\n",
    "df['total_secs'] = df['total_secs'].round().astype(int)\n",
    "\n",
    "# derive a column to represent total number of songs played in a day (could very well include same songs played again)\n",
    "df['songs'] = df['songs25'] + df['songs50'] + df['songs75'] + df['songs985'] + df['songs100']\n",
    "\n",
    "# no. of unique songs played as percentage of total number of songs played\n",
    "df['songsUnqPct'] = (df['songsUnq'].div(df['songs'], axis=0) * 100).fillna(0).round(1)\n",
    "\n",
    "# derive attributes to represent songs replayed, completed and skipped as percentage of total songs played\n",
    "df['songsRpl'] = df['songs'] - df['songsUnq']\n",
    "df['songsRplPct'] = (df['songsRpl'].div(df['songs'], axis=0) * 100).fillna(0).round(1)\n",
    "df['songsCmplPct'] = (df['songs100'].div(df['songs'], axis=0) * 100).fillna(0).round(1)\n",
    "df['songsSkp'] = df['songs'] - df['songs100']\n",
    "df['songsSkpPct'] = (df['songsSkp'].div(df['songs']) * 100).round(1)\n",
    "\n",
    "# derive date related attributes to be used later\n",
    "df = df.merge(dates[['date','year','week','yrWk']], on='date', sort=False)\n",
    "\n",
    "df.head()"
   ]
  },
  {
   "cell_type": "code",
   "execution_count": 8,
   "metadata": {
    "scrolled": false
   },
   "outputs": [
    {
     "name": "stdout",
     "output_type": "stream",
     "text": [
      "<class 'pandas.core.frame.DataFrame'>\n",
      "Int64Index: 37112323 entries, 0 to 37112322\n",
      "Data columns (total 20 columns):\n",
      "msno            object\n",
      "date            datetime64[ns]\n",
      "songs25         int64\n",
      "songs50         int64\n",
      "songs75         int64\n",
      "songs985        int64\n",
      "songs100        int64\n",
      "songsUnq        int64\n",
      "total_secs      int32\n",
      "churn           int64\n",
      "songs           int64\n",
      "songsUnqPct     float64\n",
      "songsRpl        int64\n",
      "songsRplPct     float64\n",
      "songsCmplPct    float64\n",
      "songsSkp        int64\n",
      "songsSkpPct     float64\n",
      "year            int64\n",
      "week            int64\n",
      "yrWk            int64\n",
      "dtypes: datetime64[ns](1), float64(4), int32(1), int64(13), object(1)\n",
      "memory usage: 5.7+ GB\n"
     ]
    }
   ],
   "source": [
    "# information about tidy dataframe\n",
    "\n",
    "df.info()"
   ]
  },
  {
   "cell_type": "code",
   "execution_count": 64,
   "metadata": {},
   "outputs": [
    {
     "data": {
      "text/plain": [
       "False"
      ]
     },
     "execution_count": 64,
     "metadata": {},
     "output_type": "execute_result"
    }
   ],
   "source": [
    "# any missing value?\n",
    "\n",
    "df.isnull().values.any()"
   ]
  },
  {
   "cell_type": "code",
   "execution_count": 65,
   "metadata": {},
   "outputs": [
    {
     "data": {
      "text/plain": [
       "(Timestamp('2015-01-01 00:00:00'), Timestamp('2017-02-28 00:00:00'))"
      ]
     },
     "execution_count": 65,
     "metadata": {},
     "output_type": "execute_result"
    }
   ],
   "source": [
    "# confirm the scope of dates; max date should be in Feb 2017, since we need to predict churn for the month of Mar 2017\n",
    "\n",
    "df['date'].min(), df['date'].max()"
   ]
  },
  {
   "cell_type": "code",
   "execution_count": 66,
   "metadata": {},
   "outputs": [
    {
     "data": {
      "text/html": [
       "<div>\n",
       "<style scoped>\n",
       "    .dataframe tbody tr th:only-of-type {\n",
       "        vertical-align: middle;\n",
       "    }\n",
       "\n",
       "    .dataframe tbody tr th {\n",
       "        vertical-align: top;\n",
       "    }\n",
       "\n",
       "    .dataframe thead th {\n",
       "        text-align: right;\n",
       "    }\n",
       "</style>\n",
       "<table border=\"1\" class=\"dataframe\">\n",
       "  <thead>\n",
       "    <tr style=\"text-align: right;\">\n",
       "      <th></th>\n",
       "      <th>min</th>\n",
       "      <th>max</th>\n",
       "      <th>nunique</th>\n",
       "    </tr>\n",
       "    <tr>\n",
       "      <th>year</th>\n",
       "      <th></th>\n",
       "      <th></th>\n",
       "      <th></th>\n",
       "    </tr>\n",
       "  </thead>\n",
       "  <tbody>\n",
       "    <tr>\n",
       "      <th>2015</th>\n",
       "      <td>1</td>\n",
       "      <td>53</td>\n",
       "      <td>53</td>\n",
       "    </tr>\n",
       "    <tr>\n",
       "      <th>2016</th>\n",
       "      <td>1</td>\n",
       "      <td>52</td>\n",
       "      <td>52</td>\n",
       "    </tr>\n",
       "    <tr>\n",
       "      <th>2017</th>\n",
       "      <td>1</td>\n",
       "      <td>9</td>\n",
       "      <td>9</td>\n",
       "    </tr>\n",
       "  </tbody>\n",
       "</table>\n",
       "</div>"
      ],
      "text/plain": [
       "      min  max  nunique\n",
       "year                   \n",
       "2015    1   53       53\n",
       "2016    1   52       52\n",
       "2017    1    9        9"
      ]
     },
     "execution_count": 66,
     "metadata": {},
     "output_type": "execute_result"
    }
   ],
   "source": [
    "# confirm that the weeks in each year are as expected - 2017 should have 8 or 9 weeks only\n",
    "\n",
    "df.groupby(['year'])['week'].agg(['min','max','nunique'])"
   ]
  },
  {
   "cell_type": "code",
   "execution_count": 9,
   "metadata": {},
   "outputs": [
    {
     "name": "stdout",
     "output_type": "stream",
     "text": [
      "Wall time: 4min 59s\n"
     ]
    },
    {
     "data": {
      "text/html": [
       "<div>\n",
       "<style scoped>\n",
       "    .dataframe tbody tr th:only-of-type {\n",
       "        vertical-align: middle;\n",
       "    }\n",
       "\n",
       "    .dataframe tbody tr th {\n",
       "        vertical-align: top;\n",
       "    }\n",
       "\n",
       "    .dataframe thead th {\n",
       "        text-align: right;\n",
       "    }\n",
       "</style>\n",
       "<table border=\"1\" class=\"dataframe\">\n",
       "  <thead>\n",
       "    <tr style=\"text-align: right;\">\n",
       "      <th></th>\n",
       "      <th>msno</th>\n",
       "      <th>date</th>\n",
       "      <th>songs25</th>\n",
       "      <th>songs50</th>\n",
       "      <th>songs75</th>\n",
       "      <th>songs985</th>\n",
       "      <th>songs100</th>\n",
       "      <th>songsUnq</th>\n",
       "      <th>total_secs</th>\n",
       "      <th>churn</th>\n",
       "      <th>songs</th>\n",
       "      <th>songsUnqPct</th>\n",
       "      <th>songsRpl</th>\n",
       "      <th>songsRplPct</th>\n",
       "      <th>songsCmplPct</th>\n",
       "      <th>songsSkp</th>\n",
       "      <th>songsSkpPct</th>\n",
       "      <th>year</th>\n",
       "      <th>week</th>\n",
       "      <th>yrWk</th>\n",
       "    </tr>\n",
       "  </thead>\n",
       "  <tbody>\n",
       "  </tbody>\n",
       "</table>\n",
       "</div>"
      ],
      "text/plain": [
       "Empty DataFrame\n",
       "Columns: [msno, date, songs25, songs50, songs75, songs985, songs100, songsUnq, total_secs, churn, songs, songsUnqPct, songsRpl, songsRplPct, songsCmplPct, songsSkp, songsSkpPct, year, week, yrWk]\n",
       "Index: []"
      ]
     },
     "execution_count": 9,
     "metadata": {},
     "output_type": "execute_result"
    }
   ],
   "source": [
    "%%time\n",
    "\n",
    "# number of songs less than 0?\n",
    "\n",
    "df[df[[c for c in df if c.startswith(\"songs\")]]<0].dropna()"
   ]
  },
  {
   "cell_type": "code",
   "execution_count": 78,
   "metadata": {},
   "outputs": [
    {
     "data": {
      "text/plain": [
       "0    93.568667\n",
       "1     6.431333\n",
       "Name: churn, dtype: float64"
      ]
     },
     "execution_count": 78,
     "metadata": {},
     "output_type": "execute_result"
    }
   ],
   "source": [
    "# churn distribution in training data\n",
    "\n",
    "train['churn'].value_counts(normalize=True)*100"
   ]
  },
  {
   "cell_type": "code",
   "execution_count": 79,
   "metadata": {},
   "outputs": [
    {
     "data": {
      "text/plain": [
       "0    93.394102\n",
       "1     6.605898\n",
       "Name: churn, dtype: float64"
      ]
     },
     "execution_count": 79,
     "metadata": {},
     "output_type": "execute_result"
    }
   ],
   "source": [
    "# churn distribution in usage data\n",
    "\n",
    "df_churn_info = df[['msno','churn']].drop_duplicates()['churn']\n",
    "(df_churn_info.value_counts()*100)/df_churn_info.count()\n",
    "\n",
    "# churn distribution in usage data is slightly different from that in labeled data (aka training data) \n",
    "# because usage does not have all the users from labeled data"
   ]
  },
  {
   "cell_type": "code",
   "execution_count": 80,
   "metadata": {
    "scrolled": true
   },
   "outputs": [
    {
     "data": {
      "text/plain": [
       "0"
      ]
     },
     "execution_count": 80,
     "metadata": {},
     "output_type": "execute_result"
    }
   ],
   "source": [
    "# check that the number of unique songs is not greater than total number of songs listened to on the same day\n",
    "\n",
    "df[df['songsUnq']>df['songs']]['msno'].count()"
   ]
  },
  {
   "cell_type": "code",
   "execution_count": 81,
   "metadata": {},
   "outputs": [
    {
     "data": {
      "image/png": "[encoded data removed]",
      "text/plain": [
       "<Figure size 432x288 with 1 Axes>"
      ]
     },
     "metadata": {
      "needs_background": "light"
     },
     "output_type": "display_data"
    }
   ],
   "source": [
    "# distribution of playtime values\n",
    "\n",
    "sns.boxplot(data=df, x='churn', y='total_secs')\n",
    "plt.show()\n",
    "\n",
    "# it seems that playtime has negative values\n",
    "# does it also have values beyond 86400 secs, which is the maximum number of seconds available in a day?"
   ]
  },
  {
   "cell_type": "code",
   "execution_count": 82,
   "metadata": {
    "scrolled": false
   },
   "outputs": [
    {
     "data": {
      "text/plain": [
       "18464"
      ]
     },
     "execution_count": 82,
     "metadata": {},
     "output_type": "execute_result"
    }
   ],
   "source": [
    "# For how many records, playtime has data quality issue?\n",
    "\n",
    "((df['total_secs']<0) | (df['total_secs']>86400)).sum()\n",
    "\n",
    "# daily playtime value cannot be negative or greater than 86400 (total number of seconds in 24 hours)"
   ]
  },
  {
   "cell_type": "code",
   "execution_count": 83,
   "metadata": {
    "scrolled": false
   },
   "outputs": [
    {
     "data": {
      "text/plain": [
       "6067"
      ]
     },
     "execution_count": 83,
     "metadata": {},
     "output_type": "execute_result"
    }
   ],
   "source": [
    "# How many users are affected with playtime data quality issue?\n",
    "\n",
    "df[((df['total_secs']<0) | (df['total_secs']>86400))]['msno'].nunique()"
   ]
  },
  {
   "cell_type": "code",
   "execution_count": 84,
   "metadata": {},
   "outputs": [
    {
     "data": {
      "text/plain": [
       "-306050.5135136111"
      ]
     },
     "execution_count": 84,
     "metadata": {},
     "output_type": "execute_result"
    }
   ],
   "source": [
    "# average of playtime values\n",
    "\n",
    "df['total_secs'].mean()"
   ]
  },
  {
   "cell_type": "code",
   "execution_count": 85,
   "metadata": {},
   "outputs": [
    {
     "data": {
      "text/plain": [
       "8037.589010110811"
      ]
     },
     "execution_count": 85,
     "metadata": {},
     "output_type": "execute_result"
    }
   ],
   "source": [
    "# average of playtime values across normal range\n",
    "\n",
    "df[((df['total_secs']>=0) & (df['total_secs']<=86400))]['total_secs'].mean()\n",
    "\n",
    "# even though negligible percentage of total usage records has DQ issue, \n",
    "# the effect on the mean value is significant, implying that data with DQ issue certainly needs to be fixed"
   ]
  },
  {
   "cell_type": "code",
   "execution_count": 86,
   "metadata": {},
   "outputs": [
    {
     "data": {
      "text/html": [
       "<div>\n",
       "<style scoped>\n",
       "    .dataframe tbody tr th:only-of-type {\n",
       "        vertical-align: middle;\n",
       "    }\n",
       "\n",
       "    .dataframe tbody tr th {\n",
       "        vertical-align: top;\n",
       "    }\n",
       "\n",
       "    .dataframe thead th {\n",
       "        text-align: right;\n",
       "    }\n",
       "</style>\n",
       "<table border=\"1\" class=\"dataframe\">\n",
       "  <thead>\n",
       "    <tr style=\"text-align: right;\">\n",
       "      <th></th>\n",
       "      <th>total_secs</th>\n",
       "      <th>songs100</th>\n",
       "      <th>songs</th>\n",
       "    </tr>\n",
       "  </thead>\n",
       "  <tbody>\n",
       "    <tr>\n",
       "      <th>total_secs</th>\n",
       "      <td>1.000000</td>\n",
       "      <td>-0.007561</td>\n",
       "      <td>-0.009186</td>\n",
       "    </tr>\n",
       "    <tr>\n",
       "      <th>songs100</th>\n",
       "      <td>-0.007561</td>\n",
       "      <td>1.000000</td>\n",
       "      <td>0.926022</td>\n",
       "    </tr>\n",
       "    <tr>\n",
       "      <th>songs</th>\n",
       "      <td>-0.009186</td>\n",
       "      <td>0.926022</td>\n",
       "      <td>1.000000</td>\n",
       "    </tr>\n",
       "  </tbody>\n",
       "</table>\n",
       "</div>"
      ],
      "text/plain": [
       "            total_secs  songs100     songs\n",
       "total_secs    1.000000 -0.007561 -0.009186\n",
       "songs100     -0.007561  1.000000  0.926022\n",
       "songs        -0.009186  0.926022  1.000000"
      ]
     },
     "execution_count": 86,
     "metadata": {},
     "output_type": "execute_result"
    }
   ],
   "source": [
    "# correlation between playtime and songs played\n",
    "\n",
    "df[['total_secs','songs100','songs']].corr()"
   ]
  },
  {
   "cell_type": "code",
   "execution_count": 87,
   "metadata": {},
   "outputs": [
    {
     "data": {
      "text/html": [
       "<div>\n",
       "<style scoped>\n",
       "    .dataframe tbody tr th:only-of-type {\n",
       "        vertical-align: middle;\n",
       "    }\n",
       "\n",
       "    .dataframe tbody tr th {\n",
       "        vertical-align: top;\n",
       "    }\n",
       "\n",
       "    .dataframe thead th {\n",
       "        text-align: right;\n",
       "    }\n",
       "</style>\n",
       "<table border=\"1\" class=\"dataframe\">\n",
       "  <thead>\n",
       "    <tr style=\"text-align: right;\">\n",
       "      <th></th>\n",
       "      <th>total_secs</th>\n",
       "      <th>songs100</th>\n",
       "      <th>songs</th>\n",
       "    </tr>\n",
       "  </thead>\n",
       "  <tbody>\n",
       "    <tr>\n",
       "      <th>total_secs</th>\n",
       "      <td>1.000000</td>\n",
       "      <td>0.979715</td>\n",
       "      <td>0.934790</td>\n",
       "    </tr>\n",
       "    <tr>\n",
       "      <th>songs100</th>\n",
       "      <td>0.979715</td>\n",
       "      <td>1.000000</td>\n",
       "      <td>0.918465</td>\n",
       "    </tr>\n",
       "    <tr>\n",
       "      <th>songs</th>\n",
       "      <td>0.934790</td>\n",
       "      <td>0.918465</td>\n",
       "      <td>1.000000</td>\n",
       "    </tr>\n",
       "  </tbody>\n",
       "</table>\n",
       "</div>"
      ],
      "text/plain": [
       "            total_secs  songs100     songs\n",
       "total_secs    1.000000  0.979715  0.934790\n",
       "songs100      0.979715  1.000000  0.918465\n",
       "songs         0.934790  0.918465  1.000000"
      ]
     },
     "execution_count": 87,
     "metadata": {},
     "output_type": "execute_result"
    }
   ],
   "source": [
    "# correlation between playtime and songs played for good quality data\n",
    "\n",
    "df[(df['total_secs']>=0) & (df['total_secs']<=86400)][['total_secs','songs100','songs']].corr()\n",
    "\n",
    "# clearly, playtime and songs completed in a day are highly correlated\n",
    "# however, due to bad playtime values, the correlation seems to have been badly impacted (see results above)"
   ]
  },
  {
   "cell_type": "markdown",
   "metadata": {},
   "source": [
    "Here are few ways of correcting the issue. \n",
    "\n",
    "However, I decide to use a hybrid methodology of first two – apply second where average value of the week exists and first if it doesn’t.\n",
    "\n",
    "1)\tFlooring and ceiling: Negative values are re-assigned 0, and ones beyond maximum allowable seconds in a day are updated as 86,400.\n",
    "\n",
    "2)\tAverage of the week: Rectify the issue by replacing an abnormal value with the average value of the week the date belongs to.\n",
    "\n",
    "3)\tAverage of the same days: Replace an abnormal value with the average value of the same days across user’s lifetime. Such a rectification is based on a reasonable theory that user's listening behavior must be more predictable by same days of the other weeks rather by other weekdays. For example, my listening behavior on a given Sunday might be more consistent with other Sundays rather than with Mondays or Thursdays.\n",
    "\n",
    "4)\tTotal number of songs completed: A quick analysis reveals that normal playtime value for a given day is highly correlated with total number of songs completed by the user on the same day, with Pearson correlation coefficient of 0.98. Thereby, we can fix abnormal values by extrapolating numbers based on total number of songs listened to on the day."
   ]
  },
  {
   "cell_type": "code",
   "execution_count": 10,
   "metadata": {},
   "outputs": [],
   "source": [
    "# weekly playtime average (aggregated/reduced) data\n",
    "# first filter out bad records for a clean average of playtime (total_secs) for each user (msno) and week/year\n",
    "\n",
    "WkPlaytime = df[(df['total_secs']>=0) & (df['total_secs']<=86400)].groupby(['msno','year',\n",
    "                                                                            'week'])['total_secs'].mean().reset_index()"
   ]
  },
  {
   "cell_type": "code",
   "execution_count": 11,
   "metadata": {},
   "outputs": [],
   "source": [
    "# merge weekly average playtime with original dataset \n",
    "\n",
    "df['playtime_wk_mean'] = df[['msno','year','week','total_secs']].merge(WkPlaytime, on=['msno','year','week'], how='left',\n",
    "                                                                        suffixes=('','_wk_mean'))['total_secs_wk_mean']"
   ]
  },
  {
   "cell_type": "code",
   "execution_count": 76,
   "metadata": {},
   "outputs": [],
   "source": [
    "# alternate implementation of getting average weekly playtime in original dataframe\n",
    "# however, the process takes much longer to get through (> 120 min.)\n",
    "\n",
    "# df['playtime_wk_mean'] = df.groupby(['msno','year','week'])['total_secs'].transform(lambda x: x[(x>=0) & (x<=86400)].mean())"
   ]
  },
  {
   "cell_type": "code",
   "execution_count": 12,
   "metadata": {},
   "outputs": [
    {
     "name": "stdout",
     "output_type": "stream",
     "text": [
      "Wall time: 24min 17s\n"
     ]
    }
   ],
   "source": [
    "%%time\n",
    "\n",
    "# derive \"partially\" cleaned-up playtime using average playtime for the corresponding user and week/year\n",
    "\n",
    "df['playtime'] = df[['playtime_wk_mean','total_secs']].apply(lambda x: x['playtime_wk_mean'] if (x['total_secs']<0 or x['total_secs']>86400) else x['total_secs'], axis=1)"
   ]
  },
  {
   "cell_type": "code",
   "execution_count": 13,
   "metadata": {},
   "outputs": [],
   "source": [
    "# replace null values (due to lack of averge playtime information for the given user and week) with 0 and 86400,\n",
    "# depending on whether the original playtime is less than 0 or greater than 86400 respectively\n",
    "\n",
    "df['playtime'] = df['playtime'].mask(pd.isnull, df['total_secs'].map(lambda x: 0 if x<0 else 86400 if x>86400 else -1)).round().astype(int)"
   ]
  },
  {
   "cell_type": "code",
   "execution_count": 14,
   "metadata": {},
   "outputs": [
    {
     "data": {
      "text/html": [
       "<div>\n",
       "<style scoped>\n",
       "    .dataframe tbody tr th:only-of-type {\n",
       "        vertical-align: middle;\n",
       "    }\n",
       "\n",
       "    .dataframe tbody tr th {\n",
       "        vertical-align: top;\n",
       "    }\n",
       "\n",
       "    .dataframe thead th {\n",
       "        text-align: right;\n",
       "    }\n",
       "</style>\n",
       "<table border=\"1\" class=\"dataframe\">\n",
       "  <thead>\n",
       "    <tr style=\"text-align: right;\">\n",
       "      <th></th>\n",
       "      <th>msno</th>\n",
       "      <th>date</th>\n",
       "      <th>songs25</th>\n",
       "      <th>songs50</th>\n",
       "      <th>songs75</th>\n",
       "      <th>songs985</th>\n",
       "      <th>songs100</th>\n",
       "      <th>songsUnq</th>\n",
       "      <th>total_secs</th>\n",
       "      <th>churn</th>\n",
       "      <th>...</th>\n",
       "      <th>songsRpl</th>\n",
       "      <th>songsRplPct</th>\n",
       "      <th>songsCmplPct</th>\n",
       "      <th>songsSkp</th>\n",
       "      <th>songsSkpPct</th>\n",
       "      <th>year</th>\n",
       "      <th>week</th>\n",
       "      <th>yrWk</th>\n",
       "      <th>playtime_wk_mean</th>\n",
       "      <th>playtime</th>\n",
       "    </tr>\n",
       "  </thead>\n",
       "  <tbody>\n",
       "  </tbody>\n",
       "</table>\n",
       "<p>0 rows × 22 columns</p>\n",
       "</div>"
      ],
      "text/plain": [
       "Empty DataFrame\n",
       "Columns: [msno, date, songs25, songs50, songs75, songs985, songs100, songsUnq, total_secs, churn, songs, songsUnqPct, songsRpl, songsRplPct, songsCmplPct, songsSkp, songsSkpPct, year, week, yrWk, playtime_wk_mean, playtime]\n",
       "Index: []\n",
       "\n",
       "[0 rows x 22 columns]"
      ]
     },
     "execution_count": 14,
     "metadata": {},
     "output_type": "execute_result"
    }
   ],
   "source": [
    "# just check whether any playtime value was marked as -1 (from previous set of code)\n",
    "# ideally, that shouldn't be the case\n",
    "\n",
    "df[df['playtime']==-1]"
   ]
  },
  {
   "cell_type": "code",
   "execution_count": 15,
   "metadata": {},
   "outputs": [
    {
     "data": {
      "text/plain": [
       "18464"
      ]
     },
     "execution_count": 15,
     "metadata": {},
     "output_type": "execute_result"
    }
   ],
   "source": [
    "# only the bad playtime values (total_secs) should have been fixed to and different from cleaned playtime values\n",
    "\n",
    "(df['total_secs']!=df['playtime']).sum()"
   ]
  },
  {
   "cell_type": "code",
   "execution_count": 16,
   "metadata": {},
   "outputs": [
    {
     "data": {
      "text/plain": [
       "(0, 86400)"
      ]
     },
     "execution_count": 16,
     "metadata": {},
     "output_type": "execute_result"
    }
   ],
   "source": [
    "# check that the playtime values are within the expected range of 0 and 86400\n",
    "\n",
    "df['playtime'].min(), df['playtime'].max()"
   ]
  },
  {
   "cell_type": "code",
   "execution_count": 17,
   "metadata": {
    "scrolled": true
   },
   "outputs": [
    {
     "data": {
      "text/html": [
       "<div>\n",
       "<style scoped>\n",
       "    .dataframe tbody tr th:only-of-type {\n",
       "        vertical-align: middle;\n",
       "    }\n",
       "\n",
       "    .dataframe tbody tr th {\n",
       "        vertical-align: top;\n",
       "    }\n",
       "\n",
       "    .dataframe thead th {\n",
       "        text-align: right;\n",
       "    }\n",
       "</style>\n",
       "<table border=\"1\" class=\"dataframe\">\n",
       "  <thead>\n",
       "    <tr style=\"text-align: right;\">\n",
       "      <th></th>\n",
       "      <th>total_secs</th>\n",
       "      <th>playtime</th>\n",
       "      <th>songs100</th>\n",
       "      <th>songs</th>\n",
       "    </tr>\n",
       "  </thead>\n",
       "  <tbody>\n",
       "    <tr>\n",
       "      <th>total_secs</th>\n",
       "      <td>1.000000</td>\n",
       "      <td>-0.003100</td>\n",
       "      <td>-0.007561</td>\n",
       "      <td>-0.009186</td>\n",
       "    </tr>\n",
       "    <tr>\n",
       "      <th>playtime</th>\n",
       "      <td>-0.003100</td>\n",
       "      <td>1.000000</td>\n",
       "      <td>0.926609</td>\n",
       "      <td>0.895250</td>\n",
       "    </tr>\n",
       "    <tr>\n",
       "      <th>songs100</th>\n",
       "      <td>-0.007561</td>\n",
       "      <td>0.926609</td>\n",
       "      <td>1.000000</td>\n",
       "      <td>0.926022</td>\n",
       "    </tr>\n",
       "    <tr>\n",
       "      <th>songs</th>\n",
       "      <td>-0.009186</td>\n",
       "      <td>0.895250</td>\n",
       "      <td>0.926022</td>\n",
       "      <td>1.000000</td>\n",
       "    </tr>\n",
       "  </tbody>\n",
       "</table>\n",
       "</div>"
      ],
      "text/plain": [
       "            total_secs  playtime  songs100     songs\n",
       "total_secs    1.000000 -0.003100 -0.007561 -0.009186\n",
       "playtime     -0.003100  1.000000  0.926609  0.895250\n",
       "songs100     -0.007561  0.926609  1.000000  0.926022\n",
       "songs        -0.009186  0.895250  0.926022  1.000000"
      ]
     },
     "execution_count": 17,
     "metadata": {},
     "output_type": "execute_result"
    }
   ],
   "source": [
    "df[['total_secs','playtime','songs100','songs']].corr()\n",
    "\n",
    "# total_secs is the raw attribute with DQ issues\n",
    "# playtime is the new attribute after fixing the DQ issues\n",
    "# notice the correlation between playtime and songs, and that between total_secs and songs"
   ]
  },
  {
   "cell_type": "code",
   "execution_count": 18,
   "metadata": {},
   "outputs": [
    {
     "data": {
      "text/html": [
       "<div>\n",
       "<style scoped>\n",
       "    .dataframe tbody tr th:only-of-type {\n",
       "        vertical-align: middle;\n",
       "    }\n",
       "\n",
       "    .dataframe tbody tr th {\n",
       "        vertical-align: top;\n",
       "    }\n",
       "\n",
       "    .dataframe thead th {\n",
       "        text-align: right;\n",
       "    }\n",
       "</style>\n",
       "<table border=\"1\" class=\"dataframe\">\n",
       "  <thead>\n",
       "    <tr style=\"text-align: right;\">\n",
       "      <th></th>\n",
       "      <th>msno</th>\n",
       "      <th>churn</th>\n",
       "      <th>date</th>\n",
       "      <th>total_secs</th>\n",
       "      <th>playtime</th>\n",
       "      <th>songs</th>\n",
       "      <th>songs25</th>\n",
       "      <th>songs50</th>\n",
       "      <th>songs75</th>\n",
       "      <th>songs985</th>\n",
       "      <th>...</th>\n",
       "      <th>songsCmplPct</th>\n",
       "      <th>songsSkp</th>\n",
       "      <th>songsSkpPct</th>\n",
       "      <th>songsUnq</th>\n",
       "      <th>songsUnqPct</th>\n",
       "      <th>songsRpl</th>\n",
       "      <th>songsRplPct</th>\n",
       "      <th>year</th>\n",
       "      <th>week</th>\n",
       "      <th>yrWk</th>\n",
       "    </tr>\n",
       "  </thead>\n",
       "  <tbody>\n",
       "    <tr>\n",
       "      <th>0</th>\n",
       "      <td>+++snpr7pmobhLKUgSHTv/mpkqgBT0tQJ0zQj6qKrqc=</td>\n",
       "      <td>0</td>\n",
       "      <td>2015-01-01</td>\n",
       "      <td>2269</td>\n",
       "      <td>2269</td>\n",
       "      <td>16</td>\n",
       "      <td>3</td>\n",
       "      <td>3</td>\n",
       "      <td>2</td>\n",
       "      <td>2</td>\n",
       "      <td>...</td>\n",
       "      <td>37.5</td>\n",
       "      <td>10</td>\n",
       "      <td>62.5</td>\n",
       "      <td>16</td>\n",
       "      <td>100.0</td>\n",
       "      <td>0</td>\n",
       "      <td>0.0</td>\n",
       "      <td>2015</td>\n",
       "      <td>1</td>\n",
       "      <td>201501</td>\n",
       "    </tr>\n",
       "    <tr>\n",
       "      <th>1</th>\n",
       "      <td>++4cUL0b9CfW8cj0A/wfSxQc4k4fcVtWcLqk2UOdpKs=</td>\n",
       "      <td>0</td>\n",
       "      <td>2015-01-01</td>\n",
       "      <td>1236</td>\n",
       "      <td>1236</td>\n",
       "      <td>5</td>\n",
       "      <td>0</td>\n",
       "      <td>0</td>\n",
       "      <td>0</td>\n",
       "      <td>0</td>\n",
       "      <td>...</td>\n",
       "      <td>100.0</td>\n",
       "      <td>0</td>\n",
       "      <td>0.0</td>\n",
       "      <td>5</td>\n",
       "      <td>100.0</td>\n",
       "      <td>0</td>\n",
       "      <td>0.0</td>\n",
       "      <td>2015</td>\n",
       "      <td>1</td>\n",
       "      <td>201501</td>\n",
       "    </tr>\n",
       "    <tr>\n",
       "      <th>2</th>\n",
       "      <td>++5wYjoMgQHoRuD3GbbvmphZbBBwymzv5Q4l8sywtuU=</td>\n",
       "      <td>0</td>\n",
       "      <td>2015-01-01</td>\n",
       "      <td>3211</td>\n",
       "      <td>3211</td>\n",
       "      <td>35</td>\n",
       "      <td>21</td>\n",
       "      <td>0</td>\n",
       "      <td>0</td>\n",
       "      <td>1</td>\n",
       "      <td>...</td>\n",
       "      <td>37.1</td>\n",
       "      <td>22</td>\n",
       "      <td>62.9</td>\n",
       "      <td>33</td>\n",
       "      <td>94.3</td>\n",
       "      <td>2</td>\n",
       "      <td>5.7</td>\n",
       "      <td>2015</td>\n",
       "      <td>1</td>\n",
       "      <td>201501</td>\n",
       "    </tr>\n",
       "  </tbody>\n",
       "</table>\n",
       "<p>3 rows × 21 columns</p>\n",
       "</div>"
      ],
      "text/plain": [
       "                                           msno  churn       date  total_secs  \\\n",
       "0  +++snpr7pmobhLKUgSHTv/mpkqgBT0tQJ0zQj6qKrqc=      0 2015-01-01        2269   \n",
       "1  ++4cUL0b9CfW8cj0A/wfSxQc4k4fcVtWcLqk2UOdpKs=      0 2015-01-01        1236   \n",
       "2  ++5wYjoMgQHoRuD3GbbvmphZbBBwymzv5Q4l8sywtuU=      0 2015-01-01        3211   \n",
       "\n",
       "   playtime  songs  songs25  songs50  songs75  songs985  ...  songsCmplPct  \\\n",
       "0      2269     16        3        3        2         2  ...          37.5   \n",
       "1      1236      5        0        0        0         0  ...         100.0   \n",
       "2      3211     35       21        0        0         1  ...          37.1   \n",
       "\n",
       "   songsSkp  songsSkpPct  songsUnq  songsUnqPct  songsRpl  songsRplPct  year  \\\n",
       "0        10         62.5        16        100.0         0          0.0  2015   \n",
       "1         0          0.0         5        100.0         0          0.0  2015   \n",
       "2        22         62.9        33         94.3         2          5.7  2015   \n",
       "\n",
       "   week    yrWk  \n",
       "0     1  201501  \n",
       "1     1  201501  \n",
       "2     1  201501  \n",
       "\n",
       "[3 rows x 21 columns]"
      ]
     },
     "execution_count": 18,
     "metadata": {},
     "output_type": "execute_result"
    }
   ],
   "source": [
    "# re-organize columns in the dataframe\n",
    "\n",
    "df = df[['msno', 'churn', 'date', 'total_secs', 'playtime', 'songs', 'songs25', 'songs50', 'songs75', 'songs985', \n",
    "         'songs100', 'songsCmplPct', 'songsSkp', 'songsSkpPct', 'songsUnq', 'songsUnqPct', 'songsRpl', 'songsRplPct',\n",
    "         'year', 'week', 'yrWk']]\n",
    "\n",
    "df.head(3)"
   ]
  },
  {
   "cell_type": "code",
   "execution_count": 19,
   "metadata": {
    "scrolled": false
   },
   "outputs": [
    {
     "data": {
      "text/html": [
       "<div>\n",
       "<style scoped>\n",
       "    .dataframe tbody tr th:only-of-type {\n",
       "        vertical-align: middle;\n",
       "    }\n",
       "\n",
       "    .dataframe tbody tr th {\n",
       "        vertical-align: top;\n",
       "    }\n",
       "\n",
       "    .dataframe thead th {\n",
       "        text-align: right;\n",
       "    }\n",
       "</style>\n",
       "<table border=\"1\" class=\"dataframe\">\n",
       "  <thead>\n",
       "    <tr style=\"text-align: right;\">\n",
       "      <th></th>\n",
       "      <th>playtime</th>\n",
       "      <th>songs</th>\n",
       "      <th>songs25</th>\n",
       "      <th>songs50</th>\n",
       "      <th>songs75</th>\n",
       "      <th>songs985</th>\n",
       "      <th>songs100</th>\n",
       "      <th>songsCmplPct</th>\n",
       "      <th>songsSkp</th>\n",
       "      <th>songsSkpPct</th>\n",
       "      <th>songsUnq</th>\n",
       "      <th>songsUnqPct</th>\n",
       "      <th>songsRpl</th>\n",
       "      <th>songsRplPct</th>\n",
       "    </tr>\n",
       "  </thead>\n",
       "  <tbody>\n",
       "    <tr>\n",
       "      <th>playtime</th>\n",
       "      <td>1.000000</td>\n",
       "      <td>0.895250</td>\n",
       "      <td>0.183784</td>\n",
       "      <td>0.178203</td>\n",
       "      <td>0.226048</td>\n",
       "      <td>0.238732</td>\n",
       "      <td>0.926609</td>\n",
       "      <td>0.299944</td>\n",
       "      <td>0.239116</td>\n",
       "      <td>-0.299944</td>\n",
       "      <td>0.804454</td>\n",
       "      <td>-0.267998</td>\n",
       "      <td>0.603594</td>\n",
       "      <td>0.267998</td>\n",
       "    </tr>\n",
       "    <tr>\n",
       "      <th>songs</th>\n",
       "      <td>0.895250</td>\n",
       "      <td>1.000000</td>\n",
       "      <td>0.467607</td>\n",
       "      <td>0.347190</td>\n",
       "      <td>0.362533</td>\n",
       "      <td>0.305978</td>\n",
       "      <td>0.926022</td>\n",
       "      <td>0.123647</td>\n",
       "      <td>0.514687</td>\n",
       "      <td>-0.123647</td>\n",
       "      <td>0.846849</td>\n",
       "      <td>-0.258196</td>\n",
       "      <td>0.739676</td>\n",
       "      <td>0.258196</td>\n",
       "    </tr>\n",
       "    <tr>\n",
       "      <th>songs25</th>\n",
       "      <td>0.183784</td>\n",
       "      <td>0.467607</td>\n",
       "      <td>1.000000</td>\n",
       "      <td>0.472979</td>\n",
       "      <td>0.421965</td>\n",
       "      <td>0.275213</td>\n",
       "      <td>0.124098</td>\n",
       "      <td>-0.383375</td>\n",
       "      <td>0.942339</td>\n",
       "      <td>0.383375</td>\n",
       "      <td>0.492806</td>\n",
       "      <td>-0.062225</td>\n",
       "      <td>0.223374</td>\n",
       "      <td>0.062225</td>\n",
       "    </tr>\n",
       "    <tr>\n",
       "      <th>songs50</th>\n",
       "      <td>0.178203</td>\n",
       "      <td>0.347190</td>\n",
       "      <td>0.472979</td>\n",
       "      <td>1.000000</td>\n",
       "      <td>0.633294</td>\n",
       "      <td>0.271299</td>\n",
       "      <td>0.095760</td>\n",
       "      <td>-0.298717</td>\n",
       "      <td>0.691450</td>\n",
       "      <td>0.298717</td>\n",
       "      <td>0.374213</td>\n",
       "      <td>-0.051235</td>\n",
       "      <td>0.155331</td>\n",
       "      <td>0.051235</td>\n",
       "    </tr>\n",
       "    <tr>\n",
       "      <th>songs75</th>\n",
       "      <td>0.226048</td>\n",
       "      <td>0.362533</td>\n",
       "      <td>0.421965</td>\n",
       "      <td>0.633294</td>\n",
       "      <td>1.000000</td>\n",
       "      <td>0.373085</td>\n",
       "      <td>0.140914</td>\n",
       "      <td>-0.268553</td>\n",
       "      <td>0.629056</td>\n",
       "      <td>0.268553</td>\n",
       "      <td>0.370007</td>\n",
       "      <td>-0.087921</td>\n",
       "      <td>0.188443</td>\n",
       "      <td>0.087921</td>\n",
       "    </tr>\n",
       "    <tr>\n",
       "      <th>songs985</th>\n",
       "      <td>0.238732</td>\n",
       "      <td>0.305978</td>\n",
       "      <td>0.275213</td>\n",
       "      <td>0.271299</td>\n",
       "      <td>0.373085</td>\n",
       "      <td>1.000000</td>\n",
       "      <td>0.150466</td>\n",
       "      <td>-0.197467</td>\n",
       "      <td>0.459296</td>\n",
       "      <td>0.197467</td>\n",
       "      <td>0.309710</td>\n",
       "      <td>-0.076842</td>\n",
       "      <td>0.162307</td>\n",
       "      <td>0.076842</td>\n",
       "    </tr>\n",
       "    <tr>\n",
       "      <th>songs100</th>\n",
       "      <td>0.926609</td>\n",
       "      <td>0.926022</td>\n",
       "      <td>0.124098</td>\n",
       "      <td>0.095760</td>\n",
       "      <td>0.140914</td>\n",
       "      <td>0.150466</td>\n",
       "      <td>1.000000</td>\n",
       "      <td>0.324697</td>\n",
       "      <td>0.152977</td>\n",
       "      <td>-0.324697</td>\n",
       "      <td>0.737925</td>\n",
       "      <td>-0.262537</td>\n",
       "      <td>0.743512</td>\n",
       "      <td>0.262537</td>\n",
       "    </tr>\n",
       "    <tr>\n",
       "      <th>songsCmplPct</th>\n",
       "      <td>0.299944</td>\n",
       "      <td>0.123647</td>\n",
       "      <td>-0.383375</td>\n",
       "      <td>-0.298717</td>\n",
       "      <td>-0.268553</td>\n",
       "      <td>-0.197467</td>\n",
       "      <td>0.324697</td>\n",
       "      <td>1.000000</td>\n",
       "      <td>-0.413798</td>\n",
       "      <td>-1.000000</td>\n",
       "      <td>0.087411</td>\n",
       "      <td>-0.094095</td>\n",
       "      <td>0.113350</td>\n",
       "      <td>0.094095</td>\n",
       "    </tr>\n",
       "    <tr>\n",
       "      <th>songsSkp</th>\n",
       "      <td>0.239116</td>\n",
       "      <td>0.514687</td>\n",
       "      <td>0.942339</td>\n",
       "      <td>0.691450</td>\n",
       "      <td>0.629056</td>\n",
       "      <td>0.459296</td>\n",
       "      <td>0.152977</td>\n",
       "      <td>-0.413798</td>\n",
       "      <td>1.000000</td>\n",
       "      <td>0.413798</td>\n",
       "      <td>0.540974</td>\n",
       "      <td>-0.079646</td>\n",
       "      <td>0.247698</td>\n",
       "      <td>0.079646</td>\n",
       "    </tr>\n",
       "    <tr>\n",
       "      <th>songsSkpPct</th>\n",
       "      <td>-0.299944</td>\n",
       "      <td>-0.123647</td>\n",
       "      <td>0.383375</td>\n",
       "      <td>0.298717</td>\n",
       "      <td>0.268553</td>\n",
       "      <td>0.197467</td>\n",
       "      <td>-0.324697</td>\n",
       "      <td>-1.000000</td>\n",
       "      <td>0.413798</td>\n",
       "      <td>1.000000</td>\n",
       "      <td>-0.087411</td>\n",
       "      <td>0.094095</td>\n",
       "      <td>-0.113350</td>\n",
       "      <td>-0.094095</td>\n",
       "    </tr>\n",
       "    <tr>\n",
       "      <th>songsUnq</th>\n",
       "      <td>0.804454</td>\n",
       "      <td>0.846849</td>\n",
       "      <td>0.492806</td>\n",
       "      <td>0.374213</td>\n",
       "      <td>0.370007</td>\n",
       "      <td>0.309710</td>\n",
       "      <td>0.737925</td>\n",
       "      <td>0.087411</td>\n",
       "      <td>0.540974</td>\n",
       "      <td>-0.087411</td>\n",
       "      <td>1.000000</td>\n",
       "      <td>0.061552</td>\n",
       "      <td>0.268490</td>\n",
       "      <td>-0.061553</td>\n",
       "    </tr>\n",
       "    <tr>\n",
       "      <th>songsUnqPct</th>\n",
       "      <td>-0.267998</td>\n",
       "      <td>-0.258196</td>\n",
       "      <td>-0.062225</td>\n",
       "      <td>-0.051235</td>\n",
       "      <td>-0.087921</td>\n",
       "      <td>-0.076842</td>\n",
       "      <td>-0.262537</td>\n",
       "      <td>-0.094095</td>\n",
       "      <td>-0.079646</td>\n",
       "      <td>0.094095</td>\n",
       "      <td>0.061552</td>\n",
       "      <td>1.000000</td>\n",
       "      <td>-0.545545</td>\n",
       "      <td>-1.000000</td>\n",
       "    </tr>\n",
       "    <tr>\n",
       "      <th>songsRpl</th>\n",
       "      <td>0.603594</td>\n",
       "      <td>0.739676</td>\n",
       "      <td>0.223374</td>\n",
       "      <td>0.155331</td>\n",
       "      <td>0.188443</td>\n",
       "      <td>0.162307</td>\n",
       "      <td>0.743512</td>\n",
       "      <td>0.113350</td>\n",
       "      <td>0.247698</td>\n",
       "      <td>-0.113350</td>\n",
       "      <td>0.268490</td>\n",
       "      <td>-0.545545</td>\n",
       "      <td>1.000000</td>\n",
       "      <td>0.545544</td>\n",
       "    </tr>\n",
       "    <tr>\n",
       "      <th>songsRplPct</th>\n",
       "      <td>0.267998</td>\n",
       "      <td>0.258196</td>\n",
       "      <td>0.062225</td>\n",
       "      <td>0.051235</td>\n",
       "      <td>0.087921</td>\n",
       "      <td>0.076842</td>\n",
       "      <td>0.262537</td>\n",
       "      <td>0.094095</td>\n",
       "      <td>0.079646</td>\n",
       "      <td>-0.094095</td>\n",
       "      <td>-0.061553</td>\n",
       "      <td>-1.000000</td>\n",
       "      <td>0.545544</td>\n",
       "      <td>1.000000</td>\n",
       "    </tr>\n",
       "  </tbody>\n",
       "</table>\n",
       "</div>"
      ],
      "text/plain": [
       "              playtime     songs   songs25   songs50   songs75  songs985  \\\n",
       "playtime      1.000000  0.895250  0.183784  0.178203  0.226048  0.238732   \n",
       "songs         0.895250  1.000000  0.467607  0.347190  0.362533  0.305978   \n",
       "songs25       0.183784  0.467607  1.000000  0.472979  0.421965  0.275213   \n",
       "songs50       0.178203  0.347190  0.472979  1.000000  0.633294  0.271299   \n",
       "songs75       0.226048  0.362533  0.421965  0.633294  1.000000  0.373085   \n",
       "songs985      0.238732  0.305978  0.275213  0.271299  0.373085  1.000000   \n",
       "songs100      0.926609  0.926022  0.124098  0.095760  0.140914  0.150466   \n",
       "songsCmplPct  0.299944  0.123647 -0.383375 -0.298717 -0.268553 -0.197467   \n",
       "songsSkp      0.239116  0.514687  0.942339  0.691450  0.629056  0.459296   \n",
       "songsSkpPct  -0.299944 -0.123647  0.383375  0.298717  0.268553  0.197467   \n",
       "songsUnq      0.804454  0.846849  0.492806  0.374213  0.370007  0.309710   \n",
       "songsUnqPct  -0.267998 -0.258196 -0.062225 -0.051235 -0.087921 -0.076842   \n",
       "songsRpl      0.603594  0.739676  0.223374  0.155331  0.188443  0.162307   \n",
       "songsRplPct   0.267998  0.258196  0.062225  0.051235  0.087921  0.076842   \n",
       "\n",
       "              songs100  songsCmplPct  songsSkp  songsSkpPct  songsUnq  \\\n",
       "playtime      0.926609      0.299944  0.239116    -0.299944  0.804454   \n",
       "songs         0.926022      0.123647  0.514687    -0.123647  0.846849   \n",
       "songs25       0.124098     -0.383375  0.942339     0.383375  0.492806   \n",
       "songs50       0.095760     -0.298717  0.691450     0.298717  0.374213   \n",
       "songs75       0.140914     -0.268553  0.629056     0.268553  0.370007   \n",
       "songs985      0.150466     -0.197467  0.459296     0.197467  0.309710   \n",
       "songs100      1.000000      0.324697  0.152977    -0.324697  0.737925   \n",
       "songsCmplPct  0.324697      1.000000 -0.413798    -1.000000  0.087411   \n",
       "songsSkp      0.152977     -0.413798  1.000000     0.413798  0.540974   \n",
       "songsSkpPct  -0.324697     -1.000000  0.413798     1.000000 -0.087411   \n",
       "songsUnq      0.737925      0.087411  0.540974    -0.087411  1.000000   \n",
       "songsUnqPct  -0.262537     -0.094095 -0.079646     0.094095  0.061552   \n",
       "songsRpl      0.743512      0.113350  0.247698    -0.113350  0.268490   \n",
       "songsRplPct   0.262537      0.094095  0.079646    -0.094095 -0.061553   \n",
       "\n",
       "              songsUnqPct  songsRpl  songsRplPct  \n",
       "playtime        -0.267998  0.603594     0.267998  \n",
       "songs           -0.258196  0.739676     0.258196  \n",
       "songs25         -0.062225  0.223374     0.062225  \n",
       "songs50         -0.051235  0.155331     0.051235  \n",
       "songs75         -0.087921  0.188443     0.087921  \n",
       "songs985        -0.076842  0.162307     0.076842  \n",
       "songs100        -0.262537  0.743512     0.262537  \n",
       "songsCmplPct    -0.094095  0.113350     0.094095  \n",
       "songsSkp        -0.079646  0.247698     0.079646  \n",
       "songsSkpPct      0.094095 -0.113350    -0.094095  \n",
       "songsUnq         0.061552  0.268490    -0.061553  \n",
       "songsUnqPct      1.000000 -0.545545    -1.000000  \n",
       "songsRpl        -0.545545  1.000000     0.545544  \n",
       "songsRplPct     -1.000000  0.545544     1.000000  "
      ]
     },
     "execution_count": 19,
     "metadata": {},
     "output_type": "execute_result"
    }
   ],
   "source": [
    "df[['playtime', 'songs', 'songs25', 'songs50', 'songs75', 'songs985', 'songs100', 'songsCmplPct', 'songsSkp', 'songsSkpPct',\n",
    "       'songsUnq', 'songsUnqPct', 'songsRpl', 'songsRplPct']].corr()"
   ]
  },
  {
   "cell_type": "code",
   "execution_count": 54,
   "metadata": {},
   "outputs": [
    {
     "name": "stdout",
     "output_type": "stream",
     "text": [
      "Wall time: 2h 24min 5s\n"
     ]
    }
   ],
   "source": [
    "%%time\n",
    "\n",
    "# dump the clean daily usage data onto a file for later use\n",
    "\n",
    "df.to_csv(\"{}/{}\".format(dirData, fileCleanUsg), index=False)"
   ]
  },
  {
   "cell_type": "markdown",
   "metadata": {},
   "source": [
    "## Data Manipulation"
   ]
  },
  {
   "cell_type": "markdown",
   "metadata": {},
   "source": [
    "Since sales transaction and usage data are not at the user level, we need to aggregate them accordingly.\n",
    "\n",
    "For sales transactions, we focus on the last sales transaction for each user, ignoring all the previous transactions.\n",
    "\n",
    "For usage data, we aggregate the data into two separate datasets - first one prepares lifetime usage stats/metrics at user level, while the second one formulates recent, near past and lifetime usage stats/metrics at user level. Both the datasets will help in EDA later."
   ]
  },
  {
   "cell_type": "code",
   "execution_count": 21,
   "metadata": {},
   "outputs": [],
   "source": [
    "## import all the datasets\n",
    "\n",
    "# labeled aka training data\n",
    "train = pd.read_csv(\"{}/{}\".format(dirData, fileSampleTrn))\n",
    "\n",
    "# clean sales/subscription transaction data\n",
    "trx = pd.read_csv(\"{}/{}\".format(dirData, fileCleanTrx), parse_dates=['trxDate','expDate'])\n",
    "\n",
    "# clean registration/membership data\n",
    "reg = pd.read_csv(\"{}/{}\".format(dirData, fileCleanReg), usecols=['msno','churn','regAge','userAge','city','regSrc'])\n",
    "\n",
    "# clean daily usage data\n",
    "df = pd.read_csv(\"{}/{}\".format(dirData, fileCleanUsg), parse_dates=['date'])\n",
    "\n",
    "# dates dimension data\n",
    "dates = pd.read_csv(\"{}/{}\".format(dirData, fileDates), parse_dates=['date'])"
   ]
  },
  {
   "cell_type": "code",
   "execution_count": 22,
   "metadata": {},
   "outputs": [
    {
     "name": "stdout",
     "output_type": "stream",
     "text": [
      "2015-01-01 00:00:00 2017-02-28 00:00:00\n"
     ]
    }
   ],
   "source": [
    "# save minimum and maximum dates in scope of usage data\n",
    "\n",
    "startDate = dates['date'].min()\n",
    "currDate = dates['date'].max()\n",
    "\n",
    "print(startDate, currDate)"
   ]
  },
  {
   "cell_type": "markdown",
   "metadata": {},
   "source": [
    "#### Last Sales Transaction"
   ]
  },
  {
   "cell_type": "code",
   "execution_count": 23,
   "metadata": {},
   "outputs": [],
   "source": [
    "# aggregate sales transactions at user level while retaining information of only last transaction\n",
    "lstrx = trx.groupby(['msno','churn']).last().reset_index()\n",
    "\n",
    "# calculate number of days since last transaction\n",
    "lstrx['daysLastTrx'] = (currDate - lstrx['trxDate']).dt.days + 1\n",
    "\n",
    "# drop useless attributes\n",
    "lstrx.drop(['trxDate','expDate','planListPrice','paidAmt'], axis=1, inplace=True)"
   ]
  },
  {
   "cell_type": "code",
   "execution_count": 24,
   "metadata": {},
   "outputs": [
    {
     "data": {
      "text/html": [
       "<div>\n",
       "<style scoped>\n",
       "    .dataframe tbody tr th:only-of-type {\n",
       "        vertical-align: middle;\n",
       "    }\n",
       "\n",
       "    .dataframe tbody tr th {\n",
       "        vertical-align: top;\n",
       "    }\n",
       "\n",
       "    .dataframe thead th {\n",
       "        text-align: right;\n",
       "    }\n",
       "</style>\n",
       "<table border=\"1\" class=\"dataframe\">\n",
       "  <thead>\n",
       "    <tr style=\"text-align: right;\">\n",
       "      <th></th>\n",
       "      <th>msno</th>\n",
       "      <th>churn</th>\n",
       "      <th>cancel</th>\n",
       "      <th>autoRenew</th>\n",
       "      <th>payMethod</th>\n",
       "      <th>planTerm</th>\n",
       "      <th>discAmt</th>\n",
       "      <th>daysLastTrx</th>\n",
       "    </tr>\n",
       "  </thead>\n",
       "  <tbody>\n",
       "  </tbody>\n",
       "</table>\n",
       "</div>"
      ],
      "text/plain": [
       "Empty DataFrame\n",
       "Columns: [msno, churn, cancel, autoRenew, payMethod, planTerm, discAmt, daysLastTrx]\n",
       "Index: []"
      ]
     },
     "execution_count": 24,
     "metadata": {},
     "output_type": "execute_result"
    }
   ],
   "source": [
    "# verify that the grain of the data is user id\n",
    "\n",
    "lstrx[lstrx.duplicated(['msno'])]"
   ]
  },
  {
   "cell_type": "code",
   "execution_count": 25,
   "metadata": {},
   "outputs": [
    {
     "data": {
      "text/html": [
       "<div>\n",
       "<style scoped>\n",
       "    .dataframe tbody tr th:only-of-type {\n",
       "        vertical-align: middle;\n",
       "    }\n",
       "\n",
       "    .dataframe tbody tr th {\n",
       "        vertical-align: top;\n",
       "    }\n",
       "\n",
       "    .dataframe thead th {\n",
       "        text-align: right;\n",
       "    }\n",
       "</style>\n",
       "<table border=\"1\" class=\"dataframe\">\n",
       "  <thead>\n",
       "    <tr style=\"text-align: right;\">\n",
       "      <th></th>\n",
       "      <th>msno</th>\n",
       "      <th>churn</th>\n",
       "      <th>cancel</th>\n",
       "      <th>autoRenew</th>\n",
       "      <th>payMethod</th>\n",
       "      <th>planTerm</th>\n",
       "      <th>discAmt</th>\n",
       "      <th>daysLastTrx</th>\n",
       "    </tr>\n",
       "  </thead>\n",
       "  <tbody>\n",
       "    <tr>\n",
       "      <th>12530</th>\n",
       "      <td>3Jyl3B1cP+CYYgpEZRDwq5huDkB9qfNOqq3Lt1JYfXE=</td>\n",
       "      <td>0</td>\n",
       "      <td>0</td>\n",
       "      <td>1</td>\n",
       "      <td>41</td>\n",
       "      <td>30</td>\n",
       "      <td>0</td>\n",
       "      <td>47</td>\n",
       "    </tr>\n",
       "  </tbody>\n",
       "</table>\n",
       "</div>"
      ],
      "text/plain": [
       "                                               msno  churn  cancel  autoRenew  \\\n",
       "12530  3Jyl3B1cP+CYYgpEZRDwq5huDkB9qfNOqq3Lt1JYfXE=      0       0          1   \n",
       "\n",
       "       payMethod  planTerm  discAmt  daysLastTrx  \n",
       "12530         41        30        0           47  "
      ]
     },
     "execution_count": 25,
     "metadata": {},
     "output_type": "execute_result"
    }
   ],
   "source": [
    "lstrx[lstrx['msno']==demUsr]"
   ]
  },
  {
   "cell_type": "code",
   "execution_count": 26,
   "metadata": {},
   "outputs": [],
   "source": [
    "# save the data to be used for EDA later\n",
    "\n",
    "lstrx.to_csv(\"{}/{}\".format(dirData, fileLastTrx), index=False)"
   ]
  },
  {
   "cell_type": "markdown",
   "metadata": {},
   "source": [
    "#### Aggregated Lifetime Usage Data for Active Days"
   ]
  },
  {
   "cell_type": "markdown",
   "metadata": {},
   "source": [
    "Aggregate lifetime daily usage data at user level for only active days i.e. days when the user logged into the service and used it"
   ]
  },
  {
   "cell_type": "code",
   "execution_count": 27,
   "metadata": {},
   "outputs": [],
   "source": [
    "# not using playtime as it is highly correlated to songs completed (songs100) and total number of songs, and had some DQ issues\n",
    "\n",
    "adf = df.groupby(['msno','churn'])[['date', 'songs', 'songs25', 'songs50', 'songs75', 'songs985',\n",
    "                                    'songs100', 'songsCmplPct', 'songsSkp', 'songsSkpPct', 'songsUnq', \n",
    "                                    'songsUnqPct', 'songsRpl', 'songsRplPct']].agg({'date':['min','max','count'],\n",
    "                                    'songs':['sum','mean'],\n",
    "                                    'songs25':['sum','mean'], 'songs50':['sum','mean'], 'songs75':['sum','mean'],\n",
    "                                    'songs985':['sum','mean'], \n",
    "                                    'songs100':['sum','mean'], 'songsCmplPct':'mean',\n",
    "                                    'songsSkp':['sum','mean'], 'songsSkpPct':'mean', \n",
    "                                    'songsUnq':['sum','mean'], 'songsUnqPct':'mean', \n",
    "                                    'songsRpl':['sum','mean'], 'songsRplPct':'mean'\n",
    "                                    }).reset_index().round(1)\n",
    "\n",
    "# rename columns\n",
    "\n",
    "adf.columns=['msno', 'churn', 'minDate', 'maxDate', 'daysActive', \n",
    "             'songs', 'songsPerActiveDay',\n",
    "             'songs25', 'songs25PerActiveDay', 'songs50', 'songs50PerActiveDay',\n",
    "             'songs75', 'songs75PerActiveDay', 'songs985', 'songs985PerActiveDay',\n",
    "             'songsCmpl', 'songsCmplPerActiveDay', 'songsCmplPctPerActiveDay',\n",
    "             'songsSkp', 'songsSkpPerActiveDay', 'songsSkpPctPerActiveDay',\n",
    "             'songsUnq', 'songsUnqPerActiveDay', 'songsUnqPctPerActiveDay',\n",
    "             'songsRpl', 'songsRplPerActiveDay', 'songsRplPctPerActiveDay']\n",
    "\n",
    "# derive days since first login from Jan 1, 2015 onwards\n",
    "adf['daysFirstLogin'] =  (currDate - adf['minDate']).dt.days + 1\n",
    "# not using it later for model building as the earliet data of usage data available is 2015-01-01\n",
    "# so even if a user started using the service before 2015, we don't have his usage logs\n",
    "# as a result, days since first login is not the correct parameter to assess churn behavior\n",
    "\n",
    "# derive days since last login \n",
    "adf['daysLastLogin'] =  (currDate - adf['maxDate']).apply(lambda x: x.days + 1)\n",
    "\n",
    "# calculate proportion of days user has been active for, since Jan 1, 2015\n",
    "adf['daysActivePct'] = (adf['daysActive'].div(adf['daysFirstLogin'], axis=0) * 100).fillna(0).round(1)\n",
    "\n",
    "# adf['songsCmplPct'] = (adf['songsCmpl'].div(adf['songs'], axis=0) * 100).fillna(0).round(1)\n",
    "# metrics corresponding to number of songs completed/skipped/replayed as percentage of \n",
    "# total number of songs listened to during entirety of usage till date\n",
    "# none of such derived attributes seem to have any correlation with churn behavior\n",
    "\n",
    "# retain relevant attributes for further analysis\n",
    "\n",
    "adf = adf[['msno', 'churn', 'daysLastLogin',\n",
    "           'daysActive', 'daysActivePct',\n",
    "           'songs', 'songsPerActiveDay', \n",
    "           'songsCmpl', 'songsCmplPerActiveDay',\n",
    "           'songsSkp', 'songsSkpPerActiveDay',\n",
    "           'songsUnq', 'songsUnqPerActiveDay',\n",
    "           'songsRpl', 'songsRplPerActiveDay',\n",
    "           'songs25','songs25PerActiveDay', 'songs50','songs50PerActiveDay',\n",
    "           'songs75','songs75PerActiveDay','songs985','songs985PerActiveDay'\n",
    "          ]]"
   ]
  },
  {
   "cell_type": "code",
   "execution_count": 28,
   "metadata": {},
   "outputs": [
    {
     "data": {
      "text/html": [
       "<div>\n",
       "<style scoped>\n",
       "    .dataframe tbody tr th:only-of-type {\n",
       "        vertical-align: middle;\n",
       "    }\n",
       "\n",
       "    .dataframe tbody tr th {\n",
       "        vertical-align: top;\n",
       "    }\n",
       "\n",
       "    .dataframe thead th {\n",
       "        text-align: right;\n",
       "    }\n",
       "</style>\n",
       "<table border=\"1\" class=\"dataframe\">\n",
       "  <thead>\n",
       "    <tr style=\"text-align: right;\">\n",
       "      <th></th>\n",
       "      <th>msno</th>\n",
       "      <th>churn</th>\n",
       "      <th>daysLastLogin</th>\n",
       "      <th>daysActive</th>\n",
       "      <th>daysActivePct</th>\n",
       "      <th>songs</th>\n",
       "      <th>songsPerActiveDay</th>\n",
       "      <th>songsCmpl</th>\n",
       "      <th>songsCmplPerActiveDay</th>\n",
       "      <th>songsSkp</th>\n",
       "      <th>...</th>\n",
       "      <th>songsRpl</th>\n",
       "      <th>songsRplPerActiveDay</th>\n",
       "      <th>songs25</th>\n",
       "      <th>songs25PerActiveDay</th>\n",
       "      <th>songs50</th>\n",
       "      <th>songs50PerActiveDay</th>\n",
       "      <th>songs75</th>\n",
       "      <th>songs75PerActiveDay</th>\n",
       "      <th>songs985</th>\n",
       "      <th>songs985PerActiveDay</th>\n",
       "    </tr>\n",
       "  </thead>\n",
       "  <tbody>\n",
       "  </tbody>\n",
       "</table>\n",
       "<p>0 rows × 23 columns</p>\n",
       "</div>"
      ],
      "text/plain": [
       "Empty DataFrame\n",
       "Columns: [msno, churn, daysLastLogin, daysActive, daysActivePct, songs, songsPerActiveDay, songsCmpl, songsCmplPerActiveDay, songsSkp, songsSkpPerActiveDay, songsUnq, songsUnqPerActiveDay, songsRpl, songsRplPerActiveDay, songs25, songs25PerActiveDay, songs50, songs50PerActiveDay, songs75, songs75PerActiveDay, songs985, songs985PerActiveDay]\n",
       "Index: []\n",
       "\n",
       "[0 rows x 23 columns]"
      ]
     },
     "execution_count": 28,
     "metadata": {},
     "output_type": "execute_result"
    }
   ],
   "source": [
    "# verify that the grain of the data is user id\n",
    "\n",
    "adf[adf.duplicated(['msno'])]"
   ]
  },
  {
   "cell_type": "code",
   "execution_count": 29,
   "metadata": {},
   "outputs": [
    {
     "data": {
      "text/html": [
       "<div>\n",
       "<style scoped>\n",
       "    .dataframe tbody tr th:only-of-type {\n",
       "        vertical-align: middle;\n",
       "    }\n",
       "\n",
       "    .dataframe tbody tr th {\n",
       "        vertical-align: top;\n",
       "    }\n",
       "\n",
       "    .dataframe thead th {\n",
       "        text-align: right;\n",
       "    }\n",
       "</style>\n",
       "<table border=\"1\" class=\"dataframe\">\n",
       "  <thead>\n",
       "    <tr style=\"text-align: right;\">\n",
       "      <th></th>\n",
       "      <th>msno</th>\n",
       "      <th>churn</th>\n",
       "      <th>daysLastLogin</th>\n",
       "      <th>daysActive</th>\n",
       "      <th>daysActivePct</th>\n",
       "      <th>songs</th>\n",
       "      <th>songsPerActiveDay</th>\n",
       "      <th>songsCmpl</th>\n",
       "      <th>songsCmplPerActiveDay</th>\n",
       "      <th>songsSkp</th>\n",
       "      <th>...</th>\n",
       "      <th>songsRpl</th>\n",
       "      <th>songsRplPerActiveDay</th>\n",
       "      <th>songs25</th>\n",
       "      <th>songs25PerActiveDay</th>\n",
       "      <th>songs50</th>\n",
       "      <th>songs50PerActiveDay</th>\n",
       "      <th>songs75</th>\n",
       "      <th>songs75PerActiveDay</th>\n",
       "      <th>songs985</th>\n",
       "      <th>songs985PerActiveDay</th>\n",
       "    </tr>\n",
       "  </thead>\n",
       "  <tbody>\n",
       "    <tr>\n",
       "      <th>10998</th>\n",
       "      <td>3Jyl3B1cP+CYYgpEZRDwq5huDkB9qfNOqq3Lt1JYfXE=</td>\n",
       "      <td>0</td>\n",
       "      <td>1</td>\n",
       "      <td>160</td>\n",
       "      <td>51.0</td>\n",
       "      <td>12064</td>\n",
       "      <td>75.4</td>\n",
       "      <td>10262</td>\n",
       "      <td>64.1</td>\n",
       "      <td>1802</td>\n",
       "      <td>...</td>\n",
       "      <td>3389</td>\n",
       "      <td>21.2</td>\n",
       "      <td>1404</td>\n",
       "      <td>8.8</td>\n",
       "      <td>154</td>\n",
       "      <td>1.0</td>\n",
       "      <td>135</td>\n",
       "      <td>0.8</td>\n",
       "      <td>109</td>\n",
       "      <td>0.7</td>\n",
       "    </tr>\n",
       "  </tbody>\n",
       "</table>\n",
       "<p>1 rows × 23 columns</p>\n",
       "</div>"
      ],
      "text/plain": [
       "                                               msno  churn  daysLastLogin  \\\n",
       "10998  3Jyl3B1cP+CYYgpEZRDwq5huDkB9qfNOqq3Lt1JYfXE=      0              1   \n",
       "\n",
       "       daysActive  daysActivePct  songs  songsPerActiveDay  songsCmpl  \\\n",
       "10998         160           51.0  12064               75.4      10262   \n",
       "\n",
       "       songsCmplPerActiveDay  songsSkp  ...  songsRpl  songsRplPerActiveDay  \\\n",
       "10998                   64.1      1802  ...      3389                  21.2   \n",
       "\n",
       "       songs25  songs25PerActiveDay  songs50  songs50PerActiveDay  songs75  \\\n",
       "10998     1404                  8.8      154                  1.0      135   \n",
       "\n",
       "       songs75PerActiveDay  songs985  songs985PerActiveDay  \n",
       "10998                  0.8       109                   0.7  \n",
       "\n",
       "[1 rows x 23 columns]"
      ]
     },
     "execution_count": 29,
     "metadata": {},
     "output_type": "execute_result"
    }
   ],
   "source": [
    "adf[adf['msno']==demUsr]"
   ]
  },
  {
   "cell_type": "code",
   "execution_count": 30,
   "metadata": {},
   "outputs": [],
   "source": [
    "# save the data to be used for EDA later\n",
    "\n",
    "adf.to_csv(\"{}/{}\".format(dirData, fileUsgAggLifetime), index=False) "
   ]
  },
  {
   "cell_type": "markdown",
   "metadata": {},
   "source": [
    "#### Aggregated Lifetime and Recent Usage Data "
   ]
  },
  {
   "cell_type": "markdown",
   "metadata": {},
   "source": [
    "Before we can visualize data, in EDA later, to see how churn and renew users behaved over time, we need to aggregate day-level usage data to week-level while wrangling it to show null usage even for weeks when user did not use the service at all."
   ]
  },
  {
   "cell_type": "code",
   "execution_count": 31,
   "metadata": {},
   "outputs": [
    {
     "name": "stdout",
     "output_type": "stream",
     "text": [
      "True\n",
      "\n",
      "    yrWkIdx    yrWk  key\n",
      "0        1  201501    0\n",
      "1        2  201502    0\n",
      "2        3  201503    0\n",
      "3        4  201504    0\n",
      "4        5  201505    0\n"
     ]
    }
   ],
   "source": [
    "# build weeks dimension dataset - get distinct combinations of year and week from usage dataset\n",
    "\n",
    "weeks = pd.DataFrame(dates['yrWk'].unique(), columns=['yrWk']).sort_values('yrWk')\n",
    "weeks = weeks.reset_index(drop=True).reset_index()\n",
    "weeks.columns= ['yrWkIdx','yrWk']\n",
    "weeks['yrWkIdx'] = weeks['yrWkIdx'] + 1\n",
    "\n",
    "# dummy variable to be used for cross-join purposes only\n",
    "weeks['key'] = 0\n",
    "\n",
    "# confirm that the number of combinations of year and weeks are 114 (from Jan 2015 to Feb 2017)\n",
    "print(weeks['yrWk'].count() == 114)\n",
    "\n",
    "print('\\n', weeks.head())"
   ]
  },
  {
   "cell_type": "code",
   "execution_count": 32,
   "metadata": {},
   "outputs": [
    {
     "name": "stdout",
     "output_type": "stream",
     "text": [
      "# users in dfwk dataframe: 131428\n"
     ]
    }
   ],
   "source": [
    "# aggregate usage data at week level, showcasing only the weeks user leveraged the service for\n",
    "\n",
    "dfwk = df.groupby(['msno', 'churn', 'yrWk'])['date', 'songs',\n",
    "                                             'songsRpl'].agg({'date':'count',\n",
    "                                                              'songs':'sum', 'songsRpl':'sum'}).astype('int').reset_index()\n",
    "# not including playtime because of DQ issue/fix and because of high correlation with songs\n",
    "# not including songs25 because of high correlation with songsSkp \n",
    "# not including songs100 and songsUnq because of high correlation with songs\n",
    "# not including songs50, songs75, songs985 and songsSkp as they do not show any importance later\n",
    "\n",
    "# rename columns to tidy up the data\n",
    "dfwk.columns = ['msno', 'churn', 'yrWk', 'daysActive', 'songs', 'songsRpl']\n",
    "\n",
    "# derive yrWkIdx attribute by joining with weeks dataframe\n",
    "dfwk = dfwk.merge(weeks.drop('key', axis=1), on='yrWk', how='inner')\n",
    "\n",
    "# put attributes in a sensible order\n",
    "dfwk = dfwk[['msno', 'churn', 'yrWkIdx', 'yrWk', 'daysActive', 'songs', 'songsRpl']]\n",
    "\n",
    "print('# users in dfwk dataframe:', dfwk['msno'].nunique())"
   ]
  },
  {
   "cell_type": "code",
   "execution_count": 33,
   "metadata": {},
   "outputs": [
    {
     "data": {
      "text/html": [
       "<div>\n",
       "<style scoped>\n",
       "    .dataframe tbody tr th:only-of-type {\n",
       "        vertical-align: middle;\n",
       "    }\n",
       "\n",
       "    .dataframe tbody tr th {\n",
       "        vertical-align: top;\n",
       "    }\n",
       "\n",
       "    .dataframe thead th {\n",
       "        text-align: right;\n",
       "    }\n",
       "</style>\n",
       "<table border=\"1\" class=\"dataframe\">\n",
       "  <thead>\n",
       "    <tr style=\"text-align: right;\">\n",
       "      <th></th>\n",
       "      <th>msno</th>\n",
       "      <th>churn</th>\n",
       "      <th>yrWkIdx</th>\n",
       "      <th>yrWk</th>\n",
       "      <th>daysActive</th>\n",
       "      <th>songs</th>\n",
       "      <th>songsRpl</th>\n",
       "    </tr>\n",
       "  </thead>\n",
       "  <tbody>\n",
       "    <tr>\n",
       "      <th>4010798</th>\n",
       "      <td>3Jyl3B1cP+CYYgpEZRDwq5huDkB9qfNOqq3Lt1JYfXE=</td>\n",
       "      <td>0</td>\n",
       "      <td>69</td>\n",
       "      <td>201616</td>\n",
       "      <td>2</td>\n",
       "      <td>21</td>\n",
       "      <td>2</td>\n",
       "    </tr>\n",
       "    <tr>\n",
       "      <th>4089103</th>\n",
       "      <td>3Jyl3B1cP+CYYgpEZRDwq5huDkB9qfNOqq3Lt1JYfXE=</td>\n",
       "      <td>0</td>\n",
       "      <td>70</td>\n",
       "      <td>201617</td>\n",
       "      <td>7</td>\n",
       "      <td>337</td>\n",
       "      <td>86</td>\n",
       "    </tr>\n",
       "    <tr>\n",
       "      <th>4167937</th>\n",
       "      <td>3Jyl3B1cP+CYYgpEZRDwq5huDkB9qfNOqq3Lt1JYfXE=</td>\n",
       "      <td>0</td>\n",
       "      <td>71</td>\n",
       "      <td>201618</td>\n",
       "      <td>6</td>\n",
       "      <td>265</td>\n",
       "      <td>21</td>\n",
       "    </tr>\n",
       "    <tr>\n",
       "      <th>4247442</th>\n",
       "      <td>3Jyl3B1cP+CYYgpEZRDwq5huDkB9qfNOqq3Lt1JYfXE=</td>\n",
       "      <td>0</td>\n",
       "      <td>72</td>\n",
       "      <td>201619</td>\n",
       "      <td>6</td>\n",
       "      <td>137</td>\n",
       "      <td>44</td>\n",
       "    </tr>\n",
       "    <tr>\n",
       "      <th>4327881</th>\n",
       "      <td>3Jyl3B1cP+CYYgpEZRDwq5huDkB9qfNOqq3Lt1JYfXE=</td>\n",
       "      <td>0</td>\n",
       "      <td>73</td>\n",
       "      <td>201620</td>\n",
       "      <td>3</td>\n",
       "      <td>87</td>\n",
       "      <td>25</td>\n",
       "    </tr>\n",
       "    <tr>\n",
       "      <th>4408887</th>\n",
       "      <td>3Jyl3B1cP+CYYgpEZRDwq5huDkB9qfNOqq3Lt1JYfXE=</td>\n",
       "      <td>0</td>\n",
       "      <td>74</td>\n",
       "      <td>201621</td>\n",
       "      <td>6</td>\n",
       "      <td>172</td>\n",
       "      <td>79</td>\n",
       "    </tr>\n",
       "    <tr>\n",
       "      <th>6235477</th>\n",
       "      <td>3Jyl3B1cP+CYYgpEZRDwq5huDkB9qfNOqq3Lt1JYfXE=</td>\n",
       "      <td>0</td>\n",
       "      <td>95</td>\n",
       "      <td>201642</td>\n",
       "      <td>7</td>\n",
       "      <td>234</td>\n",
       "      <td>50</td>\n",
       "    </tr>\n",
       "    <tr>\n",
       "      <th>6329083</th>\n",
       "      <td>3Jyl3B1cP+CYYgpEZRDwq5huDkB9qfNOqq3Lt1JYfXE=</td>\n",
       "      <td>0</td>\n",
       "      <td>96</td>\n",
       "      <td>201643</td>\n",
       "      <td>7</td>\n",
       "      <td>368</td>\n",
       "      <td>58</td>\n",
       "    </tr>\n",
       "    <tr>\n",
       "      <th>6423327</th>\n",
       "      <td>3Jyl3B1cP+CYYgpEZRDwq5huDkB9qfNOqq3Lt1JYfXE=</td>\n",
       "      <td>0</td>\n",
       "      <td>97</td>\n",
       "      <td>201644</td>\n",
       "      <td>7</td>\n",
       "      <td>755</td>\n",
       "      <td>232</td>\n",
       "    </tr>\n",
       "    <tr>\n",
       "      <th>6518408</th>\n",
       "      <td>3Jyl3B1cP+CYYgpEZRDwq5huDkB9qfNOqq3Lt1JYfXE=</td>\n",
       "      <td>0</td>\n",
       "      <td>98</td>\n",
       "      <td>201645</td>\n",
       "      <td>7</td>\n",
       "      <td>583</td>\n",
       "      <td>120</td>\n",
       "    </tr>\n",
       "  </tbody>\n",
       "</table>\n",
       "</div>"
      ],
      "text/plain": [
       "                                                 msno  churn  yrWkIdx    yrWk  \\\n",
       "4010798  3Jyl3B1cP+CYYgpEZRDwq5huDkB9qfNOqq3Lt1JYfXE=      0       69  201616   \n",
       "4089103  3Jyl3B1cP+CYYgpEZRDwq5huDkB9qfNOqq3Lt1JYfXE=      0       70  201617   \n",
       "4167937  3Jyl3B1cP+CYYgpEZRDwq5huDkB9qfNOqq3Lt1JYfXE=      0       71  201618   \n",
       "4247442  3Jyl3B1cP+CYYgpEZRDwq5huDkB9qfNOqq3Lt1JYfXE=      0       72  201619   \n",
       "4327881  3Jyl3B1cP+CYYgpEZRDwq5huDkB9qfNOqq3Lt1JYfXE=      0       73  201620   \n",
       "4408887  3Jyl3B1cP+CYYgpEZRDwq5huDkB9qfNOqq3Lt1JYfXE=      0       74  201621   \n",
       "6235477  3Jyl3B1cP+CYYgpEZRDwq5huDkB9qfNOqq3Lt1JYfXE=      0       95  201642   \n",
       "6329083  3Jyl3B1cP+CYYgpEZRDwq5huDkB9qfNOqq3Lt1JYfXE=      0       96  201643   \n",
       "6423327  3Jyl3B1cP+CYYgpEZRDwq5huDkB9qfNOqq3Lt1JYfXE=      0       97  201644   \n",
       "6518408  3Jyl3B1cP+CYYgpEZRDwq5huDkB9qfNOqq3Lt1JYfXE=      0       98  201645   \n",
       "\n",
       "         daysActive  songs  songsRpl  \n",
       "4010798           2     21         2  \n",
       "4089103           7    337        86  \n",
       "4167937           6    265        21  \n",
       "4247442           6    137        44  \n",
       "4327881           3     87        25  \n",
       "4408887           6    172        79  \n",
       "6235477           7    234        50  \n",
       "6329083           7    368        58  \n",
       "6423327           7    755       232  \n",
       "6518408           7    583       120  "
      ]
     },
     "execution_count": 33,
     "metadata": {},
     "output_type": "execute_result"
    }
   ],
   "source": [
    "dfwk[dfwk['msno']==demUsr].head(10)\n",
    "\n",
    "# notice the gap between week 201621 and 201642\n",
    "# this gap will be filled later with relevant records"
   ]
  },
  {
   "cell_type": "code",
   "execution_count": 34,
   "metadata": {},
   "outputs": [
    {
     "name": "stdout",
     "output_type": "stream",
     "text": [
      "# users in rangeWk dataframe: 131428\n"
     ]
    }
   ],
   "source": [
    "# get first and last login week for each user\n",
    "rangeWk = dfwk.groupby(['msno','churn'])[['yrWkIdx', 'yrWk']].agg(['min', 'max']).reset_index()\n",
    "\n",
    "# rename columns\n",
    "rangeWk.columns = ['msno', 'churn', 'startYrWkIdx', 'endYrWkIdx', 'startYrWk', 'endYrWk']\n",
    "\n",
    "# dummy variable to be used for cross-join purposes only\n",
    "rangeWk['key'] = 0 \n",
    "\n",
    "print('# users in rangeWk dataframe:', rangeWk['msno'].count())"
   ]
  },
  {
   "cell_type": "code",
   "execution_count": 35,
   "metadata": {},
   "outputs": [
    {
     "data": {
      "text/html": [
       "<div>\n",
       "<style scoped>\n",
       "    .dataframe tbody tr th:only-of-type {\n",
       "        vertical-align: middle;\n",
       "    }\n",
       "\n",
       "    .dataframe tbody tr th {\n",
       "        vertical-align: top;\n",
       "    }\n",
       "\n",
       "    .dataframe thead th {\n",
       "        text-align: right;\n",
       "    }\n",
       "</style>\n",
       "<table border=\"1\" class=\"dataframe\">\n",
       "  <thead>\n",
       "    <tr style=\"text-align: right;\">\n",
       "      <th></th>\n",
       "      <th>msno</th>\n",
       "      <th>churn</th>\n",
       "      <th>startYrWkIdx</th>\n",
       "      <th>endYrWkIdx</th>\n",
       "      <th>startYrWk</th>\n",
       "      <th>endYrWk</th>\n",
       "      <th>key</th>\n",
       "    </tr>\n",
       "  </thead>\n",
       "  <tbody>\n",
       "    <tr>\n",
       "      <th>10998</th>\n",
       "      <td>3Jyl3B1cP+CYYgpEZRDwq5huDkB9qfNOqq3Lt1JYfXE=</td>\n",
       "      <td>0</td>\n",
       "      <td>69</td>\n",
       "      <td>114</td>\n",
       "      <td>201616</td>\n",
       "      <td>201709</td>\n",
       "      <td>0</td>\n",
       "    </tr>\n",
       "  </tbody>\n",
       "</table>\n",
       "</div>"
      ],
      "text/plain": [
       "                                               msno  churn  startYrWkIdx  \\\n",
       "10998  3Jyl3B1cP+CYYgpEZRDwq5huDkB9qfNOqq3Lt1JYfXE=      0            69   \n",
       "\n",
       "       endYrWkIdx  startYrWk  endYrWk  key  \n",
       "10998         114     201616   201709    0  "
      ]
     },
     "execution_count": 35,
     "metadata": {},
     "output_type": "execute_result"
    }
   ],
   "source": [
    "rangeWk[rangeWk['msno']==demUsr]"
   ]
  },
  {
   "cell_type": "code",
   "execution_count": 36,
   "metadata": {},
   "outputs": [
    {
     "name": "stdout",
     "output_type": "stream",
     "text": [
      "Any user has more than 114 records?\n",
      " Empty DataFrame\n",
      "Columns: [msno, churn, startYrWkIdx, endYrWkIdx, startYrWk, endYrWk, yrWkIdx, yrWk]\n",
      "Index: []\n"
     ]
    }
   ],
   "source": [
    "# creating a table with user and week/year values since the week user started using service\n",
    "# until current week i.e. till last week of usage data\n",
    "\n",
    "# cartesian join of user and all 114 week/year values\n",
    "mswk = pd.merge(rangeWk, weeks, how='inner', on='key').drop('key', axis=1).sort_values(['msno','yrWk'])\n",
    "\n",
    "# confirm that each user has exactly 114 week/year values (from Jan 2015 through Feb 2017) \n",
    "print(\"Any user has more than 114 records?\\n\", mswk.groupby('msno').filter(lambda x: len(x)!=114))\n",
    "\n",
    "# filter out records with months before the first usage week \n",
    "mswk = mswk[(mswk['yrWk']>=mswk['startYrWk'])]\n",
    "#mswk = mswk[(mswk['yrWk']>=mswk['startYrWk']) & (mswk['yrWk']<=mswk['endYrWk'])]"
   ]
  },
  {
   "cell_type": "code",
   "execution_count": 37,
   "metadata": {
    "scrolled": true
   },
   "outputs": [
    {
     "data": {
      "text/html": [
       "<div>\n",
       "<style scoped>\n",
       "    .dataframe tbody tr th:only-of-type {\n",
       "        vertical-align: middle;\n",
       "    }\n",
       "\n",
       "    .dataframe tbody tr th {\n",
       "        vertical-align: top;\n",
       "    }\n",
       "\n",
       "    .dataframe thead th {\n",
       "        text-align: right;\n",
       "    }\n",
       "</style>\n",
       "<table border=\"1\" class=\"dataframe\">\n",
       "  <thead>\n",
       "    <tr style=\"text-align: right;\">\n",
       "      <th></th>\n",
       "      <th>msno</th>\n",
       "      <th>churn</th>\n",
       "      <th>startYrWkIdx</th>\n",
       "      <th>endYrWkIdx</th>\n",
       "      <th>startYrWk</th>\n",
       "      <th>endYrWk</th>\n",
       "      <th>yrWkIdx</th>\n",
       "      <th>yrWk</th>\n",
       "    </tr>\n",
       "  </thead>\n",
       "  <tbody>\n",
       "    <tr>\n",
       "      <th>1253840</th>\n",
       "      <td>3Jyl3B1cP+CYYgpEZRDwq5huDkB9qfNOqq3Lt1JYfXE=</td>\n",
       "      <td>0</td>\n",
       "      <td>69</td>\n",
       "      <td>114</td>\n",
       "      <td>201616</td>\n",
       "      <td>201709</td>\n",
       "      <td>69</td>\n",
       "      <td>201616</td>\n",
       "    </tr>\n",
       "    <tr>\n",
       "      <th>1253841</th>\n",
       "      <td>3Jyl3B1cP+CYYgpEZRDwq5huDkB9qfNOqq3Lt1JYfXE=</td>\n",
       "      <td>0</td>\n",
       "      <td>69</td>\n",
       "      <td>114</td>\n",
       "      <td>201616</td>\n",
       "      <td>201709</td>\n",
       "      <td>70</td>\n",
       "      <td>201617</td>\n",
       "    </tr>\n",
       "    <tr>\n",
       "      <th>1253842</th>\n",
       "      <td>3Jyl3B1cP+CYYgpEZRDwq5huDkB9qfNOqq3Lt1JYfXE=</td>\n",
       "      <td>0</td>\n",
       "      <td>69</td>\n",
       "      <td>114</td>\n",
       "      <td>201616</td>\n",
       "      <td>201709</td>\n",
       "      <td>71</td>\n",
       "      <td>201618</td>\n",
       "    </tr>\n",
       "    <tr>\n",
       "      <th>1253843</th>\n",
       "      <td>3Jyl3B1cP+CYYgpEZRDwq5huDkB9qfNOqq3Lt1JYfXE=</td>\n",
       "      <td>0</td>\n",
       "      <td>69</td>\n",
       "      <td>114</td>\n",
       "      <td>201616</td>\n",
       "      <td>201709</td>\n",
       "      <td>72</td>\n",
       "      <td>201619</td>\n",
       "    </tr>\n",
       "    <tr>\n",
       "      <th>1253844</th>\n",
       "      <td>3Jyl3B1cP+CYYgpEZRDwq5huDkB9qfNOqq3Lt1JYfXE=</td>\n",
       "      <td>0</td>\n",
       "      <td>69</td>\n",
       "      <td>114</td>\n",
       "      <td>201616</td>\n",
       "      <td>201709</td>\n",
       "      <td>73</td>\n",
       "      <td>201620</td>\n",
       "    </tr>\n",
       "    <tr>\n",
       "      <th>1253845</th>\n",
       "      <td>3Jyl3B1cP+CYYgpEZRDwq5huDkB9qfNOqq3Lt1JYfXE=</td>\n",
       "      <td>0</td>\n",
       "      <td>69</td>\n",
       "      <td>114</td>\n",
       "      <td>201616</td>\n",
       "      <td>201709</td>\n",
       "      <td>74</td>\n",
       "      <td>201621</td>\n",
       "    </tr>\n",
       "    <tr>\n",
       "      <th>1253846</th>\n",
       "      <td>3Jyl3B1cP+CYYgpEZRDwq5huDkB9qfNOqq3Lt1JYfXE=</td>\n",
       "      <td>0</td>\n",
       "      <td>69</td>\n",
       "      <td>114</td>\n",
       "      <td>201616</td>\n",
       "      <td>201709</td>\n",
       "      <td>75</td>\n",
       "      <td>201622</td>\n",
       "    </tr>\n",
       "    <tr>\n",
       "      <th>1253847</th>\n",
       "      <td>3Jyl3B1cP+CYYgpEZRDwq5huDkB9qfNOqq3Lt1JYfXE=</td>\n",
       "      <td>0</td>\n",
       "      <td>69</td>\n",
       "      <td>114</td>\n",
       "      <td>201616</td>\n",
       "      <td>201709</td>\n",
       "      <td>76</td>\n",
       "      <td>201623</td>\n",
       "    </tr>\n",
       "    <tr>\n",
       "      <th>1253848</th>\n",
       "      <td>3Jyl3B1cP+CYYgpEZRDwq5huDkB9qfNOqq3Lt1JYfXE=</td>\n",
       "      <td>0</td>\n",
       "      <td>69</td>\n",
       "      <td>114</td>\n",
       "      <td>201616</td>\n",
       "      <td>201709</td>\n",
       "      <td>77</td>\n",
       "      <td>201624</td>\n",
       "    </tr>\n",
       "    <tr>\n",
       "      <th>1253849</th>\n",
       "      <td>3Jyl3B1cP+CYYgpEZRDwq5huDkB9qfNOqq3Lt1JYfXE=</td>\n",
       "      <td>0</td>\n",
       "      <td>69</td>\n",
       "      <td>114</td>\n",
       "      <td>201616</td>\n",
       "      <td>201709</td>\n",
       "      <td>78</td>\n",
       "      <td>201625</td>\n",
       "    </tr>\n",
       "    <tr>\n",
       "      <th>1253850</th>\n",
       "      <td>3Jyl3B1cP+CYYgpEZRDwq5huDkB9qfNOqq3Lt1JYfXE=</td>\n",
       "      <td>0</td>\n",
       "      <td>69</td>\n",
       "      <td>114</td>\n",
       "      <td>201616</td>\n",
       "      <td>201709</td>\n",
       "      <td>79</td>\n",
       "      <td>201626</td>\n",
       "    </tr>\n",
       "    <tr>\n",
       "      <th>1253851</th>\n",
       "      <td>3Jyl3B1cP+CYYgpEZRDwq5huDkB9qfNOqq3Lt1JYfXE=</td>\n",
       "      <td>0</td>\n",
       "      <td>69</td>\n",
       "      <td>114</td>\n",
       "      <td>201616</td>\n",
       "      <td>201709</td>\n",
       "      <td>80</td>\n",
       "      <td>201627</td>\n",
       "    </tr>\n",
       "    <tr>\n",
       "      <th>1253852</th>\n",
       "      <td>3Jyl3B1cP+CYYgpEZRDwq5huDkB9qfNOqq3Lt1JYfXE=</td>\n",
       "      <td>0</td>\n",
       "      <td>69</td>\n",
       "      <td>114</td>\n",
       "      <td>201616</td>\n",
       "      <td>201709</td>\n",
       "      <td>81</td>\n",
       "      <td>201628</td>\n",
       "    </tr>\n",
       "    <tr>\n",
       "      <th>1253853</th>\n",
       "      <td>3Jyl3B1cP+CYYgpEZRDwq5huDkB9qfNOqq3Lt1JYfXE=</td>\n",
       "      <td>0</td>\n",
       "      <td>69</td>\n",
       "      <td>114</td>\n",
       "      <td>201616</td>\n",
       "      <td>201709</td>\n",
       "      <td>82</td>\n",
       "      <td>201629</td>\n",
       "    </tr>\n",
       "    <tr>\n",
       "      <th>1253854</th>\n",
       "      <td>3Jyl3B1cP+CYYgpEZRDwq5huDkB9qfNOqq3Lt1JYfXE=</td>\n",
       "      <td>0</td>\n",
       "      <td>69</td>\n",
       "      <td>114</td>\n",
       "      <td>201616</td>\n",
       "      <td>201709</td>\n",
       "      <td>83</td>\n",
       "      <td>201630</td>\n",
       "    </tr>\n",
       "    <tr>\n",
       "      <th>1253855</th>\n",
       "      <td>3Jyl3B1cP+CYYgpEZRDwq5huDkB9qfNOqq3Lt1JYfXE=</td>\n",
       "      <td>0</td>\n",
       "      <td>69</td>\n",
       "      <td>114</td>\n",
       "      <td>201616</td>\n",
       "      <td>201709</td>\n",
       "      <td>84</td>\n",
       "      <td>201631</td>\n",
       "    </tr>\n",
       "    <tr>\n",
       "      <th>1253856</th>\n",
       "      <td>3Jyl3B1cP+CYYgpEZRDwq5huDkB9qfNOqq3Lt1JYfXE=</td>\n",
       "      <td>0</td>\n",
       "      <td>69</td>\n",
       "      <td>114</td>\n",
       "      <td>201616</td>\n",
       "      <td>201709</td>\n",
       "      <td>85</td>\n",
       "      <td>201632</td>\n",
       "    </tr>\n",
       "    <tr>\n",
       "      <th>1253857</th>\n",
       "      <td>3Jyl3B1cP+CYYgpEZRDwq5huDkB9qfNOqq3Lt1JYfXE=</td>\n",
       "      <td>0</td>\n",
       "      <td>69</td>\n",
       "      <td>114</td>\n",
       "      <td>201616</td>\n",
       "      <td>201709</td>\n",
       "      <td>86</td>\n",
       "      <td>201633</td>\n",
       "    </tr>\n",
       "    <tr>\n",
       "      <th>1253858</th>\n",
       "      <td>3Jyl3B1cP+CYYgpEZRDwq5huDkB9qfNOqq3Lt1JYfXE=</td>\n",
       "      <td>0</td>\n",
       "      <td>69</td>\n",
       "      <td>114</td>\n",
       "      <td>201616</td>\n",
       "      <td>201709</td>\n",
       "      <td>87</td>\n",
       "      <td>201634</td>\n",
       "    </tr>\n",
       "    <tr>\n",
       "      <th>1253859</th>\n",
       "      <td>3Jyl3B1cP+CYYgpEZRDwq5huDkB9qfNOqq3Lt1JYfXE=</td>\n",
       "      <td>0</td>\n",
       "      <td>69</td>\n",
       "      <td>114</td>\n",
       "      <td>201616</td>\n",
       "      <td>201709</td>\n",
       "      <td>88</td>\n",
       "      <td>201635</td>\n",
       "    </tr>\n",
       "    <tr>\n",
       "      <th>1253860</th>\n",
       "      <td>3Jyl3B1cP+CYYgpEZRDwq5huDkB9qfNOqq3Lt1JYfXE=</td>\n",
       "      <td>0</td>\n",
       "      <td>69</td>\n",
       "      <td>114</td>\n",
       "      <td>201616</td>\n",
       "      <td>201709</td>\n",
       "      <td>89</td>\n",
       "      <td>201636</td>\n",
       "    </tr>\n",
       "    <tr>\n",
       "      <th>1253861</th>\n",
       "      <td>3Jyl3B1cP+CYYgpEZRDwq5huDkB9qfNOqq3Lt1JYfXE=</td>\n",
       "      <td>0</td>\n",
       "      <td>69</td>\n",
       "      <td>114</td>\n",
       "      <td>201616</td>\n",
       "      <td>201709</td>\n",
       "      <td>90</td>\n",
       "      <td>201637</td>\n",
       "    </tr>\n",
       "    <tr>\n",
       "      <th>1253862</th>\n",
       "      <td>3Jyl3B1cP+CYYgpEZRDwq5huDkB9qfNOqq3Lt1JYfXE=</td>\n",
       "      <td>0</td>\n",
       "      <td>69</td>\n",
       "      <td>114</td>\n",
       "      <td>201616</td>\n",
       "      <td>201709</td>\n",
       "      <td>91</td>\n",
       "      <td>201638</td>\n",
       "    </tr>\n",
       "    <tr>\n",
       "      <th>1253863</th>\n",
       "      <td>3Jyl3B1cP+CYYgpEZRDwq5huDkB9qfNOqq3Lt1JYfXE=</td>\n",
       "      <td>0</td>\n",
       "      <td>69</td>\n",
       "      <td>114</td>\n",
       "      <td>201616</td>\n",
       "      <td>201709</td>\n",
       "      <td>92</td>\n",
       "      <td>201639</td>\n",
       "    </tr>\n",
       "    <tr>\n",
       "      <th>1253864</th>\n",
       "      <td>3Jyl3B1cP+CYYgpEZRDwq5huDkB9qfNOqq3Lt1JYfXE=</td>\n",
       "      <td>0</td>\n",
       "      <td>69</td>\n",
       "      <td>114</td>\n",
       "      <td>201616</td>\n",
       "      <td>201709</td>\n",
       "      <td>93</td>\n",
       "      <td>201640</td>\n",
       "    </tr>\n",
       "    <tr>\n",
       "      <th>1253865</th>\n",
       "      <td>3Jyl3B1cP+CYYgpEZRDwq5huDkB9qfNOqq3Lt1JYfXE=</td>\n",
       "      <td>0</td>\n",
       "      <td>69</td>\n",
       "      <td>114</td>\n",
       "      <td>201616</td>\n",
       "      <td>201709</td>\n",
       "      <td>94</td>\n",
       "      <td>201641</td>\n",
       "    </tr>\n",
       "    <tr>\n",
       "      <th>1253866</th>\n",
       "      <td>3Jyl3B1cP+CYYgpEZRDwq5huDkB9qfNOqq3Lt1JYfXE=</td>\n",
       "      <td>0</td>\n",
       "      <td>69</td>\n",
       "      <td>114</td>\n",
       "      <td>201616</td>\n",
       "      <td>201709</td>\n",
       "      <td>95</td>\n",
       "      <td>201642</td>\n",
       "    </tr>\n",
       "    <tr>\n",
       "      <th>1253867</th>\n",
       "      <td>3Jyl3B1cP+CYYgpEZRDwq5huDkB9qfNOqq3Lt1JYfXE=</td>\n",
       "      <td>0</td>\n",
       "      <td>69</td>\n",
       "      <td>114</td>\n",
       "      <td>201616</td>\n",
       "      <td>201709</td>\n",
       "      <td>96</td>\n",
       "      <td>201643</td>\n",
       "    </tr>\n",
       "    <tr>\n",
       "      <th>1253868</th>\n",
       "      <td>3Jyl3B1cP+CYYgpEZRDwq5huDkB9qfNOqq3Lt1JYfXE=</td>\n",
       "      <td>0</td>\n",
       "      <td>69</td>\n",
       "      <td>114</td>\n",
       "      <td>201616</td>\n",
       "      <td>201709</td>\n",
       "      <td>97</td>\n",
       "      <td>201644</td>\n",
       "    </tr>\n",
       "    <tr>\n",
       "      <th>1253869</th>\n",
       "      <td>3Jyl3B1cP+CYYgpEZRDwq5huDkB9qfNOqq3Lt1JYfXE=</td>\n",
       "      <td>0</td>\n",
       "      <td>69</td>\n",
       "      <td>114</td>\n",
       "      <td>201616</td>\n",
       "      <td>201709</td>\n",
       "      <td>98</td>\n",
       "      <td>201645</td>\n",
       "    </tr>\n",
       "    <tr>\n",
       "      <th>1253870</th>\n",
       "      <td>3Jyl3B1cP+CYYgpEZRDwq5huDkB9qfNOqq3Lt1JYfXE=</td>\n",
       "      <td>0</td>\n",
       "      <td>69</td>\n",
       "      <td>114</td>\n",
       "      <td>201616</td>\n",
       "      <td>201709</td>\n",
       "      <td>99</td>\n",
       "      <td>201646</td>\n",
       "    </tr>\n",
       "    <tr>\n",
       "      <th>1253871</th>\n",
       "      <td>3Jyl3B1cP+CYYgpEZRDwq5huDkB9qfNOqq3Lt1JYfXE=</td>\n",
       "      <td>0</td>\n",
       "      <td>69</td>\n",
       "      <td>114</td>\n",
       "      <td>201616</td>\n",
       "      <td>201709</td>\n",
       "      <td>100</td>\n",
       "      <td>201647</td>\n",
       "    </tr>\n",
       "    <tr>\n",
       "      <th>1253872</th>\n",
       "      <td>3Jyl3B1cP+CYYgpEZRDwq5huDkB9qfNOqq3Lt1JYfXE=</td>\n",
       "      <td>0</td>\n",
       "      <td>69</td>\n",
       "      <td>114</td>\n",
       "      <td>201616</td>\n",
       "      <td>201709</td>\n",
       "      <td>101</td>\n",
       "      <td>201648</td>\n",
       "    </tr>\n",
       "    <tr>\n",
       "      <th>1253873</th>\n",
       "      <td>3Jyl3B1cP+CYYgpEZRDwq5huDkB9qfNOqq3Lt1JYfXE=</td>\n",
       "      <td>0</td>\n",
       "      <td>69</td>\n",
       "      <td>114</td>\n",
       "      <td>201616</td>\n",
       "      <td>201709</td>\n",
       "      <td>102</td>\n",
       "      <td>201649</td>\n",
       "    </tr>\n",
       "    <tr>\n",
       "      <th>1253874</th>\n",
       "      <td>3Jyl3B1cP+CYYgpEZRDwq5huDkB9qfNOqq3Lt1JYfXE=</td>\n",
       "      <td>0</td>\n",
       "      <td>69</td>\n",
       "      <td>114</td>\n",
       "      <td>201616</td>\n",
       "      <td>201709</td>\n",
       "      <td>103</td>\n",
       "      <td>201650</td>\n",
       "    </tr>\n",
       "    <tr>\n",
       "      <th>1253875</th>\n",
       "      <td>3Jyl3B1cP+CYYgpEZRDwq5huDkB9qfNOqq3Lt1JYfXE=</td>\n",
       "      <td>0</td>\n",
       "      <td>69</td>\n",
       "      <td>114</td>\n",
       "      <td>201616</td>\n",
       "      <td>201709</td>\n",
       "      <td>104</td>\n",
       "      <td>201651</td>\n",
       "    </tr>\n",
       "    <tr>\n",
       "      <th>1253876</th>\n",
       "      <td>3Jyl3B1cP+CYYgpEZRDwq5huDkB9qfNOqq3Lt1JYfXE=</td>\n",
       "      <td>0</td>\n",
       "      <td>69</td>\n",
       "      <td>114</td>\n",
       "      <td>201616</td>\n",
       "      <td>201709</td>\n",
       "      <td>105</td>\n",
       "      <td>201652</td>\n",
       "    </tr>\n",
       "    <tr>\n",
       "      <th>1253877</th>\n",
       "      <td>3Jyl3B1cP+CYYgpEZRDwq5huDkB9qfNOqq3Lt1JYfXE=</td>\n",
       "      <td>0</td>\n",
       "      <td>69</td>\n",
       "      <td>114</td>\n",
       "      <td>201616</td>\n",
       "      <td>201709</td>\n",
       "      <td>106</td>\n",
       "      <td>201701</td>\n",
       "    </tr>\n",
       "    <tr>\n",
       "      <th>1253878</th>\n",
       "      <td>3Jyl3B1cP+CYYgpEZRDwq5huDkB9qfNOqq3Lt1JYfXE=</td>\n",
       "      <td>0</td>\n",
       "      <td>69</td>\n",
       "      <td>114</td>\n",
       "      <td>201616</td>\n",
       "      <td>201709</td>\n",
       "      <td>107</td>\n",
       "      <td>201702</td>\n",
       "    </tr>\n",
       "    <tr>\n",
       "      <th>1253879</th>\n",
       "      <td>3Jyl3B1cP+CYYgpEZRDwq5huDkB9qfNOqq3Lt1JYfXE=</td>\n",
       "      <td>0</td>\n",
       "      <td>69</td>\n",
       "      <td>114</td>\n",
       "      <td>201616</td>\n",
       "      <td>201709</td>\n",
       "      <td>108</td>\n",
       "      <td>201703</td>\n",
       "    </tr>\n",
       "    <tr>\n",
       "      <th>1253880</th>\n",
       "      <td>3Jyl3B1cP+CYYgpEZRDwq5huDkB9qfNOqq3Lt1JYfXE=</td>\n",
       "      <td>0</td>\n",
       "      <td>69</td>\n",
       "      <td>114</td>\n",
       "      <td>201616</td>\n",
       "      <td>201709</td>\n",
       "      <td>109</td>\n",
       "      <td>201704</td>\n",
       "    </tr>\n",
       "    <tr>\n",
       "      <th>1253881</th>\n",
       "      <td>3Jyl3B1cP+CYYgpEZRDwq5huDkB9qfNOqq3Lt1JYfXE=</td>\n",
       "      <td>0</td>\n",
       "      <td>69</td>\n",
       "      <td>114</td>\n",
       "      <td>201616</td>\n",
       "      <td>201709</td>\n",
       "      <td>110</td>\n",
       "      <td>201705</td>\n",
       "    </tr>\n",
       "    <tr>\n",
       "      <th>1253882</th>\n",
       "      <td>3Jyl3B1cP+CYYgpEZRDwq5huDkB9qfNOqq3Lt1JYfXE=</td>\n",
       "      <td>0</td>\n",
       "      <td>69</td>\n",
       "      <td>114</td>\n",
       "      <td>201616</td>\n",
       "      <td>201709</td>\n",
       "      <td>111</td>\n",
       "      <td>201706</td>\n",
       "    </tr>\n",
       "    <tr>\n",
       "      <th>1253883</th>\n",
       "      <td>3Jyl3B1cP+CYYgpEZRDwq5huDkB9qfNOqq3Lt1JYfXE=</td>\n",
       "      <td>0</td>\n",
       "      <td>69</td>\n",
       "      <td>114</td>\n",
       "      <td>201616</td>\n",
       "      <td>201709</td>\n",
       "      <td>112</td>\n",
       "      <td>201707</td>\n",
       "    </tr>\n",
       "    <tr>\n",
       "      <th>1253884</th>\n",
       "      <td>3Jyl3B1cP+CYYgpEZRDwq5huDkB9qfNOqq3Lt1JYfXE=</td>\n",
       "      <td>0</td>\n",
       "      <td>69</td>\n",
       "      <td>114</td>\n",
       "      <td>201616</td>\n",
       "      <td>201709</td>\n",
       "      <td>113</td>\n",
       "      <td>201708</td>\n",
       "    </tr>\n",
       "    <tr>\n",
       "      <th>1253885</th>\n",
       "      <td>3Jyl3B1cP+CYYgpEZRDwq5huDkB9qfNOqq3Lt1JYfXE=</td>\n",
       "      <td>0</td>\n",
       "      <td>69</td>\n",
       "      <td>114</td>\n",
       "      <td>201616</td>\n",
       "      <td>201709</td>\n",
       "      <td>114</td>\n",
       "      <td>201709</td>\n",
       "    </tr>\n",
       "  </tbody>\n",
       "</table>\n",
       "</div>"
      ],
      "text/plain": [
       "                                                 msno  churn  startYrWkIdx  \\\n",
       "1253840  3Jyl3B1cP+CYYgpEZRDwq5huDkB9qfNOqq3Lt1JYfXE=      0            69   \n",
       "1253841  3Jyl3B1cP+CYYgpEZRDwq5huDkB9qfNOqq3Lt1JYfXE=      0            69   \n",
       "1253842  3Jyl3B1cP+CYYgpEZRDwq5huDkB9qfNOqq3Lt1JYfXE=      0            69   \n",
       "1253843  3Jyl3B1cP+CYYgpEZRDwq5huDkB9qfNOqq3Lt1JYfXE=      0            69   \n",
       "1253844  3Jyl3B1cP+CYYgpEZRDwq5huDkB9qfNOqq3Lt1JYfXE=      0            69   \n",
       "1253845  3Jyl3B1cP+CYYgpEZRDwq5huDkB9qfNOqq3Lt1JYfXE=      0            69   \n",
       "1253846  3Jyl3B1cP+CYYgpEZRDwq5huDkB9qfNOqq3Lt1JYfXE=      0            69   \n",
       "1253847  3Jyl3B1cP+CYYgpEZRDwq5huDkB9qfNOqq3Lt1JYfXE=      0            69   \n",
       "1253848  3Jyl3B1cP+CYYgpEZRDwq5huDkB9qfNOqq3Lt1JYfXE=      0            69   \n",
       "1253849  3Jyl3B1cP+CYYgpEZRDwq5huDkB9qfNOqq3Lt1JYfXE=      0            69   \n",
       "1253850  3Jyl3B1cP+CYYgpEZRDwq5huDkB9qfNOqq3Lt1JYfXE=      0            69   \n",
       "1253851  3Jyl3B1cP+CYYgpEZRDwq5huDkB9qfNOqq3Lt1JYfXE=      0            69   \n",
       "1253852  3Jyl3B1cP+CYYgpEZRDwq5huDkB9qfNOqq3Lt1JYfXE=      0            69   \n",
       "1253853  3Jyl3B1cP+CYYgpEZRDwq5huDkB9qfNOqq3Lt1JYfXE=      0            69   \n",
       "1253854  3Jyl3B1cP+CYYgpEZRDwq5huDkB9qfNOqq3Lt1JYfXE=      0            69   \n",
       "1253855  3Jyl3B1cP+CYYgpEZRDwq5huDkB9qfNOqq3Lt1JYfXE=      0            69   \n",
       "1253856  3Jyl3B1cP+CYYgpEZRDwq5huDkB9qfNOqq3Lt1JYfXE=      0            69   \n",
       "1253857  3Jyl3B1cP+CYYgpEZRDwq5huDkB9qfNOqq3Lt1JYfXE=      0            69   \n",
       "1253858  3Jyl3B1cP+CYYgpEZRDwq5huDkB9qfNOqq3Lt1JYfXE=      0            69   \n",
       "1253859  3Jyl3B1cP+CYYgpEZRDwq5huDkB9qfNOqq3Lt1JYfXE=      0            69   \n",
       "1253860  3Jyl3B1cP+CYYgpEZRDwq5huDkB9qfNOqq3Lt1JYfXE=      0            69   \n",
       "1253861  3Jyl3B1cP+CYYgpEZRDwq5huDkB9qfNOqq3Lt1JYfXE=      0            69   \n",
       "1253862  3Jyl3B1cP+CYYgpEZRDwq5huDkB9qfNOqq3Lt1JYfXE=      0            69   \n",
       "1253863  3Jyl3B1cP+CYYgpEZRDwq5huDkB9qfNOqq3Lt1JYfXE=      0            69   \n",
       "1253864  3Jyl3B1cP+CYYgpEZRDwq5huDkB9qfNOqq3Lt1JYfXE=      0            69   \n",
       "1253865  3Jyl3B1cP+CYYgpEZRDwq5huDkB9qfNOqq3Lt1JYfXE=      0            69   \n",
       "1253866  3Jyl3B1cP+CYYgpEZRDwq5huDkB9qfNOqq3Lt1JYfXE=      0            69   \n",
       "1253867  3Jyl3B1cP+CYYgpEZRDwq5huDkB9qfNOqq3Lt1JYfXE=      0            69   \n",
       "1253868  3Jyl3B1cP+CYYgpEZRDwq5huDkB9qfNOqq3Lt1JYfXE=      0            69   \n",
       "1253869  3Jyl3B1cP+CYYgpEZRDwq5huDkB9qfNOqq3Lt1JYfXE=      0            69   \n",
       "1253870  3Jyl3B1cP+CYYgpEZRDwq5huDkB9qfNOqq3Lt1JYfXE=      0            69   \n",
       "1253871  3Jyl3B1cP+CYYgpEZRDwq5huDkB9qfNOqq3Lt1JYfXE=      0            69   \n",
       "1253872  3Jyl3B1cP+CYYgpEZRDwq5huDkB9qfNOqq3Lt1JYfXE=      0            69   \n",
       "1253873  3Jyl3B1cP+CYYgpEZRDwq5huDkB9qfNOqq3Lt1JYfXE=      0            69   \n",
       "1253874  3Jyl3B1cP+CYYgpEZRDwq5huDkB9qfNOqq3Lt1JYfXE=      0            69   \n",
       "1253875  3Jyl3B1cP+CYYgpEZRDwq5huDkB9qfNOqq3Lt1JYfXE=      0            69   \n",
       "1253876  3Jyl3B1cP+CYYgpEZRDwq5huDkB9qfNOqq3Lt1JYfXE=      0            69   \n",
       "1253877  3Jyl3B1cP+CYYgpEZRDwq5huDkB9qfNOqq3Lt1JYfXE=      0            69   \n",
       "1253878  3Jyl3B1cP+CYYgpEZRDwq5huDkB9qfNOqq3Lt1JYfXE=      0            69   \n",
       "1253879  3Jyl3B1cP+CYYgpEZRDwq5huDkB9qfNOqq3Lt1JYfXE=      0            69   \n",
       "1253880  3Jyl3B1cP+CYYgpEZRDwq5huDkB9qfNOqq3Lt1JYfXE=      0            69   \n",
       "1253881  3Jyl3B1cP+CYYgpEZRDwq5huDkB9qfNOqq3Lt1JYfXE=      0            69   \n",
       "1253882  3Jyl3B1cP+CYYgpEZRDwq5huDkB9qfNOqq3Lt1JYfXE=      0            69   \n",
       "1253883  3Jyl3B1cP+CYYgpEZRDwq5huDkB9qfNOqq3Lt1JYfXE=      0            69   \n",
       "1253884  3Jyl3B1cP+CYYgpEZRDwq5huDkB9qfNOqq3Lt1JYfXE=      0            69   \n",
       "1253885  3Jyl3B1cP+CYYgpEZRDwq5huDkB9qfNOqq3Lt1JYfXE=      0            69   \n",
       "\n",
       "         endYrWkIdx  startYrWk  endYrWk  yrWkIdx    yrWk  \n",
       "1253840         114     201616   201709       69  201616  \n",
       "1253841         114     201616   201709       70  201617  \n",
       "1253842         114     201616   201709       71  201618  \n",
       "1253843         114     201616   201709       72  201619  \n",
       "1253844         114     201616   201709       73  201620  \n",
       "1253845         114     201616   201709       74  201621  \n",
       "1253846         114     201616   201709       75  201622  \n",
       "1253847         114     201616   201709       76  201623  \n",
       "1253848         114     201616   201709       77  201624  \n",
       "1253849         114     201616   201709       78  201625  \n",
       "1253850         114     201616   201709       79  201626  \n",
       "1253851         114     201616   201709       80  201627  \n",
       "1253852         114     201616   201709       81  201628  \n",
       "1253853         114     201616   201709       82  201629  \n",
       "1253854         114     201616   201709       83  201630  \n",
       "1253855         114     201616   201709       84  201631  \n",
       "1253856         114     201616   201709       85  201632  \n",
       "1253857         114     201616   201709       86  201633  \n",
       "1253858         114     201616   201709       87  201634  \n",
       "1253859         114     201616   201709       88  201635  \n",
       "1253860         114     201616   201709       89  201636  \n",
       "1253861         114     201616   201709       90  201637  \n",
       "1253862         114     201616   201709       91  201638  \n",
       "1253863         114     201616   201709       92  201639  \n",
       "1253864         114     201616   201709       93  201640  \n",
       "1253865         114     201616   201709       94  201641  \n",
       "1253866         114     201616   201709       95  201642  \n",
       "1253867         114     201616   201709       96  201643  \n",
       "1253868         114     201616   201709       97  201644  \n",
       "1253869         114     201616   201709       98  201645  \n",
       "1253870         114     201616   201709       99  201646  \n",
       "1253871         114     201616   201709      100  201647  \n",
       "1253872         114     201616   201709      101  201648  \n",
       "1253873         114     201616   201709      102  201649  \n",
       "1253874         114     201616   201709      103  201650  \n",
       "1253875         114     201616   201709      104  201651  \n",
       "1253876         114     201616   201709      105  201652  \n",
       "1253877         114     201616   201709      106  201701  \n",
       "1253878         114     201616   201709      107  201702  \n",
       "1253879         114     201616   201709      108  201703  \n",
       "1253880         114     201616   201709      109  201704  \n",
       "1253881         114     201616   201709      110  201705  \n",
       "1253882         114     201616   201709      111  201706  \n",
       "1253883         114     201616   201709      112  201707  \n",
       "1253884         114     201616   201709      113  201708  \n",
       "1253885         114     201616   201709      114  201709  "
      ]
     },
     "execution_count": 37,
     "metadata": {},
     "output_type": "execute_result"
    }
   ],
   "source": [
    "mswk[mswk['msno']==demUsr]"
   ]
  },
  {
   "cell_type": "code",
   "execution_count": 38,
   "metadata": {},
   "outputs": [],
   "source": [
    "# function to figure out streak of non-usage later\n",
    "\n",
    "def streaks(df, col):\n",
    "    sign = np.sign(df[col])\n",
    "    s = sign.groupby((sign!=sign.shift()).cumsum()).cumsum()\n",
    "    return df.assign(noUsgStrk=s.where(s>0, 0.0))#, d_streak=s.where(s<0, 0.0).abs())"
   ]
  },
  {
   "cell_type": "code",
   "execution_count": 39,
   "metadata": {},
   "outputs": [
    {
     "name": "stdout",
     "output_type": "stream",
     "text": [
      "# users in dfaw dataframe: 131428\n"
     ]
    }
   ],
   "source": [
    "# aggregate usage data at user and week level, since the week he started using the service;\n",
    "# retain even weeks (since start week) when he did not use the service at all - henceforth identified by noUsg attribute\n",
    "\n",
    "# left join user-week combinations with weekly-aggregated usage data\n",
    "dfaw = mswk.merge(dfwk, on=['msno','churn','yrWkIdx','yrWk'], how='left').fillna(0).reset_index(drop=True)\n",
    "\n",
    "# convert attributes data type\n",
    "dfaw[['daysActive', 'songs', 'songsRpl']] = dfaw[['daysActive', 'songs', 'songsRpl']].astype('int')\n",
    "\n",
    "# derive a flag to indicate if the user did not use service at all during the week\n",
    "dfaw['noUsg'] = dfaw['daysActive'].apply(lambda x: 1 if x==0 else 0)\n",
    "\n",
    "# calculate streak for null usage - number of weeks of continuous no usage\n",
    "dfaw = streaks(dfaw, 'noUsg')\n",
    "\n",
    "# retain relevant columns only\n",
    "dfaw = dfaw[['msno', 'churn', #'startYrWkIdx', 'startYrWk',\n",
    "             'yrWkIdx', 'yrWk', 'daysActive', 'songs', # 'songsRpl',\n",
    "             'noUsg', 'noUsgStrk']]\n",
    "\n",
    "print('# users in dfaw dataframe:', dfaw['msno'].nunique())"
   ]
  },
  {
   "cell_type": "code",
   "execution_count": 40,
   "metadata": {
    "scrolled": true
   },
   "outputs": [
    {
     "data": {
      "text/html": [
       "<div>\n",
       "<style scoped>\n",
       "    .dataframe tbody tr th:only-of-type {\n",
       "        vertical-align: middle;\n",
       "    }\n",
       "\n",
       "    .dataframe tbody tr th {\n",
       "        vertical-align: top;\n",
       "    }\n",
       "\n",
       "    .dataframe thead th {\n",
       "        text-align: right;\n",
       "    }\n",
       "</style>\n",
       "<table border=\"1\" class=\"dataframe\">\n",
       "  <thead>\n",
       "    <tr style=\"text-align: right;\">\n",
       "      <th></th>\n",
       "      <th>msno</th>\n",
       "      <th>churn</th>\n",
       "      <th>yrWkIdx</th>\n",
       "      <th>yrWk</th>\n",
       "      <th>daysActive</th>\n",
       "      <th>songs</th>\n",
       "      <th>noUsg</th>\n",
       "      <th>noUsgStrk</th>\n",
       "    </tr>\n",
       "  </thead>\n",
       "  <tbody>\n",
       "    <tr>\n",
       "      <th>862297</th>\n",
       "      <td>3Jyl3B1cP+CYYgpEZRDwq5huDkB9qfNOqq3Lt1JYfXE=</td>\n",
       "      <td>0</td>\n",
       "      <td>69</td>\n",
       "      <td>201616</td>\n",
       "      <td>2</td>\n",
       "      <td>21</td>\n",
       "      <td>0</td>\n",
       "      <td>0</td>\n",
       "    </tr>\n",
       "    <tr>\n",
       "      <th>862298</th>\n",
       "      <td>3Jyl3B1cP+CYYgpEZRDwq5huDkB9qfNOqq3Lt1JYfXE=</td>\n",
       "      <td>0</td>\n",
       "      <td>70</td>\n",
       "      <td>201617</td>\n",
       "      <td>7</td>\n",
       "      <td>337</td>\n",
       "      <td>0</td>\n",
       "      <td>0</td>\n",
       "    </tr>\n",
       "    <tr>\n",
       "      <th>862299</th>\n",
       "      <td>3Jyl3B1cP+CYYgpEZRDwq5huDkB9qfNOqq3Lt1JYfXE=</td>\n",
       "      <td>0</td>\n",
       "      <td>71</td>\n",
       "      <td>201618</td>\n",
       "      <td>6</td>\n",
       "      <td>265</td>\n",
       "      <td>0</td>\n",
       "      <td>0</td>\n",
       "    </tr>\n",
       "    <tr>\n",
       "      <th>862300</th>\n",
       "      <td>3Jyl3B1cP+CYYgpEZRDwq5huDkB9qfNOqq3Lt1JYfXE=</td>\n",
       "      <td>0</td>\n",
       "      <td>72</td>\n",
       "      <td>201619</td>\n",
       "      <td>6</td>\n",
       "      <td>137</td>\n",
       "      <td>0</td>\n",
       "      <td>0</td>\n",
       "    </tr>\n",
       "    <tr>\n",
       "      <th>862301</th>\n",
       "      <td>3Jyl3B1cP+CYYgpEZRDwq5huDkB9qfNOqq3Lt1JYfXE=</td>\n",
       "      <td>0</td>\n",
       "      <td>73</td>\n",
       "      <td>201620</td>\n",
       "      <td>3</td>\n",
       "      <td>87</td>\n",
       "      <td>0</td>\n",
       "      <td>0</td>\n",
       "    </tr>\n",
       "    <tr>\n",
       "      <th>862302</th>\n",
       "      <td>3Jyl3B1cP+CYYgpEZRDwq5huDkB9qfNOqq3Lt1JYfXE=</td>\n",
       "      <td>0</td>\n",
       "      <td>74</td>\n",
       "      <td>201621</td>\n",
       "      <td>6</td>\n",
       "      <td>172</td>\n",
       "      <td>0</td>\n",
       "      <td>0</td>\n",
       "    </tr>\n",
       "    <tr>\n",
       "      <th>862303</th>\n",
       "      <td>3Jyl3B1cP+CYYgpEZRDwq5huDkB9qfNOqq3Lt1JYfXE=</td>\n",
       "      <td>0</td>\n",
       "      <td>75</td>\n",
       "      <td>201622</td>\n",
       "      <td>0</td>\n",
       "      <td>0</td>\n",
       "      <td>1</td>\n",
       "      <td>1</td>\n",
       "    </tr>\n",
       "    <tr>\n",
       "      <th>862304</th>\n",
       "      <td>3Jyl3B1cP+CYYgpEZRDwq5huDkB9qfNOqq3Lt1JYfXE=</td>\n",
       "      <td>0</td>\n",
       "      <td>76</td>\n",
       "      <td>201623</td>\n",
       "      <td>0</td>\n",
       "      <td>0</td>\n",
       "      <td>1</td>\n",
       "      <td>2</td>\n",
       "    </tr>\n",
       "    <tr>\n",
       "      <th>862305</th>\n",
       "      <td>3Jyl3B1cP+CYYgpEZRDwq5huDkB9qfNOqq3Lt1JYfXE=</td>\n",
       "      <td>0</td>\n",
       "      <td>77</td>\n",
       "      <td>201624</td>\n",
       "      <td>0</td>\n",
       "      <td>0</td>\n",
       "      <td>1</td>\n",
       "      <td>3</td>\n",
       "    </tr>\n",
       "    <tr>\n",
       "      <th>862306</th>\n",
       "      <td>3Jyl3B1cP+CYYgpEZRDwq5huDkB9qfNOqq3Lt1JYfXE=</td>\n",
       "      <td>0</td>\n",
       "      <td>78</td>\n",
       "      <td>201625</td>\n",
       "      <td>0</td>\n",
       "      <td>0</td>\n",
       "      <td>1</td>\n",
       "      <td>4</td>\n",
       "    </tr>\n",
       "    <tr>\n",
       "      <th>862307</th>\n",
       "      <td>3Jyl3B1cP+CYYgpEZRDwq5huDkB9qfNOqq3Lt1JYfXE=</td>\n",
       "      <td>0</td>\n",
       "      <td>79</td>\n",
       "      <td>201626</td>\n",
       "      <td>0</td>\n",
       "      <td>0</td>\n",
       "      <td>1</td>\n",
       "      <td>5</td>\n",
       "    </tr>\n",
       "    <tr>\n",
       "      <th>862308</th>\n",
       "      <td>3Jyl3B1cP+CYYgpEZRDwq5huDkB9qfNOqq3Lt1JYfXE=</td>\n",
       "      <td>0</td>\n",
       "      <td>80</td>\n",
       "      <td>201627</td>\n",
       "      <td>0</td>\n",
       "      <td>0</td>\n",
       "      <td>1</td>\n",
       "      <td>6</td>\n",
       "    </tr>\n",
       "    <tr>\n",
       "      <th>862309</th>\n",
       "      <td>3Jyl3B1cP+CYYgpEZRDwq5huDkB9qfNOqq3Lt1JYfXE=</td>\n",
       "      <td>0</td>\n",
       "      <td>81</td>\n",
       "      <td>201628</td>\n",
       "      <td>0</td>\n",
       "      <td>0</td>\n",
       "      <td>1</td>\n",
       "      <td>7</td>\n",
       "    </tr>\n",
       "    <tr>\n",
       "      <th>862310</th>\n",
       "      <td>3Jyl3B1cP+CYYgpEZRDwq5huDkB9qfNOqq3Lt1JYfXE=</td>\n",
       "      <td>0</td>\n",
       "      <td>82</td>\n",
       "      <td>201629</td>\n",
       "      <td>0</td>\n",
       "      <td>0</td>\n",
       "      <td>1</td>\n",
       "      <td>8</td>\n",
       "    </tr>\n",
       "    <tr>\n",
       "      <th>862311</th>\n",
       "      <td>3Jyl3B1cP+CYYgpEZRDwq5huDkB9qfNOqq3Lt1JYfXE=</td>\n",
       "      <td>0</td>\n",
       "      <td>83</td>\n",
       "      <td>201630</td>\n",
       "      <td>0</td>\n",
       "      <td>0</td>\n",
       "      <td>1</td>\n",
       "      <td>9</td>\n",
       "    </tr>\n",
       "    <tr>\n",
       "      <th>862312</th>\n",
       "      <td>3Jyl3B1cP+CYYgpEZRDwq5huDkB9qfNOqq3Lt1JYfXE=</td>\n",
       "      <td>0</td>\n",
       "      <td>84</td>\n",
       "      <td>201631</td>\n",
       "      <td>0</td>\n",
       "      <td>0</td>\n",
       "      <td>1</td>\n",
       "      <td>10</td>\n",
       "    </tr>\n",
       "    <tr>\n",
       "      <th>862313</th>\n",
       "      <td>3Jyl3B1cP+CYYgpEZRDwq5huDkB9qfNOqq3Lt1JYfXE=</td>\n",
       "      <td>0</td>\n",
       "      <td>85</td>\n",
       "      <td>201632</td>\n",
       "      <td>0</td>\n",
       "      <td>0</td>\n",
       "      <td>1</td>\n",
       "      <td>11</td>\n",
       "    </tr>\n",
       "    <tr>\n",
       "      <th>862314</th>\n",
       "      <td>3Jyl3B1cP+CYYgpEZRDwq5huDkB9qfNOqq3Lt1JYfXE=</td>\n",
       "      <td>0</td>\n",
       "      <td>86</td>\n",
       "      <td>201633</td>\n",
       "      <td>0</td>\n",
       "      <td>0</td>\n",
       "      <td>1</td>\n",
       "      <td>12</td>\n",
       "    </tr>\n",
       "    <tr>\n",
       "      <th>862315</th>\n",
       "      <td>3Jyl3B1cP+CYYgpEZRDwq5huDkB9qfNOqq3Lt1JYfXE=</td>\n",
       "      <td>0</td>\n",
       "      <td>87</td>\n",
       "      <td>201634</td>\n",
       "      <td>0</td>\n",
       "      <td>0</td>\n",
       "      <td>1</td>\n",
       "      <td>13</td>\n",
       "    </tr>\n",
       "    <tr>\n",
       "      <th>862316</th>\n",
       "      <td>3Jyl3B1cP+CYYgpEZRDwq5huDkB9qfNOqq3Lt1JYfXE=</td>\n",
       "      <td>0</td>\n",
       "      <td>88</td>\n",
       "      <td>201635</td>\n",
       "      <td>0</td>\n",
       "      <td>0</td>\n",
       "      <td>1</td>\n",
       "      <td>14</td>\n",
       "    </tr>\n",
       "    <tr>\n",
       "      <th>862317</th>\n",
       "      <td>3Jyl3B1cP+CYYgpEZRDwq5huDkB9qfNOqq3Lt1JYfXE=</td>\n",
       "      <td>0</td>\n",
       "      <td>89</td>\n",
       "      <td>201636</td>\n",
       "      <td>0</td>\n",
       "      <td>0</td>\n",
       "      <td>1</td>\n",
       "      <td>15</td>\n",
       "    </tr>\n",
       "    <tr>\n",
       "      <th>862318</th>\n",
       "      <td>3Jyl3B1cP+CYYgpEZRDwq5huDkB9qfNOqq3Lt1JYfXE=</td>\n",
       "      <td>0</td>\n",
       "      <td>90</td>\n",
       "      <td>201637</td>\n",
       "      <td>0</td>\n",
       "      <td>0</td>\n",
       "      <td>1</td>\n",
       "      <td>16</td>\n",
       "    </tr>\n",
       "    <tr>\n",
       "      <th>862319</th>\n",
       "      <td>3Jyl3B1cP+CYYgpEZRDwq5huDkB9qfNOqq3Lt1JYfXE=</td>\n",
       "      <td>0</td>\n",
       "      <td>91</td>\n",
       "      <td>201638</td>\n",
       "      <td>0</td>\n",
       "      <td>0</td>\n",
       "      <td>1</td>\n",
       "      <td>17</td>\n",
       "    </tr>\n",
       "    <tr>\n",
       "      <th>862320</th>\n",
       "      <td>3Jyl3B1cP+CYYgpEZRDwq5huDkB9qfNOqq3Lt1JYfXE=</td>\n",
       "      <td>0</td>\n",
       "      <td>92</td>\n",
       "      <td>201639</td>\n",
       "      <td>0</td>\n",
       "      <td>0</td>\n",
       "      <td>1</td>\n",
       "      <td>18</td>\n",
       "    </tr>\n",
       "    <tr>\n",
       "      <th>862321</th>\n",
       "      <td>3Jyl3B1cP+CYYgpEZRDwq5huDkB9qfNOqq3Lt1JYfXE=</td>\n",
       "      <td>0</td>\n",
       "      <td>93</td>\n",
       "      <td>201640</td>\n",
       "      <td>0</td>\n",
       "      <td>0</td>\n",
       "      <td>1</td>\n",
       "      <td>19</td>\n",
       "    </tr>\n",
       "    <tr>\n",
       "      <th>862322</th>\n",
       "      <td>3Jyl3B1cP+CYYgpEZRDwq5huDkB9qfNOqq3Lt1JYfXE=</td>\n",
       "      <td>0</td>\n",
       "      <td>94</td>\n",
       "      <td>201641</td>\n",
       "      <td>0</td>\n",
       "      <td>0</td>\n",
       "      <td>1</td>\n",
       "      <td>20</td>\n",
       "    </tr>\n",
       "    <tr>\n",
       "      <th>862323</th>\n",
       "      <td>3Jyl3B1cP+CYYgpEZRDwq5huDkB9qfNOqq3Lt1JYfXE=</td>\n",
       "      <td>0</td>\n",
       "      <td>95</td>\n",
       "      <td>201642</td>\n",
       "      <td>7</td>\n",
       "      <td>234</td>\n",
       "      <td>0</td>\n",
       "      <td>0</td>\n",
       "    </tr>\n",
       "    <tr>\n",
       "      <th>862324</th>\n",
       "      <td>3Jyl3B1cP+CYYgpEZRDwq5huDkB9qfNOqq3Lt1JYfXE=</td>\n",
       "      <td>0</td>\n",
       "      <td>96</td>\n",
       "      <td>201643</td>\n",
       "      <td>7</td>\n",
       "      <td>368</td>\n",
       "      <td>0</td>\n",
       "      <td>0</td>\n",
       "    </tr>\n",
       "    <tr>\n",
       "      <th>862325</th>\n",
       "      <td>3Jyl3B1cP+CYYgpEZRDwq5huDkB9qfNOqq3Lt1JYfXE=</td>\n",
       "      <td>0</td>\n",
       "      <td>97</td>\n",
       "      <td>201644</td>\n",
       "      <td>7</td>\n",
       "      <td>755</td>\n",
       "      <td>0</td>\n",
       "      <td>0</td>\n",
       "    </tr>\n",
       "    <tr>\n",
       "      <th>862326</th>\n",
       "      <td>3Jyl3B1cP+CYYgpEZRDwq5huDkB9qfNOqq3Lt1JYfXE=</td>\n",
       "      <td>0</td>\n",
       "      <td>98</td>\n",
       "      <td>201645</td>\n",
       "      <td>7</td>\n",
       "      <td>583</td>\n",
       "      <td>0</td>\n",
       "      <td>0</td>\n",
       "    </tr>\n",
       "    <tr>\n",
       "      <th>862327</th>\n",
       "      <td>3Jyl3B1cP+CYYgpEZRDwq5huDkB9qfNOqq3Lt1JYfXE=</td>\n",
       "      <td>0</td>\n",
       "      <td>99</td>\n",
       "      <td>201646</td>\n",
       "      <td>7</td>\n",
       "      <td>880</td>\n",
       "      <td>0</td>\n",
       "      <td>0</td>\n",
       "    </tr>\n",
       "    <tr>\n",
       "      <th>862328</th>\n",
       "      <td>3Jyl3B1cP+CYYgpEZRDwq5huDkB9qfNOqq3Lt1JYfXE=</td>\n",
       "      <td>0</td>\n",
       "      <td>100</td>\n",
       "      <td>201647</td>\n",
       "      <td>7</td>\n",
       "      <td>680</td>\n",
       "      <td>0</td>\n",
       "      <td>0</td>\n",
       "    </tr>\n",
       "    <tr>\n",
       "      <th>862329</th>\n",
       "      <td>3Jyl3B1cP+CYYgpEZRDwq5huDkB9qfNOqq3Lt1JYfXE=</td>\n",
       "      <td>0</td>\n",
       "      <td>101</td>\n",
       "      <td>201648</td>\n",
       "      <td>7</td>\n",
       "      <td>891</td>\n",
       "      <td>0</td>\n",
       "      <td>0</td>\n",
       "    </tr>\n",
       "    <tr>\n",
       "      <th>862330</th>\n",
       "      <td>3Jyl3B1cP+CYYgpEZRDwq5huDkB9qfNOqq3Lt1JYfXE=</td>\n",
       "      <td>0</td>\n",
       "      <td>102</td>\n",
       "      <td>201649</td>\n",
       "      <td>7</td>\n",
       "      <td>758</td>\n",
       "      <td>0</td>\n",
       "      <td>0</td>\n",
       "    </tr>\n",
       "    <tr>\n",
       "      <th>862331</th>\n",
       "      <td>3Jyl3B1cP+CYYgpEZRDwq5huDkB9qfNOqq3Lt1JYfXE=</td>\n",
       "      <td>0</td>\n",
       "      <td>103</td>\n",
       "      <td>201650</td>\n",
       "      <td>7</td>\n",
       "      <td>552</td>\n",
       "      <td>0</td>\n",
       "      <td>0</td>\n",
       "    </tr>\n",
       "    <tr>\n",
       "      <th>862332</th>\n",
       "      <td>3Jyl3B1cP+CYYgpEZRDwq5huDkB9qfNOqq3Lt1JYfXE=</td>\n",
       "      <td>0</td>\n",
       "      <td>104</td>\n",
       "      <td>201651</td>\n",
       "      <td>6</td>\n",
       "      <td>516</td>\n",
       "      <td>0</td>\n",
       "      <td>0</td>\n",
       "    </tr>\n",
       "    <tr>\n",
       "      <th>862333</th>\n",
       "      <td>3Jyl3B1cP+CYYgpEZRDwq5huDkB9qfNOqq3Lt1JYfXE=</td>\n",
       "      <td>0</td>\n",
       "      <td>105</td>\n",
       "      <td>201652</td>\n",
       "      <td>7</td>\n",
       "      <td>553</td>\n",
       "      <td>0</td>\n",
       "      <td>0</td>\n",
       "    </tr>\n",
       "    <tr>\n",
       "      <th>862334</th>\n",
       "      <td>3Jyl3B1cP+CYYgpEZRDwq5huDkB9qfNOqq3Lt1JYfXE=</td>\n",
       "      <td>0</td>\n",
       "      <td>106</td>\n",
       "      <td>201701</td>\n",
       "      <td>5</td>\n",
       "      <td>171</td>\n",
       "      <td>0</td>\n",
       "      <td>0</td>\n",
       "    </tr>\n",
       "    <tr>\n",
       "      <th>862335</th>\n",
       "      <td>3Jyl3B1cP+CYYgpEZRDwq5huDkB9qfNOqq3Lt1JYfXE=</td>\n",
       "      <td>0</td>\n",
       "      <td>107</td>\n",
       "      <td>201702</td>\n",
       "      <td>7</td>\n",
       "      <td>418</td>\n",
       "      <td>0</td>\n",
       "      <td>0</td>\n",
       "    </tr>\n",
       "    <tr>\n",
       "      <th>862336</th>\n",
       "      <td>3Jyl3B1cP+CYYgpEZRDwq5huDkB9qfNOqq3Lt1JYfXE=</td>\n",
       "      <td>0</td>\n",
       "      <td>108</td>\n",
       "      <td>201703</td>\n",
       "      <td>7</td>\n",
       "      <td>901</td>\n",
       "      <td>0</td>\n",
       "      <td>0</td>\n",
       "    </tr>\n",
       "    <tr>\n",
       "      <th>862337</th>\n",
       "      <td>3Jyl3B1cP+CYYgpEZRDwq5huDkB9qfNOqq3Lt1JYfXE=</td>\n",
       "      <td>0</td>\n",
       "      <td>109</td>\n",
       "      <td>201704</td>\n",
       "      <td>6</td>\n",
       "      <td>635</td>\n",
       "      <td>0</td>\n",
       "      <td>0</td>\n",
       "    </tr>\n",
       "    <tr>\n",
       "      <th>862338</th>\n",
       "      <td>3Jyl3B1cP+CYYgpEZRDwq5huDkB9qfNOqq3Lt1JYfXE=</td>\n",
       "      <td>0</td>\n",
       "      <td>110</td>\n",
       "      <td>201705</td>\n",
       "      <td>7</td>\n",
       "      <td>410</td>\n",
       "      <td>0</td>\n",
       "      <td>0</td>\n",
       "    </tr>\n",
       "    <tr>\n",
       "      <th>862339</th>\n",
       "      <td>3Jyl3B1cP+CYYgpEZRDwq5huDkB9qfNOqq3Lt1JYfXE=</td>\n",
       "      <td>0</td>\n",
       "      <td>111</td>\n",
       "      <td>201706</td>\n",
       "      <td>7</td>\n",
       "      <td>622</td>\n",
       "      <td>0</td>\n",
       "      <td>0</td>\n",
       "    </tr>\n",
       "    <tr>\n",
       "      <th>862340</th>\n",
       "      <td>3Jyl3B1cP+CYYgpEZRDwq5huDkB9qfNOqq3Lt1JYfXE=</td>\n",
       "      <td>0</td>\n",
       "      <td>112</td>\n",
       "      <td>201707</td>\n",
       "      <td>7</td>\n",
       "      <td>517</td>\n",
       "      <td>0</td>\n",
       "      <td>0</td>\n",
       "    </tr>\n",
       "    <tr>\n",
       "      <th>862341</th>\n",
       "      <td>3Jyl3B1cP+CYYgpEZRDwq5huDkB9qfNOqq3Lt1JYfXE=</td>\n",
       "      <td>0</td>\n",
       "      <td>113</td>\n",
       "      <td>201708</td>\n",
       "      <td>6</td>\n",
       "      <td>521</td>\n",
       "      <td>0</td>\n",
       "      <td>0</td>\n",
       "    </tr>\n",
       "    <tr>\n",
       "      <th>862342</th>\n",
       "      <td>3Jyl3B1cP+CYYgpEZRDwq5huDkB9qfNOqq3Lt1JYfXE=</td>\n",
       "      <td>0</td>\n",
       "      <td>114</td>\n",
       "      <td>201709</td>\n",
       "      <td>2</td>\n",
       "      <td>80</td>\n",
       "      <td>0</td>\n",
       "      <td>0</td>\n",
       "    </tr>\n",
       "  </tbody>\n",
       "</table>\n",
       "</div>"
      ],
      "text/plain": [
       "                                                msno  churn  yrWkIdx    yrWk  \\\n",
       "862297  3Jyl3B1cP+CYYgpEZRDwq5huDkB9qfNOqq3Lt1JYfXE=      0       69  201616   \n",
       "862298  3Jyl3B1cP+CYYgpEZRDwq5huDkB9qfNOqq3Lt1JYfXE=      0       70  201617   \n",
       "862299  3Jyl3B1cP+CYYgpEZRDwq5huDkB9qfNOqq3Lt1JYfXE=      0       71  201618   \n",
       "862300  3Jyl3B1cP+CYYgpEZRDwq5huDkB9qfNOqq3Lt1JYfXE=      0       72  201619   \n",
       "862301  3Jyl3B1cP+CYYgpEZRDwq5huDkB9qfNOqq3Lt1JYfXE=      0       73  201620   \n",
       "862302  3Jyl3B1cP+CYYgpEZRDwq5huDkB9qfNOqq3Lt1JYfXE=      0       74  201621   \n",
       "862303  3Jyl3B1cP+CYYgpEZRDwq5huDkB9qfNOqq3Lt1JYfXE=      0       75  201622   \n",
       "862304  3Jyl3B1cP+CYYgpEZRDwq5huDkB9qfNOqq3Lt1JYfXE=      0       76  201623   \n",
       "862305  3Jyl3B1cP+CYYgpEZRDwq5huDkB9qfNOqq3Lt1JYfXE=      0       77  201624   \n",
       "862306  3Jyl3B1cP+CYYgpEZRDwq5huDkB9qfNOqq3Lt1JYfXE=      0       78  201625   \n",
       "862307  3Jyl3B1cP+CYYgpEZRDwq5huDkB9qfNOqq3Lt1JYfXE=      0       79  201626   \n",
       "862308  3Jyl3B1cP+CYYgpEZRDwq5huDkB9qfNOqq3Lt1JYfXE=      0       80  201627   \n",
       "862309  3Jyl3B1cP+CYYgpEZRDwq5huDkB9qfNOqq3Lt1JYfXE=      0       81  201628   \n",
       "862310  3Jyl3B1cP+CYYgpEZRDwq5huDkB9qfNOqq3Lt1JYfXE=      0       82  201629   \n",
       "862311  3Jyl3B1cP+CYYgpEZRDwq5huDkB9qfNOqq3Lt1JYfXE=      0       83  201630   \n",
       "862312  3Jyl3B1cP+CYYgpEZRDwq5huDkB9qfNOqq3Lt1JYfXE=      0       84  201631   \n",
       "862313  3Jyl3B1cP+CYYgpEZRDwq5huDkB9qfNOqq3Lt1JYfXE=      0       85  201632   \n",
       "862314  3Jyl3B1cP+CYYgpEZRDwq5huDkB9qfNOqq3Lt1JYfXE=      0       86  201633   \n",
       "862315  3Jyl3B1cP+CYYgpEZRDwq5huDkB9qfNOqq3Lt1JYfXE=      0       87  201634   \n",
       "862316  3Jyl3B1cP+CYYgpEZRDwq5huDkB9qfNOqq3Lt1JYfXE=      0       88  201635   \n",
       "862317  3Jyl3B1cP+CYYgpEZRDwq5huDkB9qfNOqq3Lt1JYfXE=      0       89  201636   \n",
       "862318  3Jyl3B1cP+CYYgpEZRDwq5huDkB9qfNOqq3Lt1JYfXE=      0       90  201637   \n",
       "862319  3Jyl3B1cP+CYYgpEZRDwq5huDkB9qfNOqq3Lt1JYfXE=      0       91  201638   \n",
       "862320  3Jyl3B1cP+CYYgpEZRDwq5huDkB9qfNOqq3Lt1JYfXE=      0       92  201639   \n",
       "862321  3Jyl3B1cP+CYYgpEZRDwq5huDkB9qfNOqq3Lt1JYfXE=      0       93  201640   \n",
       "862322  3Jyl3B1cP+CYYgpEZRDwq5huDkB9qfNOqq3Lt1JYfXE=      0       94  201641   \n",
       "862323  3Jyl3B1cP+CYYgpEZRDwq5huDkB9qfNOqq3Lt1JYfXE=      0       95  201642   \n",
       "862324  3Jyl3B1cP+CYYgpEZRDwq5huDkB9qfNOqq3Lt1JYfXE=      0       96  201643   \n",
       "862325  3Jyl3B1cP+CYYgpEZRDwq5huDkB9qfNOqq3Lt1JYfXE=      0       97  201644   \n",
       "862326  3Jyl3B1cP+CYYgpEZRDwq5huDkB9qfNOqq3Lt1JYfXE=      0       98  201645   \n",
       "862327  3Jyl3B1cP+CYYgpEZRDwq5huDkB9qfNOqq3Lt1JYfXE=      0       99  201646   \n",
       "862328  3Jyl3B1cP+CYYgpEZRDwq5huDkB9qfNOqq3Lt1JYfXE=      0      100  201647   \n",
       "862329  3Jyl3B1cP+CYYgpEZRDwq5huDkB9qfNOqq3Lt1JYfXE=      0      101  201648   \n",
       "862330  3Jyl3B1cP+CYYgpEZRDwq5huDkB9qfNOqq3Lt1JYfXE=      0      102  201649   \n",
       "862331  3Jyl3B1cP+CYYgpEZRDwq5huDkB9qfNOqq3Lt1JYfXE=      0      103  201650   \n",
       "862332  3Jyl3B1cP+CYYgpEZRDwq5huDkB9qfNOqq3Lt1JYfXE=      0      104  201651   \n",
       "862333  3Jyl3B1cP+CYYgpEZRDwq5huDkB9qfNOqq3Lt1JYfXE=      0      105  201652   \n",
       "862334  3Jyl3B1cP+CYYgpEZRDwq5huDkB9qfNOqq3Lt1JYfXE=      0      106  201701   \n",
       "862335  3Jyl3B1cP+CYYgpEZRDwq5huDkB9qfNOqq3Lt1JYfXE=      0      107  201702   \n",
       "862336  3Jyl3B1cP+CYYgpEZRDwq5huDkB9qfNOqq3Lt1JYfXE=      0      108  201703   \n",
       "862337  3Jyl3B1cP+CYYgpEZRDwq5huDkB9qfNOqq3Lt1JYfXE=      0      109  201704   \n",
       "862338  3Jyl3B1cP+CYYgpEZRDwq5huDkB9qfNOqq3Lt1JYfXE=      0      110  201705   \n",
       "862339  3Jyl3B1cP+CYYgpEZRDwq5huDkB9qfNOqq3Lt1JYfXE=      0      111  201706   \n",
       "862340  3Jyl3B1cP+CYYgpEZRDwq5huDkB9qfNOqq3Lt1JYfXE=      0      112  201707   \n",
       "862341  3Jyl3B1cP+CYYgpEZRDwq5huDkB9qfNOqq3Lt1JYfXE=      0      113  201708   \n",
       "862342  3Jyl3B1cP+CYYgpEZRDwq5huDkB9qfNOqq3Lt1JYfXE=      0      114  201709   \n",
       "\n",
       "        daysActive  songs  noUsg  noUsgStrk  \n",
       "862297           2     21      0          0  \n",
       "862298           7    337      0          0  \n",
       "862299           6    265      0          0  \n",
       "862300           6    137      0          0  \n",
       "862301           3     87      0          0  \n",
       "862302           6    172      0          0  \n",
       "862303           0      0      1          1  \n",
       "862304           0      0      1          2  \n",
       "862305           0      0      1          3  \n",
       "862306           0      0      1          4  \n",
       "862307           0      0      1          5  \n",
       "862308           0      0      1          6  \n",
       "862309           0      0      1          7  \n",
       "862310           0      0      1          8  \n",
       "862311           0      0      1          9  \n",
       "862312           0      0      1         10  \n",
       "862313           0      0      1         11  \n",
       "862314           0      0      1         12  \n",
       "862315           0      0      1         13  \n",
       "862316           0      0      1         14  \n",
       "862317           0      0      1         15  \n",
       "862318           0      0      1         16  \n",
       "862319           0      0      1         17  \n",
       "862320           0      0      1         18  \n",
       "862321           0      0      1         19  \n",
       "862322           0      0      1         20  \n",
       "862323           7    234      0          0  \n",
       "862324           7    368      0          0  \n",
       "862325           7    755      0          0  \n",
       "862326           7    583      0          0  \n",
       "862327           7    880      0          0  \n",
       "862328           7    680      0          0  \n",
       "862329           7    891      0          0  \n",
       "862330           7    758      0          0  \n",
       "862331           7    552      0          0  \n",
       "862332           6    516      0          0  \n",
       "862333           7    553      0          0  \n",
       "862334           5    171      0          0  \n",
       "862335           7    418      0          0  \n",
       "862336           7    901      0          0  \n",
       "862337           6    635      0          0  \n",
       "862338           7    410      0          0  \n",
       "862339           7    622      0          0  \n",
       "862340           7    517      0          0  \n",
       "862341           6    521      0          0  \n",
       "862342           2     80      0          0  "
      ]
     },
     "execution_count": 40,
     "metadata": {},
     "output_type": "execute_result"
    }
   ],
   "source": [
    "dfaw[dfaw['msno']==demUsr]\n",
    "\n",
    "# notice (in below output) 0 values for weeks user did not use the service at all"
   ]
  },
  {
   "cell_type": "markdown",
   "metadata": {},
   "source": [
    "Now that we have week level data for each user since the week he started using the service, we can aggregate stats and build metrics for different time periods. This would help later in EDA to analyze difference in usage trends over time for churn vs. renew users."
   ]
  },
  {
   "cell_type": "code",
   "execution_count": 41,
   "metadata": {},
   "outputs": [],
   "source": [
    "# define a function to aggregate weekly usage metrics at user level for given weeks in past\n",
    "\n",
    "def aggUsgGivenWks(df, n=2):\n",
    "# aggregate week-level usage data to user-level for last n weeks\n",
    "# if n=0, then aggrgeation happens on lifetime usage\n",
    "\n",
    "    if n==0: # lifetime usage\n",
    "        dfgrp = df.groupby(['msno','churn'])\n",
    "    else:\n",
    "        dfgrp = df.groupby(['msno','churn']).tail(n).groupby(['msno','churn'])\n",
    "    \n",
    "    dfagg = dfgrp[['yrWk', 'daysActive', 'songs',\n",
    "                   'noUsg', 'noUsgStrk']].agg({'yrWk':'count', 'daysActive':'mean', 'songs':'mean',\n",
    "                                               'noUsg':'sum', 'noUsgStrk':'max'})\n",
    "    \n",
    "    dfagg.columns=['weeks','daysActivePerWk','songsPerWk','noUsgWks','noUsgStrkMax']\n",
    "    \n",
    "    dfagg['noUsgPct'] = dfagg['noUsgWks'].div(dfagg['weeks'])\n",
    "    \n",
    "    return dfagg.reset_index()"
   ]
  },
  {
   "cell_type": "code",
   "execution_count": 42,
   "metadata": {},
   "outputs": [
    {
     "name": "stdout",
     "output_type": "stream",
     "text": [
      "# users in dfawltd dataframe: 128294\n"
     ]
    }
   ],
   "source": [
    "# limit usage data to users who started using the service at least 8 weeks back\n",
    "# so that we have some amount of data to look into their \"recent\" behavior\n",
    "\n",
    "dfawltd = dfaw.groupby(['msno','churn']).filter(lambda x: len(x)>8)\n",
    "\n",
    "print('# users in dfawltd dataframe:', dfawltd['msno'].nunique())"
   ]
  },
  {
   "cell_type": "code",
   "execution_count": 43,
   "metadata": {},
   "outputs": [],
   "source": [
    "# aggregate weekly usage metrics at user level for given weeks in past\n",
    "# to try out if there was dip in immediate-past usage vs. near-past/lifetime usage\n",
    "\n",
    "# no limitation on number of weeks i.e. aggregate lifetime usage data\n",
    "dfaggLf   = aggUsgGivenWks(dfawltd, 0)\n",
    "\n",
    "# aggregate last 2 weeks of usage data - immediate-past usage\n",
    "dfaggIp  = aggUsgGivenWks(dfawltd, 2).drop(['noUsgPct','noUsgStrkMax'], axis=1)\n",
    "\n",
    "# aggregate last 8 weeks of usage data - near-past usage\n",
    "dfaggNp  = aggUsgGivenWks(dfawltd, 8).drop(['noUsgPct','noUsgStrkMax'], axis=1)"
   ]
  },
  {
   "cell_type": "code",
   "execution_count": 44,
   "metadata": {},
   "outputs": [],
   "source": [
    "# function to derive percentage change for a metric between two time-frames\n",
    "\n",
    "def derivePctChange(df, metric='daysActivePerWk', between=['Ip','Np']):\n",
    "    if between[1]=='Lf':\n",
    "        df['{}%Chg{}{}'.format(metric, between[0], between[1])] = ((df['{}{}'.format(metric, between[0])] - df['{}'.format(metric)]).div(df['{}'.format(metric)])).fillna(0)\n",
    "    else:\n",
    "        df['{}%Chg{}{}'.format(metric, between[0], between[1])] = ((df['{}{}'.format(metric, between[0])] - df['{}{}'.format(metric, between[1])]).div(df['{}{}'.format(metric, between[1])])).fillna(0)\n",
    "    return df"
   ]
  },
  {
   "cell_type": "code",
   "execution_count": 45,
   "metadata": {},
   "outputs": [
    {
     "data": {
      "text/html": [
       "<div>\n",
       "<style scoped>\n",
       "    .dataframe tbody tr th:only-of-type {\n",
       "        vertical-align: middle;\n",
       "    }\n",
       "\n",
       "    .dataframe tbody tr th {\n",
       "        vertical-align: top;\n",
       "    }\n",
       "\n",
       "    .dataframe thead th {\n",
       "        text-align: right;\n",
       "    }\n",
       "</style>\n",
       "<table border=\"1\" class=\"dataframe\">\n",
       "  <thead>\n",
       "    <tr style=\"text-align: right;\">\n",
       "      <th></th>\n",
       "      <th>msno</th>\n",
       "      <th>churn</th>\n",
       "      <th>weeksLf</th>\n",
       "      <th>noUsgWksLf</th>\n",
       "      <th>noUsgPctLf</th>\n",
       "      <th>noUsgStrkMaxLf</th>\n",
       "      <th>daysActivePerWkLf</th>\n",
       "      <th>songsPerWkLf</th>\n",
       "      <th>weeksIp</th>\n",
       "      <th>noUsgWksIp</th>\n",
       "      <th>...</th>\n",
       "      <th>weeksNp</th>\n",
       "      <th>noUsgWksNp</th>\n",
       "      <th>daysActivePerWkNp</th>\n",
       "      <th>songsPerWkNp</th>\n",
       "      <th>daysActivePerWk%ChgIpNp</th>\n",
       "      <th>songsPerWk%ChgIpNp</th>\n",
       "      <th>daysActivePerWk%ChgIpLf</th>\n",
       "      <th>songsPerWk%ChgIpLf</th>\n",
       "      <th>daysActivePerWk%ChgNpLf</th>\n",
       "      <th>songsPerWk%ChgNpLf</th>\n",
       "    </tr>\n",
       "  </thead>\n",
       "  <tbody>\n",
       "    <tr>\n",
       "      <th>0</th>\n",
       "      <td>+++snpr7pmobhLKUgSHTv/mpkqgBT0tQJ0zQj6qKrqc=</td>\n",
       "      <td>0</td>\n",
       "      <td>114</td>\n",
       "      <td>0</td>\n",
       "      <td>0.0</td>\n",
       "      <td>0</td>\n",
       "      <td>5.289474</td>\n",
       "      <td>312.157895</td>\n",
       "      <td>2</td>\n",
       "      <td>0</td>\n",
       "      <td>...</td>\n",
       "      <td>8</td>\n",
       "      <td>0</td>\n",
       "      <td>4.875</td>\n",
       "      <td>184.500</td>\n",
       "      <td>-0.179487</td>\n",
       "      <td>-0.298103</td>\n",
       "      <td>-0.243781</td>\n",
       "      <td>-0.585146</td>\n",
       "      <td>-0.078358</td>\n",
       "      <td>-0.408953</td>\n",
       "    </tr>\n",
       "    <tr>\n",
       "      <th>1</th>\n",
       "      <td>++/9R3sX37CjxbY/AaGvbwr3QkwElKBCtSvVzhCBDOk=</td>\n",
       "      <td>0</td>\n",
       "      <td>51</td>\n",
       "      <td>0</td>\n",
       "      <td>0.0</td>\n",
       "      <td>0</td>\n",
       "      <td>5.725490</td>\n",
       "      <td>152.941176</td>\n",
       "      <td>2</td>\n",
       "      <td>0</td>\n",
       "      <td>...</td>\n",
       "      <td>8</td>\n",
       "      <td>0</td>\n",
       "      <td>5.625</td>\n",
       "      <td>110.625</td>\n",
       "      <td>-0.200000</td>\n",
       "      <td>-0.407910</td>\n",
       "      <td>-0.214041</td>\n",
       "      <td>-0.571731</td>\n",
       "      <td>-0.017551</td>\n",
       "      <td>-0.276683</td>\n",
       "    </tr>\n",
       "  </tbody>\n",
       "</table>\n",
       "<p>2 rows × 22 columns</p>\n",
       "</div>"
      ],
      "text/plain": [
       "                                           msno  churn  weeksLf  noUsgWksLf  \\\n",
       "0  +++snpr7pmobhLKUgSHTv/mpkqgBT0tQJ0zQj6qKrqc=      0      114           0   \n",
       "1  ++/9R3sX37CjxbY/AaGvbwr3QkwElKBCtSvVzhCBDOk=      0       51           0   \n",
       "\n",
       "   noUsgPctLf  noUsgStrkMaxLf  daysActivePerWkLf  songsPerWkLf  weeksIp  \\\n",
       "0         0.0               0           5.289474    312.157895        2   \n",
       "1         0.0               0           5.725490    152.941176        2   \n",
       "\n",
       "   noUsgWksIp  ...  weeksNp  noUsgWksNp  daysActivePerWkNp  songsPerWkNp  \\\n",
       "0           0  ...        8           0              4.875       184.500   \n",
       "1           0  ...        8           0              5.625       110.625   \n",
       "\n",
       "   daysActivePerWk%ChgIpNp  songsPerWk%ChgIpNp  daysActivePerWk%ChgIpLf  \\\n",
       "0                -0.179487           -0.298103                -0.243781   \n",
       "1                -0.200000           -0.407910                -0.214041   \n",
       "\n",
       "   songsPerWk%ChgIpLf  daysActivePerWk%ChgNpLf  songsPerWk%ChgNpLf  \n",
       "0           -0.585146                -0.078358           -0.408953  \n",
       "1           -0.571731                -0.017551           -0.276683  \n",
       "\n",
       "[2 rows x 22 columns]"
      ]
     },
     "execution_count": 45,
     "metadata": {},
     "output_type": "execute_result"
    }
   ],
   "source": [
    "# join different time-period's usage metrics in one dataset to derive usage trend overtime\n",
    "\n",
    "# join immediate-past usage metrics with near-past usage metrics\n",
    "dfagg = dfaggIp.merge(dfaggNp, on=['msno','churn'], how='inner', suffixes=('Ip','Np')) \n",
    "# abbreviate immediate-past as \"Ip\" and near-past as \"Np\"\n",
    "\n",
    "# join immediate-past and near-past usage metrics with lifetime usage metrics\n",
    "dfagg = dfagg.merge(dfaggLf, on=['msno','churn'], how='inner', suffixes=('','Lf')) \n",
    "# abbreviate lifetime usage as \"Lf\"\n",
    "# remember Lf suffix isn't applied here, since the names are not common among Ip/Np metrics and lifetime metrics\n",
    "\n",
    "# derive % change in usage metrics - immediate-past vs. near-past\n",
    "dfagg = derivePctChange(dfagg, 'daysActivePerWk', ['Ip','Np'])\n",
    "dfagg = derivePctChange(dfagg, 'songsPerWk', ['Ip','Np'])\n",
    "\n",
    "# derive % change in usage metrics - immediate-past vs. lifetime\n",
    "dfagg = derivePctChange(dfagg, 'daysActivePerWk', ['Ip','Lf'])\n",
    "dfagg = derivePctChange(dfagg, 'songsPerWk', ['Ip','Lf'])\n",
    "\n",
    "# derive % change in usage metrics - near-past vs. lifetime\n",
    "dfagg = derivePctChange(dfagg, 'daysActivePerWk', ['Np','Lf'])\n",
    "dfagg = derivePctChange(dfagg, 'songsPerWk', ['Np','Lf'])\n",
    "\n",
    "# re-organize list of columns\n",
    "dfagg = dfagg[['msno', 'churn',\n",
    "               'weeks',  'noUsgWks', 'noUsgPct',  'noUsgStrkMax', 'daysActivePerWk', 'songsPerWk',\n",
    "               'weeksIp', 'noUsgWksIp', 'daysActivePerWkIp', 'songsPerWkIp', \n",
    "               'weeksNp', 'noUsgWksNp', 'daysActivePerWkNp', 'songsPerWkNp',\n",
    "               'daysActivePerWk%ChgIpNp', 'songsPerWk%ChgIpNp', \n",
    "               'daysActivePerWk%ChgIpLf', 'songsPerWk%ChgIpLf',\n",
    "               'daysActivePerWk%ChgNpLf', 'songsPerWk%ChgNpLf'\n",
    "              ]]\n",
    "\n",
    "# rename list of columns\n",
    "dfagg.columns = ['msno', 'churn',\n",
    "                 'weeksLf',  'noUsgWksLf', 'noUsgPctLf',  'noUsgStrkMaxLf', 'daysActivePerWkLf', 'songsPerWkLf',\n",
    "                 # notice that usage metrics for lifetime are suffixed with Lf now\n",
    "                 'weeksIp', 'noUsgWksIp', 'daysActivePerWkIp', 'songsPerWkIp', \n",
    "                 'weeksNp', 'noUsgWksNp', 'daysActivePerWkNp', 'songsPerWkNp',\n",
    "                 'daysActivePerWk%ChgIpNp', 'songsPerWk%ChgIpNp',\n",
    "                 'daysActivePerWk%ChgIpLf', 'songsPerWk%ChgIpLf',\n",
    "                 'daysActivePerWk%ChgNpLf', 'songsPerWk%ChgNpLf'\n",
    "                ]\n",
    "\n",
    "dfagg.head(2)"
   ]
  },
  {
   "cell_type": "code",
   "execution_count": 46,
   "metadata": {},
   "outputs": [
    {
     "data": {
      "text/html": [
       "<div>\n",
       "<style scoped>\n",
       "    .dataframe tbody tr th:only-of-type {\n",
       "        vertical-align: middle;\n",
       "    }\n",
       "\n",
       "    .dataframe tbody tr th {\n",
       "        vertical-align: top;\n",
       "    }\n",
       "\n",
       "    .dataframe thead th {\n",
       "        text-align: right;\n",
       "    }\n",
       "</style>\n",
       "<table border=\"1\" class=\"dataframe\">\n",
       "  <thead>\n",
       "    <tr style=\"text-align: right;\">\n",
       "      <th></th>\n",
       "      <th>msno</th>\n",
       "      <th>churn</th>\n",
       "      <th>weeksLf</th>\n",
       "      <th>noUsgWksLf</th>\n",
       "      <th>noUsgPctLf</th>\n",
       "      <th>noUsgStrkMaxLf</th>\n",
       "      <th>daysActivePerWkLf</th>\n",
       "      <th>songsPerWkLf</th>\n",
       "      <th>weeksIp</th>\n",
       "      <th>noUsgWksIp</th>\n",
       "      <th>...</th>\n",
       "      <th>weeksNp</th>\n",
       "      <th>noUsgWksNp</th>\n",
       "      <th>daysActivePerWkNp</th>\n",
       "      <th>songsPerWkNp</th>\n",
       "      <th>daysActivePerWk%ChgIpNp</th>\n",
       "      <th>songsPerWk%ChgIpNp</th>\n",
       "      <th>daysActivePerWk%ChgIpLf</th>\n",
       "      <th>songsPerWk%ChgIpLf</th>\n",
       "      <th>daysActivePerWk%ChgNpLf</th>\n",
       "      <th>songsPerWk%ChgNpLf</th>\n",
       "    </tr>\n",
       "  </thead>\n",
       "  <tbody>\n",
       "  </tbody>\n",
       "</table>\n",
       "<p>0 rows × 22 columns</p>\n",
       "</div>"
      ],
      "text/plain": [
       "Empty DataFrame\n",
       "Columns: [msno, churn, weeksLf, noUsgWksLf, noUsgPctLf, noUsgStrkMaxLf, daysActivePerWkLf, songsPerWkLf, weeksIp, noUsgWksIp, daysActivePerWkIp, songsPerWkIp, weeksNp, noUsgWksNp, daysActivePerWkNp, songsPerWkNp, daysActivePerWk%ChgIpNp, songsPerWk%ChgIpNp, daysActivePerWk%ChgIpLf, songsPerWk%ChgIpLf, daysActivePerWk%ChgNpLf, songsPerWk%ChgNpLf]\n",
       "Index: []\n",
       "\n",
       "[0 rows x 22 columns]"
      ]
     },
     "execution_count": 46,
     "metadata": {},
     "output_type": "execute_result"
    }
   ],
   "source": [
    "# verify that the grain of the data is user id\n",
    "\n",
    "dfagg[dfagg.duplicated(['msno'])]"
   ]
  },
  {
   "cell_type": "code",
   "execution_count": 47,
   "metadata": {},
   "outputs": [
    {
     "data": {
      "text/html": [
       "<div>\n",
       "<style scoped>\n",
       "    .dataframe tbody tr th:only-of-type {\n",
       "        vertical-align: middle;\n",
       "    }\n",
       "\n",
       "    .dataframe tbody tr th {\n",
       "        vertical-align: top;\n",
       "    }\n",
       "\n",
       "    .dataframe thead th {\n",
       "        text-align: right;\n",
       "    }\n",
       "</style>\n",
       "<table border=\"1\" class=\"dataframe\">\n",
       "  <thead>\n",
       "    <tr style=\"text-align: right;\">\n",
       "      <th></th>\n",
       "      <th>msno</th>\n",
       "      <th>churn</th>\n",
       "      <th>weeksLf</th>\n",
       "      <th>noUsgWksLf</th>\n",
       "      <th>noUsgPctLf</th>\n",
       "      <th>noUsgStrkMaxLf</th>\n",
       "      <th>daysActivePerWkLf</th>\n",
       "      <th>songsPerWkLf</th>\n",
       "      <th>weeksIp</th>\n",
       "      <th>noUsgWksIp</th>\n",
       "      <th>...</th>\n",
       "      <th>weeksNp</th>\n",
       "      <th>noUsgWksNp</th>\n",
       "      <th>daysActivePerWkNp</th>\n",
       "      <th>songsPerWkNp</th>\n",
       "      <th>daysActivePerWk%ChgIpNp</th>\n",
       "      <th>songsPerWk%ChgIpNp</th>\n",
       "      <th>daysActivePerWk%ChgIpLf</th>\n",
       "      <th>songsPerWk%ChgIpLf</th>\n",
       "      <th>daysActivePerWk%ChgNpLf</th>\n",
       "      <th>songsPerWk%ChgNpLf</th>\n",
       "    </tr>\n",
       "  </thead>\n",
       "  <tbody>\n",
       "    <tr>\n",
       "      <th>10735</th>\n",
       "      <td>3Jyl3B1cP+CYYgpEZRDwq5huDkB9qfNOqq3Lt1JYfXE=</td>\n",
       "      <td>0</td>\n",
       "      <td>46</td>\n",
       "      <td>20</td>\n",
       "      <td>0.434783</td>\n",
       "      <td>20</td>\n",
       "      <td>3.478261</td>\n",
       "      <td>262.26087</td>\n",
       "      <td>2</td>\n",
       "      <td>0</td>\n",
       "      <td>...</td>\n",
       "      <td>8</td>\n",
       "      <td>0</td>\n",
       "      <td>6.125</td>\n",
       "      <td>513.0</td>\n",
       "      <td>-0.346939</td>\n",
       "      <td>-0.41423</td>\n",
       "      <td>0.15</td>\n",
       "      <td>0.145806</td>\n",
       "      <td>0.760938</td>\n",
       "      <td>0.956068</td>\n",
       "    </tr>\n",
       "  </tbody>\n",
       "</table>\n",
       "<p>1 rows × 22 columns</p>\n",
       "</div>"
      ],
      "text/plain": [
       "                                               msno  churn  weeksLf  \\\n",
       "10735  3Jyl3B1cP+CYYgpEZRDwq5huDkB9qfNOqq3Lt1JYfXE=      0       46   \n",
       "\n",
       "       noUsgWksLf  noUsgPctLf  noUsgStrkMaxLf  daysActivePerWkLf  \\\n",
       "10735          20    0.434783              20           3.478261   \n",
       "\n",
       "       songsPerWkLf  weeksIp  noUsgWksIp  ...  weeksNp  noUsgWksNp  \\\n",
       "10735     262.26087        2           0  ...        8           0   \n",
       "\n",
       "       daysActivePerWkNp  songsPerWkNp  daysActivePerWk%ChgIpNp  \\\n",
       "10735              6.125         513.0                -0.346939   \n",
       "\n",
       "       songsPerWk%ChgIpNp  daysActivePerWk%ChgIpLf  songsPerWk%ChgIpLf  \\\n",
       "10735            -0.41423                     0.15            0.145806   \n",
       "\n",
       "       daysActivePerWk%ChgNpLf  songsPerWk%ChgNpLf  \n",
       "10735                 0.760938            0.956068  \n",
       "\n",
       "[1 rows x 22 columns]"
      ]
     },
     "execution_count": 47,
     "metadata": {},
     "output_type": "execute_result"
    }
   ],
   "source": [
    "dfagg[dfagg['msno']==demUsr]"
   ]
  },
  {
   "cell_type": "code",
   "execution_count": 48,
   "metadata": {},
   "outputs": [],
   "source": [
    "# save the data to be used for EDA later\n",
    "\n",
    "dfagg.to_csv(\"{}/{}\".format(dirData, fileUsgAggPeriods), index=False)"
   ]
  },
  {
   "cell_type": "markdown",
   "metadata": {},
   "source": [
    "### Building Feature Set"
   ]
  },
  {
   "cell_type": "markdown",
   "metadata": {},
   "source": [
    "Based on results of Exploratory Data Analysis, we join various user-level datasets and create one denormalized dataset containing all the potential features to be used later for statistical model training and testing later."
   ]
  },
  {
   "cell_type": "code",
   "execution_count": 49,
   "metadata": {},
   "outputs": [
    {
     "data": {
      "text/plain": [
       "(150000, 150000, 132507, 131428, 128294)"
      ]
     },
     "execution_count": 49,
     "metadata": {},
     "output_type": "execute_result"
    }
   ],
   "source": [
    "# count of users in each of the user-level dataset\n",
    "\n",
    "train['msno'].nunique(), lstrx['msno'].nunique(), reg['msno'].nunique(), adf['msno'].nunique(), dfagg['msno'].nunique()\n",
    "\n",
    "# dfagg has lower number of users than adf because we filtered out users who had not been using the service for at least 8 weeks"
   ]
  },
  {
   "cell_type": "code",
   "execution_count": 50,
   "metadata": {},
   "outputs": [
    {
     "data": {
      "text/plain": [
       "128293"
      ]
     },
     "execution_count": 50,
     "metadata": {},
     "output_type": "execute_result"
    }
   ],
   "source": [
    "# creating one denormalized dataset with all the relevant metrics for each user\n",
    "\n",
    "dnrm = lstrx.drop(['discAmt'], axis=1).merge(reg.drop('userAge', axis=1), on=['msno','churn'], how='inner')\n",
    "dnrm = dnrm.merge(adf[['msno','churn','daysLastLogin']], on=['msno','churn'], how='inner')\n",
    "dnrm = dnrm.merge(dfagg.drop(['weeksLf','weeksIp','weeksNp'], axis=1), on=['msno','churn'], how='inner')\n",
    "dnrm = dnrm[dnrm['msno'].isin(train['msno'])]\n",
    "\n",
    "dnrm['msno'].nunique()"
   ]
  },
  {
   "cell_type": "code",
   "execution_count": 51,
   "metadata": {},
   "outputs": [
    {
     "data": {
      "text/plain": [
       "0    0.935406\n",
       "1    0.064594\n",
       "Name: churn, dtype: float64"
      ]
     },
     "execution_count": 51,
     "metadata": {},
     "output_type": "execute_result"
    }
   ],
   "source": [
    "# renew-churn proportion in the denormalized feature set\n",
    "\n",
    "dnrm['churn'].value_counts(normalize=True)"
   ]
  },
  {
   "cell_type": "code",
   "execution_count": 52,
   "metadata": {},
   "outputs": [
    {
     "name": "stdout",
     "output_type": "stream",
     "text": [
      "Index(['msno', 'churn', 'cancel', 'autoRenew', 'payMethod', 'planTerm',\n",
      "       'daysLastTrx', 'regAge', 'city', 'regSrc', 'daysLastLogin',\n",
      "       'noUsgWksLf', 'noUsgPctLf', 'noUsgStrkMaxLf', 'daysActivePerWkLf',\n",
      "       'songsPerWkLf', 'noUsgWksIp', 'daysActivePerWkIp', 'songsPerWkIp',\n",
      "       'noUsgWksNp', 'daysActivePerWkNp', 'songsPerWkNp',\n",
      "       'daysActivePerWk%ChgIpNp', 'songsPerWk%ChgIpNp',\n",
      "       'daysActivePerWk%ChgIpLf', 'songsPerWk%ChgIpLf',\n",
      "       'daysActivePerWk%ChgNpLf', 'songsPerWk%ChgNpLf'],\n",
      "      dtype='object')\n"
     ]
    }
   ],
   "source": [
    "print(dnrm.columns)"
   ]
  },
  {
   "cell_type": "code",
   "execution_count": 53,
   "metadata": {},
   "outputs": [],
   "source": [
    "dnrm.to_csv(\"{}/{}\".format(dirData, fileDnrm), index=False)"
   ]
  }
 ],
 "metadata": {
  "kernelspec": {
   "display_name": "Python 3",
   "language": "python",
   "name": "python3"
  },
  "language_info": {
   "codemirror_mode": {
    "name": "ipython",
    "version": 3
   },
   "file_extension": ".py",
   "mimetype": "text/x-python",
   "name": "python",
   "nbconvert_exporter": "python",
   "pygments_lexer": "ipython3",
   "version": "3.7.9"
  }
 },
 "nbformat": 4,
 "nbformat_minor": 2
}
