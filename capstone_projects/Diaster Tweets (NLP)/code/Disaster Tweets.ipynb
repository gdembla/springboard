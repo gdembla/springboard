{
 "cells": [
  {
   "cell_type": "markdown",
   "metadata": {},
   "source": [
    "# Disaster Tweets\n",
    "\n",
    "The notebook explores the process of analyzing unstructured data and applying sophisticated NLP techniques such as token vectorization, word embedding and deep-learning algorithm, to predict whether a tweet denotes a disaster event."
   ]
  },
  {
   "cell_type": "code",
   "execution_count": 1,
   "metadata": {},
   "outputs": [],
   "source": [
    "# library for data manipulation\n",
    "import numpy as np\n",
    "import pandas as pd\n",
    "\n",
    "# library for visualization\n",
    "import matplotlib.pyplot as plt\n",
    "import seaborn as sns\n",
    "\n",
    "# library to clean up tweets: https://pypi.org/project/tweet-preprocessor/\n",
    "import preprocessor as tp\n",
    "\n",
    "# library for string matching using regular expressions\n",
    "import re\n",
    "\n",
    "# library for NLP tasks - document level embeddings\n",
    "import nltk\n",
    "import spacy\n",
    "import en_core_web_lg\n",
    "\n",
    "# create spacy text processing object using large vacobulary size\n",
    "nlp = en_core_web_lg.load()\n",
    "\n",
    "# functions to preprocess the data\n",
    "from sklearn.feature_extraction.text import TfidfVectorizer\n",
    "from sklearn.model_selection import train_test_split, StratifiedKFold, GridSearchCV\n",
    "\n",
    "# library for statistical learning models\n",
    "from sklearn.linear_model import LogisticRegression\n",
    "from sklearn.ensemble import RandomForestClassifier\n",
    "\n",
    "# library for LSTM implementation\n",
    "import tensorflow as tf\n",
    "\n",
    "# functions to assess performance of statistical models\n",
    "from sklearn.metrics import classification_report, confusion_matrix\n",
    "from sklearn.metrics import log_loss, accuracy_score, roc_auc_score, f1_score, precision_score, recall_score\n",
    "from scikitplot.metrics import plot_precision_recall, plot_roc\n",
    "\n",
    "# remove column length restriction in output of jupyter notebook\n",
    "pd.set_option('display.max_colwidth', -1)"
   ]
  },
  {
   "cell_type": "code",
   "execution_count": 2,
   "metadata": {},
   "outputs": [],
   "source": [
    "# version of packages making up the current virtual environment\n",
    "# information available in package_details.txt file as well"
   ]
  },
  {
   "cell_type": "code",
   "execution_count": 3,
   "metadata": {
    "scrolled": true
   },
   "outputs": [
    {
     "name": "stdout",
     "output_type": "stream",
     "text": [
      "absl-py==0.9.0\n",
      "afinn==0.1\n",
      "argcomplete==1.11.1\n",
      "argon2-cffi==20.1.0\n",
      "astor==0.8.1\n",
      "Note: you may need to restart the kernel to use updated packages.attrs==20.1.0\n",
      "backcall==0.2.0\n",
      "bleach==3.1.5\n",
      "boto==2.49.0\n",
      "boto3==1.14.56\n",
      "botocore==1.17.56\n",
      "brotlipy==0.7.0\n",
      "cachetools==4.1.1\n",
      "certifi==2020.6.20\n",
      "cffi==1.14.2\n",
      "chardet==3.0.4\n",
      "colorama==0.4.3\n",
      "cryptography==3.1\n",
      "cycler==0.10.0\n",
      "\n",
      "cymem==2.0.3\n",
      "cytoolz==0.9.0.1\n",
      "decorator==4.4.2\n",
      "defusedxml==0.6.0\n",
      "dill==0.2.9\n",
      "docutils==0.15.2\n",
      "DoubleMetaphone==0.1\n",
      "en-core-web-lg==2.0.0\n",
      "en-core-web-md==2.0.0\n",
      "en-core-web-sm==2.0.0\n",
      "entrypoints==0.3\n",
      "future==0.18.2\n",
      "gast==0.4.0\n",
      "gensim==3.8.0\n",
      "google-api-core==1.20.0\n",
      "google-auth==1.21.0\n",
      "google-cloud-core==1.4.1\n",
      "google-cloud-storage==1.28.1\n",
      "google-resumable-media==0.5.1\n",
      "googleapis-common-protos==1.52.0\n",
      "grpcio==1.31.0\n",
      "h5py==2.10.0\n",
      "idna==2.10\n",
      "imbalanced-learn==0.5.0\n",
      "imblearn==0.0\n",
      "importlib-metadata==1.7.0\n",
      "ipykernel==5.3.4\n",
      "ipython==7.18.1\n",
      "ipython-genutils==0.2.0\n",
      "ipywidgets==7.5.1\n",
      "jedi==0.17.2\n",
      "jellyfish==0.7.2\n",
      "Jinja2==2.11.2\n",
      "jmespath==0.10.0\n",
      "joblib==0.16.0\n",
      "jsonschema==3.2.0\n",
      "jupyter==1.0.0\n",
      "jupyter-client==6.1.6\n",
      "jupyter-console==6.2.0\n",
      "jupyter-core==4.6.3\n",
      "Keras==2.2.4\n",
      "Keras-Applications==1.0.8\n",
      "Keras-Preprocessing==1.1.0\n",
      "kiwisolver==1.2.0\n",
      "Markdown==3.2.2\n",
      "MarkupSafe==1.1.1\n",
      "matplotlib==3.3.1\n",
      "mistune==0.8.4\n",
      "mkl-fft==1.0.6\n",
      "mkl-random==1.0.1\n",
      "mock==4.0.2\n",
      "msgpack==0.6.1\n",
      "msgpack-numpy==0.4.3.2\n",
      "murmurhash==1.0.2\n",
      "nbconvert==5.6.1\n",
      "nbformat==5.0.7\n",
      "nltk==3.3\n",
      "notebook==6.1.1\n",
      "numpy==1.15.4\n",
      "olefile==0.46\n",
      "packaging==20.4\n",
      "pandas==0.23.4\n",
      "pandocfilters==1.4.2\n",
      "parso==0.7.0\n",
      "phonenumbers==8.12.2\n",
      "pickleshare==0.7.5\n",
      "Pillow==7.2.0\n",
      "Pint==0.11\n",
      "plac==0.9.6\n",
      "preshed==2.0.1\n",
      "probableparsing==0.0.1\n",
      "probablepeople==0.5.4\n",
      "prometheus-client==0.8.0\n",
      "prompt-toolkit==3.0.7\n",
      "protobuf==3.13.0\n",
      "pyasn1==0.4.8\n",
      "pyasn1-modules==0.2.8\n",
      "pycparser==2.20\n",
      "pydot==1.4.1\n",
      "Pygments==2.6.1\n",
      "pyOpenSSL==19.1.0\n",
      "pyparsing==2.4.7\n",
      "PyPDF2==1.26.0\n",
      "pyreadline==2.1\n",
      "pyrsistent==0.16.0\n",
      "PySocks==1.7.1\n",
      "python-crfsuite==0.9.7\n",
      "python-dateutil==2.8.1\n",
      "pytz==2020.1\n",
      "pywin32==227\n",
      "pywinpty==0.5.7\n",
      "PyYAML==5.3.1\n",
      "pyzmq==19.0.1\n",
      "qtconsole==4.7.6\n",
      "QtPy==1.9.0\n",
      "regex==2020.7.14\n",
      "requests==2.24.0\n",
      "rsa==4.6\n",
      "s3transfer==0.3.3\n",
      "scikit-learn==0.20.1\n",
      "scikit-plot==0.3.7\n",
      "scipy==1.1.0\n",
      "scrubadub==1.2.1\n",
      "seaborn==0.10.1\n",
      "Send2Trash==1.5.0\n",
      "six==1.15.0\n",
      "smart-open==2.1.0\n",
      "spacy==2.0.16\n",
      "TBB==0.1\n",
      "tensorboard==1.13.1\n",
      "tensorflow==1.13.1\n",
      "tensorflow-estimator==1.13.0\n",
      "termcolor==1.1.0\n",
      "terminado==0.8.3\n",
      "testpath==0.4.4\n",
      "textblob==0.15.3\n",
      "thinc==6.12.1\n",
      "toolz==0.10.0\n",
      "tornado==6.0.4\n",
      "tqdm==4.48.2\n",
      "traitlets==4.3.3\n",
      "tweet-preprocessor==0.6.0\n",
      "ujson==3.1.0\n",
      "urllib3==1.25.10\n",
      "usaddress==0.5.10\n",
      "wcwidth==0.2.5\n",
      "webencodings==0.5.1\n",
      "Werkzeug==1.0.1\n",
      "widgetsnbextension==3.5.1\n"
     ]
    }
   ],
   "source": [
    "pip freeze"
   ]
  },
  {
   "cell_type": "code",
   "execution_count": 4,
   "metadata": {},
   "outputs": [
    {
     "name": "stdout",
     "output_type": "stream",
     "text": [
      "win-inet-pton==1.1.0\n",
      "wincertstore==0.2\n",
      "wordcloud==1.7.0\n",
      "wrapt==1.10.11\n",
      "xgboost==1.1.1\n",
      "zipp==3.1.0\n",
      "Total CPU cores on the machine: 8\n",
      "Number of cores to be used: 4\n"
     ]
    }
   ],
   "source": [
    "# number of CPU cores in the machine\n",
    "# will be helpful in instantiating n_jobs parameter while training algorithms later\n",
    "\n",
    "import os\n",
    "cores = np.int(os.cpu_count()/2)\n",
    "\n",
    "print(\"Total CPU cores on the machine:\", cores*2)\n",
    "print(\"Number of cores to be used:\", cores)"
   ]
  },
  {
   "cell_type": "markdown",
   "metadata": {},
   "source": [
    "### Exploratory Data Analysis"
   ]
  },
  {
   "cell_type": "code",
   "execution_count": 5,
   "metadata": {
    "scrolled": true
   },
   "outputs": [
    {
     "data": {
      "text/html": [
       "<div>\n",
       "<style scoped>\n",
       "    .dataframe tbody tr th:only-of-type {\n",
       "        vertical-align: middle;\n",
       "    }\n",
       "\n",
       "    .dataframe tbody tr th {\n",
       "        vertical-align: top;\n",
       "    }\n",
       "\n",
       "    .dataframe thead th {\n",
       "        text-align: right;\n",
       "    }\n",
       "</style>\n",
       "<table border=\"1\" class=\"dataframe\">\n",
       "  <thead>\n",
       "    <tr style=\"text-align: right;\">\n",
       "      <th></th>\n",
       "      <th>id</th>\n",
       "      <th>keyword</th>\n",
       "      <th>location</th>\n",
       "      <th>text</th>\n",
       "      <th>target</th>\n",
       "    </tr>\n",
       "  </thead>\n",
       "  <tbody>\n",
       "    <tr>\n",
       "      <th>0</th>\n",
       "      <td>1</td>\n",
       "      <td>NaN</td>\n",
       "      <td>NaN</td>\n",
       "      <td>Our Deeds are the Reason of this #earthquake May ALLAH Forgive us all</td>\n",
       "      <td>1</td>\n",
       "    </tr>\n",
       "    <tr>\n",
       "      <th>1</th>\n",
       "      <td>4</td>\n",
       "      <td>NaN</td>\n",
       "      <td>NaN</td>\n",
       "      <td>Forest fire near La Ronge Sask. Canada</td>\n",
       "      <td>1</td>\n",
       "    </tr>\n",
       "    <tr>\n",
       "      <th>2</th>\n",
       "      <td>5</td>\n",
       "      <td>NaN</td>\n",
       "      <td>NaN</td>\n",
       "      <td>All residents asked to 'shelter in place' are being notified by officers. No other evacuation or shelter in place orders are expected</td>\n",
       "      <td>1</td>\n",
       "    </tr>\n",
       "    <tr>\n",
       "      <th>3</th>\n",
       "      <td>6</td>\n",
       "      <td>NaN</td>\n",
       "      <td>NaN</td>\n",
       "      <td>13,000 people receive #wildfires evacuation orders in California</td>\n",
       "      <td>1</td>\n",
       "    </tr>\n",
       "    <tr>\n",
       "      <th>4</th>\n",
       "      <td>7</td>\n",
       "      <td>NaN</td>\n",
       "      <td>NaN</td>\n",
       "      <td>Just got sent this photo from Ruby #Alaska as smoke from #wildfires pours into a school</td>\n",
       "      <td>1</td>\n",
       "    </tr>\n",
       "  </tbody>\n",
       "</table>\n",
       "</div>"
      ],
      "text/plain": [
       "   id keyword location  \\\n",
       "0  1   NaN     NaN       \n",
       "1  4   NaN     NaN       \n",
       "2  5   NaN     NaN       \n",
       "3  6   NaN     NaN       \n",
       "4  7   NaN     NaN       \n",
       "\n",
       "                                                                                                                                    text  \\\n",
       "0  Our Deeds are the Reason of this #earthquake May ALLAH Forgive us all                                                                   \n",
       "1  Forest fire near La Ronge Sask. Canada                                                                                                  \n",
       "2  All residents asked to 'shelter in place' are being notified by officers. No other evacuation or shelter in place orders are expected   \n",
       "3  13,000 people receive #wildfires evacuation orders in California                                                                        \n",
       "4  Just got sent this photo from Ruby #Alaska as smoke from #wildfires pours into a school                                                 \n",
       "\n",
       "   target  \n",
       "0  1       \n",
       "1  1       \n",
       "2  1       \n",
       "3  1       \n",
       "4  1       "
      ]
     },
     "execution_count": 5,
     "metadata": {},
     "output_type": "execute_result"
    }
   ],
   "source": [
    "# read data from csv into pandas dataframe\n",
    "\n",
    "df = pd.read_csv(\"data/raw/train.csv\")\n",
    "\n",
    "df.head()"
   ]
  },
  {
   "cell_type": "code",
   "execution_count": 6,
   "metadata": {},
   "outputs": [
    {
     "name": "stdout",
     "output_type": "stream",
     "text": [
      "<class 'pandas.core.frame.DataFrame'>\n",
      "RangeIndex: 7613 entries, 0 to 7612\n",
      "Data columns (total 5 columns):\n",
      "id          7613 non-null int64\n",
      "keyword     7552 non-null object\n",
      "location    5080 non-null object\n",
      "text        7613 non-null object\n",
      "target      7613 non-null int64\n",
      "dtypes: int64(2), object(3)\n",
      "memory usage: 297.5+ KB\n"
     ]
    }
   ],
   "source": [
    "# check nulls in each attribute\n",
    "\n",
    "df.info()"
   ]
  },
  {
   "cell_type": "code",
   "execution_count": 7,
   "metadata": {},
   "outputs": [
    {
     "data": {
      "text/plain": [
       "0    0.57034\n",
       "1    0.42966\n",
       "Name: target, dtype: float64"
      ]
     },
     "execution_count": 7,
     "metadata": {},
     "output_type": "execute_result"
    }
   ],
   "source": [
    "# distribution of disaster vs. non-disaster tweets\n",
    "\n",
    "df['target'].value_counts(normalize=True)\n",
    "\n",
    "# looks like a nearly balanced dataset"
   ]
  },
  {
   "cell_type": "code",
   "execution_count": 8,
   "metadata": {},
   "outputs": [],
   "source": [
    "# funtion to showcase base logloss value for a given target value distribution\n",
    "# base logloss indicates logloss for a naive model and provides a benchmark to beat through statistical learning\n",
    "\n",
    "def plot_LogLoss_FixedProb(yTrue):\n",
    "    \n",
    "    from numpy import array\n",
    "\n",
    "    # probability predictions as 0 to 1 in 0.01 increments\n",
    "    prob = [i*0.001 for i in range(0, 1001)]\n",
    "\n",
    "    # compute log_loss values for each value of probability fixed for the entire dataset\n",
    "    losses = [log_loss(yTrue, np.ones(yTrue.shape)*p, labels=[0,1]) for p in prob]        \n",
    "    minLogLoss = round(min(losses), 3)\n",
    "    \n",
    "    ymin = min(losses)\n",
    "    xmin = prob[losses.index(ymin)]\n",
    "\n",
    "    print('Balance in the dataset:\\n', round(yTrue.value_counts(normalize=True)*100, 2))\n",
    "    \n",
    "    # plot input to loss\n",
    "    plt.plot(prob, losses, label='LogLoss')\n",
    "    plt.title('Evaluating model with constant probability')\n",
    "    plt.xlabel('Predicted Probability')\n",
    "    plt.ylabel('Log Loss')\n",
    "    plt.annotate('Local min: (base log-loss of ' + str(minLogLoss) + '\\nat probability ' + str(prob[losses.index(ymin)]) + ')',\n",
    "                 xy=(xmin, ymin), xytext=(xmin, ymin+10),\n",
    "                arrowprops=dict(facecolor='black', shrink=0.05),\n",
    "                )\n",
    "    plt.annotate('Distribution (in %):\\n' + 'Class 0: ' + str(round(yTrue.value_counts(normalize=True)*100, 2)[0]) + '\\nClass 1: ' + str(round(yTrue.value_counts(normalize=True)*100, 2)[1]),\n",
    "                 xy=(0.1, max(losses)-5), xytext=(0.1, max(losses)-5))\n",
    "    \n",
    "    plt.show()"
   ]
  },
  {
   "cell_type": "code",
   "execution_count": 9,
   "metadata": {
    "scrolled": false
   },
   "outputs": [
    {
     "name": "stdout",
     "output_type": "stream",
     "text": [
      "Balance in the dataset:\n",
      " 0    57.03\n",
      "1    42.97\n",
      "Name: target, dtype: float64\n"
     ]
    },
    {
     "data": {
      "image/png": "[encoded data removed]",
      "text/plain": [
       "<Figure size 432x288 with 1 Axes>"
      ]
     },
     "metadata": {
      "needs_background": "light"
     },
     "output_type": "display_data"
    }
   ],
   "source": [
    "# base log-loss score of the naive model on training set\n",
    "\n",
    "plot_LogLoss_FixedProb(df['target'])\n",
    "\n",
    "# base logloss score is 0.683"
   ]
  },
  {
   "cell_type": "code",
   "execution_count": 10,
   "metadata": {},
   "outputs": [],
   "source": [
    "# function to extract matches out of list of parsed items\n",
    "# only if the parsed object exists, else the extraction throws an error\n",
    "\n",
    "def list_matches(z):\n",
    "    if z is not None:\n",
    "        return([i.match for i in z])"
   ]
  },
  {
   "cell_type": "code",
   "execution_count": 11,
   "metadata": {},
   "outputs": [
    {
     "data": {
      "text/html": [
       "<div>\n",
       "<style scoped>\n",
       "    .dataframe tbody tr th:only-of-type {\n",
       "        vertical-align: middle;\n",
       "    }\n",
       "\n",
       "    .dataframe tbody tr th {\n",
       "        vertical-align: top;\n",
       "    }\n",
       "\n",
       "    .dataframe thead th {\n",
       "        text-align: right;\n",
       "    }\n",
       "</style>\n",
       "<table border=\"1\" class=\"dataframe\">\n",
       "  <thead>\n",
       "    <tr style=\"text-align: right;\">\n",
       "      <th></th>\n",
       "      <th>id</th>\n",
       "      <th>keyword</th>\n",
       "      <th>location</th>\n",
       "      <th>text</th>\n",
       "      <th>target</th>\n",
       "      <th>emojs</th>\n",
       "    </tr>\n",
       "  </thead>\n",
       "  <tbody>\n",
       "  </tbody>\n",
       "</table>\n",
       "</div>"
      ],
      "text/plain": [
       "Empty DataFrame\n",
       "Columns: [id, keyword, location, text, target, emojs]\n",
       "Index: []"
      ]
     },
     "execution_count": 11,
     "metadata": {},
     "output_type": "execute_result"
    }
   ],
   "source": [
    "# do we have any emoji in the text?\n",
    "\n",
    "# set options on tweet preprocessor \n",
    "tp.set_options(tp.OPT.EMOJI)\n",
    "\n",
    "# parse document text to extract list of emojis within it\n",
    "df['emojs'] = df['text'].apply(lambda x: list_matches(tp.parse(x).emojis))\n",
    "\n",
    "# display non-null list of emojis\n",
    "df[~df['emojs'].isnull()]\n",
    "\n",
    "# there are no emojis in the text"
   ]
  },
  {
   "cell_type": "markdown",
   "metadata": {},
   "source": [
    "### Functions"
   ]
  },
  {
   "cell_type": "code",
   "execution_count": 12,
   "metadata": {},
   "outputs": [],
   "source": [
    "## Declare few functions to support data cleaning and model evaluation later"
   ]
  },
  {
   "cell_type": "code",
   "execution_count": 13,
   "metadata": {},
   "outputs": [],
   "source": [
    "# function to remove URLs, mentions and reserved keywords from text\n",
    "# takes in pandas series as input\n",
    "# output cleaner series\n",
    "\n",
    "def cursory_clean(srs):\n",
    "    # set options on tweet preprocessor \n",
    "    tp.set_options(tp.OPT.URL, tp.OPT.MENTION, tp.OPT.RESERVED)\n",
    "    srs = srs.apply(lambda x: tp.clean(x))\n",
    "    # alternative method of removing URLs\n",
    "    # srs.replace(to_replace=r'https?://?.*[\\r\\n]* ', value='', regex=True)\n",
    "\n",
    "    return srs"
   ]
  },
  {
   "cell_type": "code",
   "execution_count": 14,
   "metadata": {},
   "outputs": [],
   "source": [
    "# function to extract information about presence/absence of emoticons in text\n",
    "# takes in dataframe and text column as input\n",
    "# and output enhanced dataframe with two more columns denoting whether happy/sad emoticon was used in the tweet\n",
    "\n",
    "def extract_emoticons(df, text):\n",
    "\n",
    "    # list of smileys/emoticons parsed out of the text\n",
    "    tp.set_options(tp.OPT.SMILEY)\n",
    "    srsEmots = df[text].apply(lambda x: list_matches(tp.parse(x).smileys))\n",
    "    \n",
    "    # lists of happy and sad emoticons\n",
    "    happyEmots = set([':-)', ':)', ';)', ':o)', ':]', ':3', ':c)', ':>', '=]', '8)', '=)', ':}',\n",
    "                      ':^)', ':-D', ':D', '8-D', '8D', 'x-D', 'xD', 'X-D', 'XD', '=-D', '=D',\n",
    "                      '=-3', '=3', ':-))', \":'-)\", \":')\", ':*', ':^*', '>:P', ':-P', ':P', 'X-P',\n",
    "                      'x-p', 'xp', 'XP', ':-p', ':p', '=p', ':-b', ':b', '>:)', '>;)', '>:-)', '<3' ])\n",
    "    sadEmots = set([':L', ':-/', '>:/', ':S', '>:[', ':@', ':-(', ':[', ':-||', '=L', ':<', ':-[',\n",
    "                    ':-<', '=\\\\', '=/', '>:(', ':(', '>.<', \":'-(\", \":'(\", ':\\\\', ':-c', ':c', ':{', '>:\\\\', ';('])\n",
    "    emots = happyEmots.union(sadEmots)\n",
    "\n",
    "    # identify list, count and existence of happy vs. sad emoticons\n",
    "    srsHappyEmots = srsEmots.apply(lambda x: list(happyEmots.intersection(x)) if x is not None else x)\n",
    "    srsHappyEmotsCount = srsEmots.apply(lambda x: len(happyEmots.intersection(x)) if x is not None else x).fillna(0).astype('int')\n",
    "    srsHappyEmotsFlag = srsHappyEmotsCount.apply(lambda x: 1 if x>0 else 0).astype('int')\n",
    "    df['happyEmotsFlag'] = srsHappyEmotsFlag\n",
    "\n",
    "    srsSadEmots = srsEmots.apply(lambda x: list(sadEmots.intersection(x)) if x is not None else x)\n",
    "    srsSadEmotsCount = srsEmots.apply(lambda x: len(sadEmots.intersection(x)) if x is not None else x).fillna(0).astype('int')\n",
    "    srsSadEmotsFlag = srsSadEmotsCount.apply(lambda x: 1 if x>0 else 0).astype('int')\n",
    "    df['sadEmotsFlag'] = srsSadEmotsFlag\n",
    "    \n",
    "    return df"
   ]
  },
  {
   "cell_type": "code",
   "execution_count": 15,
   "metadata": {},
   "outputs": [],
   "source": [
    "# function to remove emoticons, punctuations, numbers, stopwords\n",
    "# and to lowercase and to lemmatize text\n",
    "# input is pandas series\n",
    "# output is pandas series\n",
    "\n",
    "def deep_clean(srs, lemmatizer='spacy'):\n",
    "    \n",
    "    # set options on tweet preprocessor to remove smileys/emoticons\n",
    "    tp.set_options(tp.OPT.SMILEY)\n",
    "    # remove smileys/emoticons\n",
    "    srs = srs.apply(lambda x: tp.clean(x))\n",
    "    \n",
    "    # regular expression to remove all punctuations (except `'` character), tabs and line breaks\n",
    "    rePunct = re.compile('[%s]' % re.escape('!\"#$%&()*+,-./:;<=>?@[\\\\]^_`{|}~\\t\\n\\''))\n",
    "    # remove punctuations and double whitespaces\n",
    "    srs = srs.apply(lambda x: rePunct.sub(\" \", x)).apply(lambda x: re.sub(\"  \", \" \", x))\n",
    "\n",
    "    # set options on tweet preprocessor to remove numbers\n",
    "    tp.set_options(tp.OPT.NUMBER)\n",
    "    # remove numbers\n",
    "    srs = srs.apply(lambda x: tp.clean(x))\n",
    "    # alternative method of removing numbers\n",
    "    #srs = srs.apply(lambda x: re.sub(r'\\d+', \"\", x))\n",
    "\n",
    "    # lower case text\n",
    "    srs = srs.str.lower()\n",
    "\n",
    "    # remove non-ascii characters from the text\n",
    "    #srs = srs.str.encode(\"ascii\", errors=\"ignore\").str.decode(\"ascii\") # this converts CarolinaåÊAblaze to CarolinaAblaze\n",
    "    srs = srs.apply(lambda x: re.sub(r'[^\\x00-\\x7F]+', \" \", x)) # this converts CarolinaåÊAblaze to Carolina Ablaze\n",
    "    \n",
    "    # define stopwords\n",
    "    stopwords=nltk.corpus.stopwords.words('english')\n",
    "    # remove stopwords\n",
    "    srs = srs.apply(lambda x: ' '.join([i for i in x.split() if i not in stopwords]))\n",
    "\n",
    "    if lemmatizer=='nltk': \n",
    "        # lemmatize using nltk library\n",
    "        # declare tokenizer and lemmatizer objects in nltk\n",
    "        wtk = nltk.tokenize.RegexpTokenizer(r'\\w+')\n",
    "        wnl = nltk.stem.wordnet.WordNetLemmatizer()\n",
    "        srs = srs.apply(lambda x: ' '.join([wnl.lemmatize(token) for token in wtk.tokenize(x)]))\n",
    "    else:\n",
    "        # lemmatize using spacy library\n",
    "        srs = srs.apply(lambda x: ' '.join([token.lemma_ for token in nlp(x) if token.lemma_!='-PRON-']))\n",
    "\n",
    "    return srs"
   ]
  },
  {
   "cell_type": "code",
   "execution_count": 16,
   "metadata": {},
   "outputs": [],
   "source": [
    "# function to tokenize the text object\n",
    "# input is pandas series\n",
    "# output is pandas series\n",
    "\n",
    "def tokenize(srs, tokenizer='nltk'):\n",
    "    if tokenizer=='nltk':\n",
    "        # tokenize using nltk\n",
    "        wtk = nltk.tokenize.RegexpTokenizer(r'\\w+')\n",
    "        srs = srs.apply(lambda x: [token for token in wtk.tokenize(x)])\n",
    "    elif tokenizer=='spacy':\n",
    "        # tokenize using spacy\n",
    "        srs = srs.apply(lambda x: [token for token in nlp(x)]) \n",
    "        #srs = srs.apply(lambda x: [token for token in nlp(x) if token.pos_ in ('VERB','NOUN','ADJ') and len(token)>1])\n",
    "            \n",
    "    return srs"
   ]
  },
  {
   "cell_type": "code",
   "execution_count": 17,
   "metadata": {},
   "outputs": [],
   "source": [
    "# function to calculate document-level word embeddings by averaging word vectors in the document\n",
    "# using spacy's inbuilt word embeddings\n",
    "\n",
    "def average_word_vectors(tokens, vectorlength=300):\n",
    "    docVector = np.zeros((vectorlength,), dtype=\"float64\")\n",
    "    nwords = 0\n",
    "\n",
    "    for token in tokens:\n",
    "        if token.has_vector: \n",
    "            nwords = nwords + 1\n",
    "            docVector = np.add(docVector, token.vector)\n",
    "    if nwords>0:\n",
    "        docVector = np.divide(docVector, nwords)\n",
    "\n",
    "    return docVector"
   ]
  },
  {
   "cell_type": "code",
   "execution_count": 18,
   "metadata": {},
   "outputs": [],
   "source": [
    "# function to search a grid of parameters to find the best ones\n",
    "\n",
    "def grid_search(clf, params, scoring, x, y):\n",
    "    \n",
    "    # create Grid Search object\n",
    "    gs = GridSearchCV(estimator=clf, param_grid=params, scoring=scoring, n_jobs=cores,\n",
    "                      cv=StratifiedKFold(n_splits=5, random_state=101), refit=True, return_train_score=False)\n",
    "    \n",
    "    gs.fit(x, y)\n",
    "    \n",
    "    print(\"Results of training and tuning the model -\\n\")\n",
    "    print(\"Best hyper-parameters: {}\".format(gs.best_params_))\n",
    "    if scoring=='neg_log_loss':\n",
    "        print(\"Best log loss: {}\".format(round(gs.best_score_ * -1, 3)))\n",
    "    elif scoring=='accuracy':\n",
    "        print(\"Best accuracy: {}\".format(round(gs.best_score_ * 100, 2)))\n",
    "    \n",
    "    return gs"
   ]
  },
  {
   "cell_type": "code",
   "execution_count": 19,
   "metadata": {},
   "outputs": [],
   "source": [
    "# function to calculate and summarize performance of the classification algorithm\n",
    "# input is the classifier, x, y and classifier library (sklearn/keras)\n",
    "\n",
    "def calculate_scores(clf, x, y, clflib='sklearn'):\n",
    "    \n",
    "    if clflib=='sklearn':\n",
    "        # predict probability of y\n",
    "        y_pred_prob = clf.predict_proba(x)[:,1]\n",
    "        # predict y\n",
    "        y_pred = clf.predict(x)\n",
    "    elif clflib=='keras':\n",
    "        # predict probability of y\n",
    "        y_pred_prob = clf.predict(x).ravel()\n",
    "        # predict y\n",
    "        y_pred = clf.predict_classes(x).ravel()\n",
    "    else:\n",
    "        print(\"Classifier library has to be either sklearn or keras!\")\n",
    "        return None\n",
    "    \n",
    "    logloss = round(log_loss(y, y_pred_prob), 4)\n",
    "    baselogloss = round(log_loss(y, np.full(y.shape, y.value_counts(normalize=True)[1])), 3)\n",
    "    rocauc = round(roc_auc_score(y, y_pred_prob), 3) \n",
    "    f1 = round(f1_score(y, y_pred) * 100, 1)\n",
    "    acc = round(accuracy_score(y, y_pred) * 100, 1)\n",
    "    prc = round(precision_score(y, y_pred) * 100, 1)\n",
    "    rcl = round(recall_score(y, y_pred) * 100, 1)\n",
    "    cnf = confusion_matrix(y, y_pred)\n",
    "\n",
    "    print(\"\\nResults of testing the model -\")\n",
    "    print('\\nLog-Loss:', logloss, \"\\tBase Log-Loss:\", baselogloss)\n",
    "    print('Precision:', prc, '\\tSensitivity/Recall: ', rcl)\n",
    "    print('F1 Score:', f1, ' ', '\\tAccuracy:', acc)\n",
    "    print('ROC AUC Score:', rocauc)\n",
    "    print('\\nConfusion Matrix: \\n', cnf)\n",
    "    \n",
    "    if clflib=='sklearn':\n",
    "        plot_roc(y, clf.predict_proba(x), classes_to_plot=[1], plot_micro=False, plot_macro=False)\n",
    "        plot_precision_recall(y, clf.predict_proba(x), classes_to_plot=[1], plot_micro=False)\n",
    "    elif clflib=='keras':\n",
    "        df = pd.DataFrame(y_pred_prob, columns=['prob_1'])\n",
    "        df['prob_0'] = 1- df['prob_1']\n",
    "        df = df[['prob_0', 'prob_1']]\n",
    "        plot_roc(y, df, classes_to_plot=[1], plot_micro=False, plot_macro=False)\n",
    "        plot_precision_recall(y, df, classes_to_plot=[1], plot_micro=False)\n",
    "    else:\n",
    "        print(\"Classifier library has to be either sklearn or keras!\")\n",
    "        return None"
   ]
  },
  {
   "cell_type": "markdown",
   "metadata": {},
   "source": [
    "### Data Cleaning"
   ]
  },
  {
   "cell_type": "code",
   "execution_count": 20,
   "metadata": {},
   "outputs": [],
   "source": [
    "# declare library to use for lemmatization - nltk or spacy\n",
    "lib = 'spacy'\n",
    "\n",
    "# cursory cleaning so that emoticons remain intact\n",
    "df['midCleanText'] = cursory_clean(df['text']) \n",
    "\n",
    "# extract infomration about emoticons\n",
    "df = extract_emoticons(df, 'midCleanText')\n",
    "\n",
    "# conduct final deep cleaning\n",
    "# lemmatize using spacy\n",
    "df['cleanText'] = deep_clean(df['midCleanText'], lib)"
   ]
  },
  {
   "cell_type": "code",
   "execution_count": 21,
   "metadata": {},
   "outputs": [
    {
     "data": {
      "text/html": [
       "<div>\n",
       "<style scoped>\n",
       "    .dataframe tbody tr th:only-of-type {\n",
       "        vertical-align: middle;\n",
       "    }\n",
       "\n",
       "    .dataframe tbody tr th {\n",
       "        vertical-align: top;\n",
       "    }\n",
       "\n",
       "    .dataframe thead th {\n",
       "        text-align: right;\n",
       "    }\n",
       "</style>\n",
       "<table border=\"1\" class=\"dataframe\">\n",
       "  <thead>\n",
       "    <tr style=\"text-align: right;\">\n",
       "      <th></th>\n",
       "      <th>id</th>\n",
       "      <th>keyword</th>\n",
       "      <th>location</th>\n",
       "      <th>text</th>\n",
       "      <th>target</th>\n",
       "      <th>emojs</th>\n",
       "      <th>midCleanText</th>\n",
       "      <th>happyEmotsFlag</th>\n",
       "      <th>sadEmotsFlag</th>\n",
       "      <th>cleanText</th>\n",
       "    </tr>\n",
       "  </thead>\n",
       "  <tbody>\n",
       "  </tbody>\n",
       "</table>\n",
       "</div>"
      ],
      "text/plain": [
       "Empty DataFrame\n",
       "Columns: [id, keyword, location, text, target, emojs, midCleanText, happyEmotsFlag, sadEmotsFlag, cleanText]\n",
       "Index: []"
      ]
     },
     "execution_count": 21,
     "metadata": {},
     "output_type": "execute_result"
    }
   ],
   "source": [
    "# check for null text\n",
    "\n",
    "df[df['cleanText'].isnull()]\n",
    "\n",
    "# there are no null strings\n",
    "# hence, moving ahead with all the data records for training"
   ]
  },
  {
   "cell_type": "markdown",
   "metadata": {},
   "source": [
    "### Tfidf Vectorization + Logistic Regression"
   ]
  },
  {
   "cell_type": "code",
   "execution_count": 22,
   "metadata": {},
   "outputs": [
    {
     "data": {
      "text/plain": [
       "((5329, 1783), (2284, 1783))"
      ]
     },
     "execution_count": 22,
     "metadata": {},
     "output_type": "execute_result"
    }
   ],
   "source": [
    "## prepare feature set and target label\n",
    "\n",
    "# define x and y\n",
    "x = df['cleanText']\n",
    "y = df['target']\n",
    "\n",
    "# generate raw training and validation (hold-out) datasets with clean tweets\n",
    "x_train_raw, x_test_raw, y_train, y_test = train_test_split(x, y, test_size=0.3, random_state=101)\n",
    "\n",
    "## generate tfidf vector from clean text\n",
    "\n",
    "# instantiate the vectorizer\n",
    "vectorizer = TfidfVectorizer(max_df=0.8, min_df=5)\n",
    "\n",
    "# build vectorizer model by fitting on training data\n",
    "x_train = pd.DataFrame(vectorizer.fit_transform(x_train_raw).toarray())\n",
    "\n",
    "# generate vector for holdout data using vectorizer fit on training data\n",
    "x_test = pd.DataFrame(vectorizer.transform(x_test_raw).toarray())\n",
    "\n",
    "# shape of training and hold-out feature sets\n",
    "x_train.shape, x_test.shape"
   ]
  },
  {
   "cell_type": "code",
   "execution_count": 24,
   "metadata": {},
   "outputs": [],
   "source": [
    "# set loss function for the classification algorithms\n",
    "\n",
    "scoring = 'neg_log_loss'\n",
    "#scoring = 'accuracy'"
   ]
  },
  {
   "cell_type": "code",
   "execution_count": 25,
   "metadata": {
    "scrolled": false
   },
   "outputs": [
    {
     "name": "stdout",
     "output_type": "stream",
     "text": [
      "Results of training and tuning the model -\n",
      "\n",
      "Best hyper-parameters: {'C': 3.0, 'penalty': 'l2', 'solver': 'newton-cg'}\n",
      "Best log loss: 0.463\n",
      "\n",
      "********************\n",
      "\n",
      "Results of testing the model -\n",
      "\n",
      "Log-Loss: 0.4685 \tBase Log-Loss: 0.68\n",
      "Precision: 77.4 \tSensitivity/Recall:  69.1\n",
      "F1 Score: 73.0   \tAccuracy: 78.7\n",
      "ROC AUC Score: 0.847\n",
      "\n",
      "Confusion Matrix: \n",
      " [[1138  192]\n",
      " [ 295  659]]\n"
     ]
    },
    {
     "data": {
      "image/png": "[encoded data removed]",
      "text/plain": [
       "<Figure size 432x288 with 1 Axes>"
      ]
     },
     "metadata": {
      "needs_background": "light"
     },
     "output_type": "display_data"
    },
    {
     "data": {
      "image/png": "[encoded data removed]",
      "text/plain": [
       "<Figure size 432x288 with 1 Axes>"
      ]
     },
     "metadata": {
      "needs_background": "light"
     },
     "output_type": "display_data"
    }
   ],
   "source": [
    "## Building and tuning Logistic Regression classifier\n",
    "\n",
    "# instantiate the classifier\n",
    "lg = LogisticRegression(random_state=101, n_jobs=cores)\n",
    "\n",
    "# define grid of parameters\n",
    "#params = {'penalty': ['l1'], 'C': [2.25, 2.5, 2.75], 'solver': ['liblinear','saga']}\n",
    "params = {'penalty': ['l2'], 'C': [2.5, 2.75, 3.0, 3.25, 3.5], 'solver': ['lbfgs','newton-cg']}\n",
    "\n",
    "# search the grid for best parameters - hyper parameter tuning\n",
    "gslgclf = grid_search(lg, params, scoring, x_train, y_train)\n",
    "\n",
    "# calculate classification scores on hold-out dataset\n",
    "print(\"\\n********************\")\n",
    "calculate_scores(gslgclf, x_test, y_test)"
   ]
  },
  {
   "cell_type": "markdown",
   "metadata": {},
   "source": [
    "### Document-level embeddings + Logistic Regression/Random Forest"
   ]
  },
  {
   "cell_type": "code",
   "execution_count": 26,
   "metadata": {},
   "outputs": [],
   "source": [
    "# create an attribute to store tokens for each document, upon using tokenization library\n",
    "# here, we use same library for tokenization as used for lemmatization in deep cleaning earlier\n",
    "    \n",
    "df['tokens'] = tokenize(df['cleanText'], lib)"
   ]
  },
  {
   "cell_type": "code",
   "execution_count": 27,
   "metadata": {
    "scrolled": true
   },
   "outputs": [
    {
     "data": {
      "text/plain": [
       "((5329, 302), (2284, 302))"
      ]
     },
     "execution_count": 27,
     "metadata": {},
     "output_type": "execute_result"
    }
   ],
   "source": [
    "## prepare feature set and target label\n",
    "\n",
    "# derive document-level embeddings by averaging embeddings of underlying tokens generated\n",
    "doc2vec = pd.DataFrame(list(df['tokens'].apply(lambda x: average_word_vectors(x))), index=df.index)\n",
    "\n",
    "# use dense document-level vectors and emoticon flags for final dataset\n",
    "x = pd.concat([doc2vec, df[['happyEmotsFlag','sadEmotsFlag']]], axis=1)\n",
    "y = df['target']\n",
    "\n",
    "# generate raw training and validation (hold-out) datasets\n",
    "x_train, x_test, y_train, y_test = train_test_split(x, y, test_size=0.3, random_state=101)\n",
    "\n",
    "# shape of training and hold-out feature sets\n",
    "x_train.shape, x_test.shape"
   ]
  },
  {
   "cell_type": "code",
   "execution_count": 28,
   "metadata": {},
   "outputs": [
    {
     "name": "stdout",
     "output_type": "stream",
     "text": [
      "Results of training and tuning the model -\n",
      "\n",
      "Best hyper-parameters: {'C': 0.25, 'penalty': 'l2', 'solver': 'newton-cg'}\n",
      "Best log loss: 0.471\n",
      "\n",
      "********************\n",
      "\n",
      "Results of testing the model -\n",
      "\n",
      "Log-Loss: 0.4676 \tBase Log-Loss: 0.68\n",
      "Precision: 77.5 \tSensitivity/Recall:  70.3\n",
      "F1 Score: 73.7   \tAccuracy: 79.1\n",
      "ROC AUC Score: 0.853\n",
      "\n",
      "Confusion Matrix: \n",
      " [[1135  195]\n",
      " [ 283  671]]\n"
     ]
    },
    {
     "data": {
      "image/png": "[encoded data removed]",
      "text/plain": [
       "<Figure size 432x288 with 1 Axes>"
      ]
     },
     "metadata": {
      "needs_background": "light"
     },
     "output_type": "display_data"
    },
    {
     "data": {
      "image/png": "[encoded data removed]",
      "text/plain": [
       "<Figure size 432x288 with 1 Axes>"
      ]
     },
     "metadata": {
      "needs_background": "light"
     },
     "output_type": "display_data"
    }
   ],
   "source": [
    "## Building and tuning Logistic Regression classifier\n",
    "\n",
    "# instantiate the classifier\n",
    "lg = LogisticRegression(random_state=101, n_jobs=cores)\n",
    "\n",
    "# define grid of parameters\n",
    "#params = {'penalty': ['l1'], 'C': [0.25, 0.5, 0.75], 'solver': ['liblinear','saga']}\n",
    "params = {'penalty': ['l2'], 'C': [0.1, 0.25, 0.5], 'solver': ['lbfgs','newton-cg']}\n",
    "\n",
    "# search the grid for best parameters - hyper parameter tuning\n",
    "gslgclf = grid_search(lg, params, scoring, x_train, y_train)\n",
    "\n",
    "# calculate classification scores on hold-out dataset\n",
    "print(\"\\n********************\")\n",
    "calculate_scores(gslgclf, x_test, y_test)"
   ]
  },
  {
   "cell_type": "code",
   "execution_count": 29,
   "metadata": {},
   "outputs": [
    {
     "name": "stdout",
     "output_type": "stream",
     "text": [
      "Results of training and tuning the model -\n",
      "\n",
      "Best hyper-parameters: {'criterion': 'entropy', 'max_depth': 13, 'min_samples_split': 10, 'n_estimators': 500}\n",
      "Best log loss: 0.471\n",
      "\n",
      "********************\n",
      "\n",
      "Results of testing the model -\n",
      "\n",
      "Log-Loss: 0.4713 \tBase Log-Loss: 0.68\n",
      "Precision: 83.5 \tSensitivity/Recall:  67.9\n",
      "F1 Score: 74.9   \tAccuracy: 81.0\n",
      "ROC AUC Score: 0.858\n",
      "\n",
      "Confusion Matrix: \n",
      " [[1202  128]\n",
      " [ 306  648]]\n"
     ]
    },
    {
     "data": {
      "image/png": "[encoded data removed]",
      "text/plain": [
       "<Figure size 432x288 with 1 Axes>"
      ]
     },
     "metadata": {
      "needs_background": "light"
     },
     "output_type": "display_data"
    },
    {
     "data": {
      "image/png": "[encoded data removed]",
      "text/plain": [
       "<Figure size 432x288 with 1 Axes>"
      ]
     },
     "metadata": {
      "needs_background": "light"
     },
     "output_type": "display_data"
    }
   ],
   "source": [
    "## Building and tuning Random Forest classifier\n",
    "## will take 15-20 minutes to run through\n",
    "\n",
    "# instantiate the classifier\n",
    "rfc = RandomForestClassifier(max_features='auto', n_jobs=cores, random_state=101)\n",
    "\n",
    "# define grid of parameters\n",
    "params = {'n_estimators': [400, 450, 500],\n",
    "          'max_depth': [11, 13, 15],\n",
    "          'min_samples_split': [7, 10, 13],\n",
    "          'criterion': ['entropy']}\n",
    "\n",
    "# search the grid for best parameters - hyper parameter tuning\n",
    "gsrfclf = grid_search(rfc, params, scoring, x_train, y_train)\n",
    "\n",
    "# calculate classification scores on hold-out dataset\n",
    "print(\"\\n********************\")\n",
    "calculate_scores(gsrfclf, x_test, y_test)"
   ]
  },
  {
   "cell_type": "markdown",
   "metadata": {},
   "source": [
    "### LSTM"
   ]
  },
  {
   "cell_type": "code",
   "execution_count": 30,
   "metadata": {},
   "outputs": [
    {
     "data": {
      "text/plain": [
       "((5329,), (2284,))"
      ]
     },
     "execution_count": 30,
     "metadata": {},
     "output_type": "execute_result"
    }
   ],
   "source": [
    "## prepare raw feature set and target label\n",
    "\n",
    "# define x and y\n",
    "x = df['cleanText']\n",
    "y = df['target']\n",
    "\n",
    "# generate raw training and validation (hold-out) datasets with clean tweets\n",
    "x_train_raw, x_test_raw, y_train, y_test = train_test_split(x, y, test_size=0.3, random_state=101)\n",
    "\n",
    "# shape of raw training and hold-out feature sets\n",
    "# final consumable datasets will be prepared in subsequent steps\n",
    "x_train_raw.shape, x_test_raw.shape"
   ]
  },
  {
   "cell_type": "code",
   "execution_count": 31,
   "metadata": {},
   "outputs": [
    {
     "name": "stdout",
     "output_type": "stream",
     "text": [
      "Vocabulary size=9661\n",
      "Number of Documents=5329\n"
     ]
    }
   ],
   "source": [
    "# build vocabulary on clean text with word and index pairs\n",
    "\n",
    "t = tf.keras.preprocessing.text.Tokenizer(split=' ', char_level=False,\n",
    "                                          #filters='!\"#$%&()*+,-./:;<=>?@[\\\\]^_`{|}~\\t\\n\\'', lower=True,\n",
    "                                          oov_token='<UNK>')\n",
    "\n",
    "# build vocabulary using training data only\n",
    "t.fit_on_texts(x_train_raw)\n",
    "\n",
    "# append a padding token in the vocabulary\n",
    "t.index_word[0] = '<PAD>'\n",
    "\n",
    "print(\"Vocabulary size={}\".format(len(t.word_index)))\n",
    "print(\"Number of Documents={}\".format(t.document_count))"
   ]
  },
  {
   "cell_type": "code",
   "execution_count": 32,
   "metadata": {},
   "outputs": [
    {
     "data": {
      "text/plain": [
       "('<UNK>', 1)"
      ]
     },
     "execution_count": 32,
     "metadata": {},
     "output_type": "execute_result"
    }
   ],
   "source": [
    "# lowest index in the vocabulary\n",
    "\n",
    "min([(k, v) for k, v in t.word_index.items()], key=lambda x: x[1])"
   ]
  },
  {
   "cell_type": "code",
   "execution_count": 33,
   "metadata": {},
   "outputs": [
    {
     "data": {
      "text/plain": [
       "('watchout', 9661)"
      ]
     },
     "execution_count": 33,
     "metadata": {},
     "output_type": "execute_result"
    }
   ],
   "source": [
    "# highest index in the vocabulary\n",
    "\n",
    "max([(k, v) for k, v in t.word_index.items()], key=lambda x: x[1])"
   ]
  },
  {
   "cell_type": "code",
   "execution_count": 34,
   "metadata": {},
   "outputs": [
    {
     "data": {
      "text/plain": [
       "('zurich', 5628)"
      ]
     },
     "execution_count": 34,
     "metadata": {},
     "output_type": "execute_result"
    }
   ],
   "source": [
    "# alphabetically highest item in the vocabulary\n",
    "\n",
    "max([(k, v) for k, v in t.word_index.items()])"
   ]
  },
  {
   "cell_type": "code",
   "execution_count": 35,
   "metadata": {},
   "outputs": [
    {
     "data": {
      "text/plain": [
       "[[406, 2253, 2254, 1577, 50, 110, 1578, 694, 2255, 2256],\n",
       " [1243, 3, 2257, 872, 4143, 656, 146, 450, 1244, 2849],\n",
       " [17, 254, 1836, 2850],\n",
       " [4144, 657, 2258, 4145, 6, 77, 1382, 2851, 1579, 40],\n",
       " [241, 1132, 306, 70, 70, 630, 531, 241, 115, 1026, 1837, 4146]]"
      ]
     },
     "execution_count": 35,
     "metadata": {},
     "output_type": "execute_result"
    }
   ],
   "source": [
    "## build variable-length numeric representation\n",
    "\n",
    "# select the most common words to select from the vocabulary\n",
    "# to build numeric sequences\n",
    "# tune it to build an optimum statistical model\n",
    "t.num_words=6300\n",
    "#t.num_words=None\n",
    "\n",
    "# convert each document into a (variable) sequence of numbers\n",
    "train_sequences = t.texts_to_sequences(x_train_raw)\n",
    "test_sequences = t.texts_to_sequences(x_test_raw)\n",
    "\n",
    "# display numeric representation of first 5 documents\n",
    "train_sequences[:5]"
   ]
  },
  {
   "cell_type": "code",
   "execution_count": 36,
   "metadata": {},
   "outputs": [
    {
     "data": {
      "text/html": [
       "<div>\n",
       "<style scoped>\n",
       "    .dataframe tbody tr th:only-of-type {\n",
       "        vertical-align: middle;\n",
       "    }\n",
       "\n",
       "    .dataframe tbody tr th {\n",
       "        vertical-align: top;\n",
       "    }\n",
       "\n",
       "    .dataframe thead th {\n",
       "        text-align: right;\n",
       "    }\n",
       "</style>\n",
       "<table border=\"1\" class=\"dataframe\">\n",
       "  <thead>\n",
       "    <tr style=\"text-align: right;\">\n",
       "      <th></th>\n",
       "      <th>0</th>\n",
       "      <th>1</th>\n",
       "      <th>2</th>\n",
       "      <th>3</th>\n",
       "      <th>4</th>\n",
       "      <th>5</th>\n",
       "      <th>6</th>\n",
       "      <th>7</th>\n",
       "      <th>8</th>\n",
       "      <th>9</th>\n",
       "      <th>...</th>\n",
       "      <th>16</th>\n",
       "      <th>17</th>\n",
       "      <th>18</th>\n",
       "      <th>19</th>\n",
       "      <th>20</th>\n",
       "      <th>21</th>\n",
       "      <th>22</th>\n",
       "      <th>23</th>\n",
       "      <th>24</th>\n",
       "      <th>25</th>\n",
       "    </tr>\n",
       "  </thead>\n",
       "  <tbody>\n",
       "    <tr>\n",
       "      <th>0</th>\n",
       "      <td>406</td>\n",
       "      <td>2253</td>\n",
       "      <td>2254</td>\n",
       "      <td>1577</td>\n",
       "      <td>50</td>\n",
       "      <td>110</td>\n",
       "      <td>1578</td>\n",
       "      <td>694</td>\n",
       "      <td>2255</td>\n",
       "      <td>2256</td>\n",
       "      <td>...</td>\n",
       "      <td>0</td>\n",
       "      <td>0</td>\n",
       "      <td>0</td>\n",
       "      <td>0</td>\n",
       "      <td>0</td>\n",
       "      <td>0</td>\n",
       "      <td>0</td>\n",
       "      <td>0</td>\n",
       "      <td>0</td>\n",
       "      <td>0</td>\n",
       "    </tr>\n",
       "    <tr>\n",
       "      <th>1</th>\n",
       "      <td>1243</td>\n",
       "      <td>3</td>\n",
       "      <td>2257</td>\n",
       "      <td>872</td>\n",
       "      <td>4143</td>\n",
       "      <td>656</td>\n",
       "      <td>146</td>\n",
       "      <td>450</td>\n",
       "      <td>1244</td>\n",
       "      <td>2849</td>\n",
       "      <td>...</td>\n",
       "      <td>0</td>\n",
       "      <td>0</td>\n",
       "      <td>0</td>\n",
       "      <td>0</td>\n",
       "      <td>0</td>\n",
       "      <td>0</td>\n",
       "      <td>0</td>\n",
       "      <td>0</td>\n",
       "      <td>0</td>\n",
       "      <td>0</td>\n",
       "    </tr>\n",
       "    <tr>\n",
       "      <th>2</th>\n",
       "      <td>17</td>\n",
       "      <td>254</td>\n",
       "      <td>1836</td>\n",
       "      <td>2850</td>\n",
       "      <td>0</td>\n",
       "      <td>0</td>\n",
       "      <td>0</td>\n",
       "      <td>0</td>\n",
       "      <td>0</td>\n",
       "      <td>0</td>\n",
       "      <td>...</td>\n",
       "      <td>0</td>\n",
       "      <td>0</td>\n",
       "      <td>0</td>\n",
       "      <td>0</td>\n",
       "      <td>0</td>\n",
       "      <td>0</td>\n",
       "      <td>0</td>\n",
       "      <td>0</td>\n",
       "      <td>0</td>\n",
       "      <td>0</td>\n",
       "    </tr>\n",
       "    <tr>\n",
       "      <th>3</th>\n",
       "      <td>4144</td>\n",
       "      <td>657</td>\n",
       "      <td>2258</td>\n",
       "      <td>4145</td>\n",
       "      <td>6</td>\n",
       "      <td>77</td>\n",
       "      <td>1382</td>\n",
       "      <td>2851</td>\n",
       "      <td>1579</td>\n",
       "      <td>40</td>\n",
       "      <td>...</td>\n",
       "      <td>0</td>\n",
       "      <td>0</td>\n",
       "      <td>0</td>\n",
       "      <td>0</td>\n",
       "      <td>0</td>\n",
       "      <td>0</td>\n",
       "      <td>0</td>\n",
       "      <td>0</td>\n",
       "      <td>0</td>\n",
       "      <td>0</td>\n",
       "    </tr>\n",
       "    <tr>\n",
       "      <th>4</th>\n",
       "      <td>241</td>\n",
       "      <td>1132</td>\n",
       "      <td>306</td>\n",
       "      <td>70</td>\n",
       "      <td>70</td>\n",
       "      <td>630</td>\n",
       "      <td>531</td>\n",
       "      <td>241</td>\n",
       "      <td>115</td>\n",
       "      <td>1026</td>\n",
       "      <td>...</td>\n",
       "      <td>0</td>\n",
       "      <td>0</td>\n",
       "      <td>0</td>\n",
       "      <td>0</td>\n",
       "      <td>0</td>\n",
       "      <td>0</td>\n",
       "      <td>0</td>\n",
       "      <td>0</td>\n",
       "      <td>0</td>\n",
       "      <td>0</td>\n",
       "    </tr>\n",
       "  </tbody>\n",
       "</table>\n",
       "<p>5 rows × 26 columns</p>\n",
       "</div>"
      ],
      "text/plain": [
       "      0     1     2     3     4    5     6     7     8     9 ...  16  17  18  \\\n",
       "0  406   2253  2254  1577  50    110  1578  694   2255  2256 ...  0   0   0    \n",
       "1  1243  3     2257  872   4143  656  146   450   1244  2849 ...  0   0   0    \n",
       "2  17    254   1836  2850  0     0    0     0     0     0    ...  0   0   0    \n",
       "3  4144  657   2258  4145  6     77   1382  2851  1579  40   ...  0   0   0    \n",
       "4  241   1132  306   70    70    630  531   241   115   1026 ...  0   0   0    \n",
       "\n",
       "   19  20  21  22  23  24  25  \n",
       "0  0   0   0   0   0   0   0   \n",
       "1  0   0   0   0   0   0   0   \n",
       "2  0   0   0   0   0   0   0   \n",
       "3  0   0   0   0   0   0   0   \n",
       "4  0   0   0   0   0   0   0   \n",
       "\n",
       "[5 rows x 26 columns]"
      ]
     },
     "execution_count": 36,
     "metadata": {},
     "output_type": "execute_result"
    }
   ],
   "source": [
    "## build fixed-length numeric representation\n",
    "\n",
    "# set maximum length of sequence as 3 more than the highest length available in the trianing data\n",
    "\n",
    "MAX_SEQUENCE_LENGTH = max([len(x) for x in train_sequences]) + 3\n",
    "\n",
    "# left pad each document to create fixed-length numeric sequence\n",
    "\n",
    "x_train = pd.DataFrame(tf.keras.preprocessing.sequence.pad_sequences(train_sequences, maxlen=MAX_SEQUENCE_LENGTH,\n",
    "                                                                     padding='post'))\n",
    "x_test = pd.DataFrame(tf.keras.preprocessing.sequence.pad_sequences(test_sequences, maxlen=MAX_SEQUENCE_LENGTH,\n",
    "                                                                    padding='post'))\n",
    "\n",
    "# display numeric representation of first 5 documents\n",
    "x_train[:5]"
   ]
  },
  {
   "cell_type": "code",
   "execution_count": 37,
   "metadata": {},
   "outputs": [
    {
     "data": {
      "text/plain": [
       "((5329, 26), (2284, 26))"
      ]
     },
     "execution_count": 37,
     "metadata": {},
     "output_type": "execute_result"
    }
   ],
   "source": [
    "# shape of final training and hold-out feature sets\n",
    "\n",
    "x_train.shape, x_test.shape"
   ]
  },
  {
   "cell_type": "code",
   "execution_count": 38,
   "metadata": {
    "scrolled": false
   },
   "outputs": [
    {
     "name": "stdout",
     "output_type": "stream",
     "text": [
      "WARNING:tensorflow:From C:\\Users\\gaura\\Anaconda3\\envs\\nlp_course\\lib\\site-packages\\tensorflow\\python\\ops\\resource_variable_ops.py:435: colocate_with (from tensorflow.python.framework.ops) is deprecated and will be removed in a future version.\n",
      "Instructions for updating:\n",
      "Colocations handled automatically by placer.\n",
      "_________________________________________________________________\n",
      "Layer (type)                 Output Shape              Param #   \n",
      "=================================================================\n",
      "embedding (Embedding)        (None, 26, 30)            189000    \n",
      "_________________________________________________________________\n",
      "lstm (LSTM)                  (None, 20)                4080      \n",
      "_________________________________________________________________\n",
      "dense (Dense)                (None, 256)               5376      \n",
      "_________________________________________________________________\n",
      "dense_1 (Dense)              (None, 1)                 257       \n",
      "=================================================================\n",
      "Total params: 198,713\n",
      "Trainable params: 198,713\n",
      "Non-trainable params: 0\n",
      "_________________________________________________________________\n"
     ]
    }
   ],
   "source": [
    "## LSTM model architecture\n",
    "\n",
    "# vocabulary size would be denoted by the number of words selected for the tokenizer to form numeric sequences\n",
    "if t.num_words==None:\n",
    "    VOCAB_SIZE = len(t.word_index)\n",
    "else:\n",
    "    VOCAB_SIZE = t.num_words-1\n",
    "\n",
    "# dimension for dense embeddings for each token\n",
    "EMBEDDING_DIM = 30\n",
    "\n",
    "# total LSTM units\n",
    "LSTM_DIM = 20\n",
    "\n",
    "# formulate the model design\n",
    "model = tf.keras.models.Sequential()\n",
    "model.add(tf.keras.layers.Embedding(input_dim=VOCAB_SIZE+1, output_dim=EMBEDDING_DIM, input_length=MAX_SEQUENCE_LENGTH))\n",
    "# Word Embedding layer will take as input an integer matrix of size (batch size, input_length, input_dim),\n",
    "# and the largest integer (i.e. word index) in the input should be no larger than the vocabulary size.\n",
    "# Output shape is (batch size, input_length, output_dim).\n",
    "model.add(tf.keras.layers.LSTM(LSTM_DIM, return_sequences=False))\n",
    "model.add(tf.keras.layers.Dense(256, activation='relu'))\n",
    "model.add(tf.keras.layers.Dense(1, activation='sigmoid'))\n",
    "\n",
    "# compile the model, while defining the loss function as log-loss aka binary_crossentropy\n",
    "model.compile(loss='binary_crossentropy', optimizer='adam', metrics=['accuracy'])\n",
    "\n",
    "model.summary()"
   ]
  },
  {
   "cell_type": "code",
   "execution_count": 39,
   "metadata": {
    "scrolled": false
   },
   "outputs": [
    {
     "name": "stdout",
     "output_type": "stream",
     "text": [
      "WARNING:tensorflow:From C:\\Users\\gaura\\Anaconda3\\envs\\nlp_course\\lib\\site-packages\\tensorflow\\python\\ops\\math_ops.py:3066: to_int32 (from tensorflow.python.ops.math_ops) is deprecated and will be removed in a future version.\n",
      "Instructions for updating:\n",
      "Use tf.cast instead.\n",
      "Restoring model weights from the end of the best epoch.\n",
      "Epoch 00008: early stopping\n",
      "\n",
      "Number of epochs run: 8\n",
      "\n",
      "Results of testing the model -\n",
      "\n",
      "Log-Loss: 0.4784 \tBase Log-Loss: 0.68\n",
      "Precision: 75.5 \tSensitivity/Recall:  73.5\n",
      "F1 Score: 74.5   \tAccuracy: 78.9\n",
      "ROC AUC Score: 0.852\n",
      "\n",
      "Confusion Matrix: \n",
      " [[1102  228]\n",
      " [ 253  701]]\n"
     ]
    },
    {
     "data": {
      "image/png": "[encoded data removed]",
      "text/plain": [
       "<Figure size 432x288 with 1 Axes>"
      ]
     },
     "metadata": {
      "needs_background": "light"
     },
     "output_type": "display_data"
    },
    {
     "data": {
      "image/png": "[encoded data removed]",
      "text/plain": [
       "<Figure size 432x288 with 1 Axes>"
      ]
     },
     "metadata": {
      "needs_background": "light"
     },
     "output_type": "display_data"
    }
   ],
   "source": [
    "## model training and testing\n",
    "\n",
    "## declare maximum number of epochs and batch size\n",
    "EPOCHS = 20\n",
    "# tune batch size based on hit-and-trial\n",
    "batch_size = 64\n",
    "\n",
    "# declare early stopping criteria\n",
    "# monitor validation loss (and not training loss, so do not enter 'loss')\n",
    "es = tf.keras.callbacks.EarlyStopping(monitor='val_loss', patience=5, restore_best_weights=True, verbose=1)\n",
    "\n",
    "# fit the model on training data, while allowing early stopping so that the model does not overfit\n",
    "history = model.fit(x_train, y_train, epochs=EPOCHS, batch_size=batch_size, callbacks=[es],\n",
    "                    shuffle=True, validation_split=0.25, verbose=0)\n",
    "\n",
    "# number of epochs run\n",
    "print(\"\\nNumber of epochs run: {}\".format(len(history.history['val_loss'])))\n",
    "\n",
    "# calculate classification scores on hold-out dataset\n",
    "calculate_scores(model, x_test, y_test, clflib='keras')\n",
    "# alternatively, model.evaluate() method could be used\n",
    "# model.evaluate(x_test, y_test, verbose=0)\n",
    "# the command outputs values of chosen loss function and chosen metric"
   ]
  },
  {
   "cell_type": "code",
   "execution_count": 40,
   "metadata": {
    "scrolled": false
   },
   "outputs": [
    {
     "data": {
      "image/png": "[encoded data removed]",
      "text/plain": [
       "<Figure size 500x700 with 2 Axes>"
      ]
     },
     "metadata": {
      "needs_background": "light"
     },
     "output_type": "display_data"
    }
   ],
   "source": [
    "## plot training performance over epochs\n",
    "\n",
    "# save training performance in a dataframe\n",
    "history = pd.DataFrame(history.history)\n",
    "history.index = history.index+1\n",
    "\n",
    "fig, ax = plt.subplots(2, 1, figsize=(5,7), dpi=100) \n",
    "\n",
    "# plot log-loss \n",
    "ax[0].plot(history['loss'])\n",
    "ax[0].plot(history['val_loss'])\n",
    "ax[0].set_title('Model Loss')\n",
    "ax[0].set_ylabel('Loss')\n",
    "ax[0].set_xlabel('Epoch')\n",
    "ax[0].set_xticks(np.arange(1, len(history)+1))\n",
    "ax[0].legend(['Training', 'Validation'], loc='upper left')\n",
    "\n",
    "# plot accuracy\n",
    "ax[1].plot(history['acc'])\n",
    "ax[1].plot(history['val_acc'])\n",
    "ax[1].set_title('Model Accuracy')\n",
    "ax[1].set_ylabel('Accuracy')\n",
    "ax[1].set_xlabel('Epoch')\n",
    "ax[1].set_xticks(np.arange(1, len(history)+1))\n",
    "ax[1].legend(['Training', 'Validation'], loc='upper left')\n",
    "\n",
    "plt.tight_layout()\n",
    "plt.show()"
   ]
  }
 ],
 "metadata": {
  "kernelspec": {
   "display_name": "Python 3",
   "language": "python",
   "name": "python3"
  },
  "language_info": {
   "codemirror_mode": {
    "name": "ipython",
    "version": 3
   },
   "file_extension": ".py",
   "mimetype": "text/x-python",
   "name": "python",
   "nbconvert_exporter": "python",
   "pygments_lexer": "ipython3",
   "version": "3.7.9"
  }
 },
 "nbformat": 4,
 "nbformat_minor": 4
}
