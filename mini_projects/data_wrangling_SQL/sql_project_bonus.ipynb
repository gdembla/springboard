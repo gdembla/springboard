{
 "cells": [
  {
   "cell_type": "code",
   "execution_count": 1,
   "metadata": {},
   "outputs": [],
   "source": [
    "from sqlalchemy import create_engine\n",
    "import pandas as pd"
   ]
  },
  {
   "cell_type": "code",
   "execution_count": null,
   "metadata": {},
   "outputs": [],
   "source": [
    "# creating a db interface using connection string \n",
    "\n",
    "dbcon_string = \"mysql://<user>:<password>@localhost:<port>\"\n",
    "db = create_engine(dbcon_string)"
   ]
  },
  {
   "cell_type": "markdown",
   "metadata": {},
   "source": [
    "<b>Q1</b>: Some of the facilities charge a fee to members, but some do not.\n",
    "Please list the names of the facilities that do."
   ]
  },
  {
   "cell_type": "code",
   "execution_count": 4,
   "metadata": {},
   "outputs": [
    {
     "data": {
      "text/plain": [
       "[('2', 'Badminton Court', 0.0, 15.5, 4000, 50),\n",
       " ('3', 'Table Tennis', 0.0, 5.0, 320, 10),\n",
       " ('7', 'Snooker Table', 0.0, 5.0, 450, 15),\n",
       " ('8', 'Pool Table', 0.0, 5.0, 400, 15)]"
      ]
     },
     "execution_count": 4,
     "metadata": {},
     "output_type": "execute_result"
    }
   ],
   "source": [
    "# sql query\n",
    "stmt = 'SELECT * FROM country_club.facilities WHERE membercost=0'\n",
    "\n",
    "## with context manager, connect to the db and execute the sql\n",
    "with db.connect() as con:\n",
    "    resultProxy = con.execute(stmt)\n",
    "\n",
    "# results of the sql execution as list of tuples\n",
    "resultSet = resultProxy.fetchall()\n",
    "resultSet"
   ]
  },
  {
   "cell_type": "markdown",
   "metadata": {},
   "source": [
    "<b>Q10</b>: Produce a list of facilities with a total revenue less than 1000.\n",
    "The output of facility name and total revenue, sorted by revenue. Remember\n",
    "that there's a different cost for guests and members!\n"
   ]
  },
  {
   "cell_type": "code",
   "execution_count": 6,
   "metadata": {},
   "outputs": [
    {
     "data": {
      "text/html": [
       "<div>\n",
       "<style scoped>\n",
       "    .dataframe tbody tr th:only-of-type {\n",
       "        vertical-align: middle;\n",
       "    }\n",
       "\n",
       "    .dataframe tbody tr th {\n",
       "        vertical-align: top;\n",
       "    }\n",
       "\n",
       "    .dataframe thead th {\n",
       "        text-align: right;\n",
       "    }\n",
       "</style>\n",
       "<table border=\"1\" class=\"dataframe\">\n",
       "  <thead>\n",
       "    <tr style=\"text-align: right;\">\n",
       "      <th></th>\n",
       "      <th>facility_name</th>\n",
       "      <th>revenue</th>\n",
       "    </tr>\n",
       "  </thead>\n",
       "  <tbody>\n",
       "    <tr>\n",
       "      <th>0</th>\n",
       "      <td>Table Tennis</td>\n",
       "      <td>360.0</td>\n",
       "    </tr>\n",
       "    <tr>\n",
       "      <th>1</th>\n",
       "      <td>Snooker Table</td>\n",
       "      <td>480.0</td>\n",
       "    </tr>\n",
       "    <tr>\n",
       "      <th>2</th>\n",
       "      <td>Pool Table</td>\n",
       "      <td>540.0</td>\n",
       "    </tr>\n",
       "  </tbody>\n",
       "</table>\n",
       "</div>"
      ],
      "text/plain": [
       "   facility_name  revenue\n",
       "0   Table Tennis    360.0\n",
       "1  Snooker Table    480.0\n",
       "2     Pool Table    540.0"
      ]
     },
     "execution_count": 6,
     "metadata": {},
     "output_type": "execute_result"
    }
   ],
   "source": [
    "# multi-line string\n",
    "\n",
    "stmt = '''\n",
    "    select facility_name, sum(cost) as revenue\n",
    "    from\n",
    "        (select\n",
    "              fac.name as facility_name\n",
    "            , concat(mem.firstname, \" \", mem.surname) as member_name\n",
    "            , case when mem.memid=0 then (fac.guestcost * 2 * bkg.slots)\n",
    "                    else (fac.membercost * 2 * bkg.slots)\n",
    "                end as cost\n",
    "        from\n",
    "              country_club.bookings bkg\n",
    "            , country_club.members mem\n",
    "            , country_club.facilities fac\n",
    "        where\n",
    "                bkg.memid = mem.memid\n",
    "            and bkg.facid = fac.facid\n",
    "        ) raw\n",
    "    group by facility_name\n",
    "    having sum(cost)<1000\n",
    "    order by sum(cost)\n",
    "'''\n",
    "## with context manager, connect to the db and execute the sql\n",
    "with db.connect() as con:\n",
    "    resultProxy = con.execute(stmt)\n",
    "\n",
    "# results of the sql execution in a dataframe\n",
    "resultSet = resultProxy.fetchall()\n",
    "pd.DataFrame(resultSet, columns=resultProxy.keys())"
   ]
  }
 ],
 "metadata": {
  "kernelspec": {
   "display_name": "Python 3",
   "language": "python",
   "name": "python3"
  },
  "language_info": {
   "codemirror_mode": {
    "name": "ipython",
    "version": 3
   },
   "file_extension": ".py",
   "mimetype": "text/x-python",
   "name": "python",
   "nbconvert_exporter": "python",
   "pygments_lexer": "ipython3",
   "version": "3.7.3"
  }
 },
 "nbformat": 4,
 "nbformat_minor": 2
}
